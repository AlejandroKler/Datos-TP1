{
 "cells": [
  {
   "cell_type": "markdown",
   "metadata": {},
   "source": [
    "### Configuracion inicial"
   ]
  },
  {
   "cell_type": "code",
   "execution_count": null,
   "metadata": {},
   "outputs": [],
   "source": [
    "#Importo librerias\n",
    "import pandas as pd\n",
    "import numpy as np\n",
    "import matplotlib.pyplot as plt\n",
    "import seaborn as sns\n",
    "from matplotlib.ticker import ScalarFormatter"
   ]
  },
  {
   "cell_type": "code",
   "execution_count": null,
   "metadata": {},
   "outputs": [],
   "source": [
    "%matplotlib inline\n",
    "plt.style.use('default')\n",
    "sns.set()"
   ]
  },
  {
   "cell_type": "code",
   "execution_count": null,
   "metadata": {},
   "outputs": [],
   "source": [
    "#Funciones auxiliares\n",
    "def mostrar_porcentaje_barplot(ax):\n",
    "    suma = 0\n",
    "    for p in ax.patches:\n",
    "        suma += p.get_height()\n",
    "    for p in ax.patches:\n",
    "        ax.annotate(str(np.round(100 *(p.get_height() / suma),decimals=2)) + \"%\", (p.get_x()+p.get_width()/2., p.get_height()), ha='center', va='center', xytext=(0, 10), textcoords='offset points')\n",
    "def mostrar_valores_barplot(ax):\n",
    "    for p in ax.patches:\n",
    "        ax.annotate(np.round(p.get_height(),decimals=2), (p.get_x()+p.get_width()/2., p.get_height()), ha='center', va='center', xytext=(0, 10), textcoords='offset points')"
   ]
  },
  {
   "cell_type": "code",
   "execution_count": null,
   "metadata": {},
   "outputs": [],
   "source": [
    "#Cargo el DataFrame\n",
    "df = pd.read_csv('events.csv', low_memory = False, parse_dates = ['timestamp'], infer_datetime_format = True,\n",
    "                    dtype = {'event': 'category','condition': 'category','storage': 'category', 'color': 'category', 'staticpage': 'category', 'campaign_source': 'category', 'search_engine': 'category', 'channel': 'category', 'new_vs_returning': 'category', 'region': 'category', 'country': 'category', 'device_type': 'category'})\n",
    "df.head()"
   ]
  },
  {
   "cell_type": "markdown",
   "metadata": {},
   "source": [
    "## Chequeos de integridad y calidad de los datos\n"
   ]
  },
  {
   "cell_type": "code",
   "execution_count": null,
   "metadata": {},
   "outputs": [],
   "source": [
    "df.info()"
   ]
  },
  {
   "cell_type": "markdown",
   "metadata": {},
   "source": [
    "Como podemos ver, todas las filas especifican 'timestamp', 'event' y 'person'"
   ]
  },
  {
   "cell_type": "markdown",
   "metadata": {},
   "source": [
    "### Analizamos los valores que pueden tomar las columnas categoricas"
   ]
  },
  {
   "cell_type": "code",
   "execution_count": null,
   "metadata": {},
   "outputs": [],
   "source": [
    "valores = df['condition'].unique()\n",
    "for valor in valores:\n",
    "    print(valor, end = ', ')"
   ]
  },
  {
   "cell_type": "code",
   "execution_count": null,
   "metadata": {},
   "outputs": [],
   "source": [
    "valores = df['storage'].unique()\n",
    "for valor in valores:\n",
    "    print(valor, end = ', ')"
   ]
  },
  {
   "cell_type": "code",
   "execution_count": null,
   "metadata": {},
   "outputs": [],
   "source": [
    "valores = df['channel'].unique()\n",
    "for valor in valores:\n",
    "    print(valor, end = ', ')"
   ]
  },
  {
   "cell_type": "code",
   "execution_count": null,
   "metadata": {},
   "outputs": [],
   "source": [
    "valores = df['staticpage'].unique()\n",
    "for valor in valores:\n",
    "    print(valor, end = ', ')"
   ]
  },
  {
   "cell_type": "markdown",
   "metadata": {},
   "source": [
    "## Analisis tipos de evento"
   ]
  },
  {
   "cell_type": "code",
   "execution_count": null,
   "metadata": {},
   "outputs": [],
   "source": [
    "colUsadasEventos = df.groupby(by = 'event').count()\n",
    "colUsadasEventos"
   ]
  },
  {
   "cell_type": "code",
   "execution_count": null,
   "metadata": {},
   "outputs": [],
   "source": [
    "columns = list(df)\n",
    "for event, row in colUsadasEventos.iterrows():\n",
    "    print(event, end = ':')\n",
    "    \n",
    "    for column in columns:\n",
    "        if(row.get(column) != 0):\n",
    "            print(' ' + column, end = ',')\n",
    "            \n",
    "    print()"
   ]
  },
  {
   "cell_type": "markdown",
   "metadata": {},
   "source": [
    "## Columnas usadas por cada evento\n",
    "\n",
    "Todos los eventos contienen informacion sobre **'timestamp'**, **'event'** y **'person'**, y ademas utilizan las siguientes columnas:\n",
    "\n",
    "**ad campaign hit:**\n",
    "    url, campaign_source\n",
    "\n",
    "**brand listing:**\n",
    "    skus\n",
    "\n",
    "**checkout:** \n",
    "    sku, model, condition, storage, color\n",
    "\n",
    "**conversion:**\n",
    "    sku, model, condition, storage, color\n",
    "\n",
    "**generic listing:**\n",
    "    skus\n",
    "\n",
    "**lead:**\n",
    "    model\n",
    "\n",
    "**search engine hit:** \n",
    "    search_engine\n",
    "\n",
    "**searched products:** \n",
    "    skus, search_term\n",
    "\n",
    "**staticpage:** \n",
    "    staticpage\n",
    "\n",
    "**viewed product:** \n",
    "    sku, model, condition, storage, color\n",
    "\n",
    "**visited site:** \n",
    "    channel, new_vs_returning, city, region, country, device_type, screen_resolution, operating_system_version, browser_version\n"
   ]
  }
 ],
 "metadata": {
  "kernelspec": {
   "display_name": "Python 3",
   "language": "python",
   "name": "python3"
  },
  "language_info": {
   "codemirror_mode": {
    "name": "ipython",
    "version": 3
   },
   "file_extension": ".py",
   "mimetype": "text/x-python",
   "name": "python",
   "nbconvert_exporter": "python",
   "pygments_lexer": "ipython3",
   "version": "3.6.5"
  }
 },
 "nbformat": 4,
 "nbformat_minor": 2
}
