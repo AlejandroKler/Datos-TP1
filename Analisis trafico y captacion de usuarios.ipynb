{
 "cells": [
  {
   "cell_type": "markdown",
   "metadata": {},
   "source": [
    "### Carga de datos"
   ]
  },
  {
   "cell_type": "code",
   "execution_count": null,
   "metadata": {},
   "outputs": [],
   "source": [
    "#Importo librerias\n",
    "import pandas as pd\n",
    "import numpy as np\n",
    "import matplotlib.pyplot as plt\n",
    "import seaborn as sns"
   ]
  },
  {
   "cell_type": "code",
   "execution_count": null,
   "metadata": {},
   "outputs": [],
   "source": [
    "%matplotlib inline\n",
    "plt.style.use('default')\n",
    "sns.set()"
   ]
  },
  {
   "cell_type": "code",
   "execution_count": null,
   "metadata": {},
   "outputs": [],
   "source": [
    "#Funciones auxiliares\n",
    "def mostrar_porcentaje_barplot(ax):\n",
    "    suma = 0\n",
    "    for p in ax.patches:\n",
    "        suma += p.get_height()\n",
    "    for p in ax.patches:\n",
    "        ax.annotate(str(np.round(100 *(p.get_height() / suma),decimals=2)) + \"%\", (p.get_x()+p.get_width()/2., p.get_height()), ha='center', va='center', xytext=(0, 10), textcoords='offset points')\n",
    "def mostrar_valores_barplot(ax):\n",
    "    for p in ax.patches:\n",
    "        ax.annotate(np.round(p.get_height(),decimals=2), (p.get_x()+p.get_width()/2., p.get_height()), ha='center', va='center', xytext=(0, 10), textcoords='offset points')"
   ]
  },
  {
   "cell_type": "code",
   "execution_count": null,
   "metadata": {},
   "outputs": [],
   "source": [
    "#Cargo el DataFrame\n",
    "df = pd.read_csv('events.csv', low_memory = False, parse_dates = ['timestamp'], infer_datetime_format = True,\n",
    "                    dtype = {'event': 'category','condition': 'category','storage': 'category', 'color': 'category', 'staticpage': 'category', 'campaign_source': 'category', 'search_engine': 'category', 'channel': 'category', 'new_vs_returning': 'category', 'region': 'category', 'country': 'category', 'device_type': 'category'})"
   ]
  },
  {
   "cell_type": "markdown",
   "metadata": {},
   "source": [
    "### Captacion de usuarios"
   ]
  },
  {
   "cell_type": "code",
   "execution_count": null,
   "metadata": {},
   "outputs": [],
   "source": [
    "personas_new_ret = df.loc[df[\"event\"] == \"visited site\", ['person', 'new_vs_returning']]\n",
    "personas_new_ret['returning_hits'] = personas_new_ret['new_vs_returning'] == 'Returning'\n",
    "personas_new_ret.drop(columns='new_vs_returning', inplace=True)\n",
    "personas_new_ret.head()"
   ]
  },
  {
   "cell_type": "code",
   "execution_count": null,
   "metadata": {},
   "outputs": [],
   "source": [
    "personas_ret_hits = personas_new_ret.groupby(by = 'person').agg({'returning_hits': np.count_nonzero})\n",
    "personas_ret_hits.head(10)"
   ]
  },
  {
   "cell_type": "code",
   "execution_count": null,
   "metadata": {},
   "outputs": [],
   "source": [
    "x = personas_ret_hits['returning_hits']\n",
    "x.value_counts().head(10)"
   ]
  },
  {
   "cell_type": "code",
   "execution_count": null,
   "metadata": {},
   "outputs": [],
   "source": [
    "ax = x.hist(bins = 50)\n",
    "ax.set_yscale('log')\n",
    "ax.set_title('Cantidad de usuarios según returning_hits')\n",
    "ax.set_xlabel('Cantidad de returning_hits')"
   ]
  },
  {
   "cell_type": "markdown",
   "metadata": {},
   "source": [
    "La mayoría de los usuarios ingresa al sitio una única vez"
   ]
  },
  {
   "cell_type": "code",
   "execution_count": null,
   "metadata": {},
   "outputs": [],
   "source": [
    "cant_returns = x.value_counts()\n",
    "cero_returns = cant_returns[0]\n",
    "uno_diez_returns = cant_returns[1:11].values.sum()\n",
    "diez_mas_returns = cant_returns[11:].values.sum()\n",
    "datos_returns = [cero_returns, uno_diez_returns, diez_mas_returns]\n",
    "x_labels = ['1', '2 - 10', '10+']\n",
    "ax = sns.barplot(x = x_labels, y = datos_returns)\n",
    "ax.set(xlabel='Cantidad de visitas al sitio', ylabel='Cantidad de Usuarios', title = 'Cantidad de usuarios segun veces que visitaron el sitio')"
   ]
  },
  {
   "cell_type": "markdown",
   "metadata": {},
   "source": [
    "La mayoria de los usuarios visita el sitio una única vez, mientras que solo una pequeña proporción volvió al sitio mas de 10 veces. Es posible que un mismo usuario entre desde dispositivos diferentes."
   ]
  },
  {
   "cell_type": "markdown",
   "metadata": {},
   "source": [
    "## Analisis temporal"
   ]
  },
  {
   "cell_type": "code",
   "execution_count": null,
   "metadata": {},
   "outputs": [],
   "source": [
    "#Analizamos periodo de los datos\n",
    "df['timestamp'].dt.year.value_counts()"
   ]
  },
  {
   "cell_type": "markdown",
   "metadata": {},
   "source": [
    "Todos los datos son de 2018"
   ]
  },
  {
   "cell_type": "code",
   "execution_count": null,
   "metadata": {},
   "outputs": [],
   "source": [
    "df['timestamp'].dt.month_name().value_counts()"
   ]
  },
  {
   "cell_type": "markdown",
   "metadata": {},
   "source": [
    "De los primeros dos trimestres del año"
   ]
  },
  {
   "cell_type": "code",
   "execution_count": null,
   "metadata": {},
   "outputs": [],
   "source": [
    "#Vamos a hacer un analisis sobre los dias en los que se produjeron los eventos\n",
    "dias_semana = df['timestamp'].dt.weekday_name\n",
    "dias_ordenados = ['Monday', 'Tuesday', 'Wednesday', 'Thursday', 'Friday', 'Saturday', 'Sunday']\n",
    "dias_semana = pd.Categorical(dias_semana, categories = dias_ordenados, ordered = True)\n",
    "g = dias_semana.value_counts().plot('bar', figsize = (9, 5))\n",
    "g.set_title('Cantidad de eventos por dia de la semana')\n",
    "g.set_xticklabels(['Lunes', 'Martes', 'Miercoles', 'Jueves', 'Viernes', 'Sabado', 'Domingo'])\n",
    "plt.xticks(rotation = 'horizontal')"
   ]
  },
  {
   "cell_type": "markdown",
   "metadata": {},
   "source": [
    "Vemos que durante el fin de semana el trafico es menor"
   ]
  },
  {
   "cell_type": "code",
   "execution_count": null,
   "metadata": {},
   "outputs": [],
   "source": [
    "tiempo_eventos = pd.DataFrame()\n",
    "tiempo_eventos['event'] = df['event']\n",
    "tiempo_eventos['dia_semana'] = df['timestamp'].dt.weekday_name\n",
    "tiempo_eventos['dia'] = df['timestamp'].dt.day\n",
    "tiempo_eventos['hora'] = df['timestamp'].dt.hour\n",
    "tiempo_eventos['mes'] = df['timestamp'].dt.month_name()\n",
    "\n",
    "#hora_weekday_organic = tiempo_eventos[tiempo_eventos['channel'] == 'organic'].groupby('dia_semana')['hora'].value_counts().to_frame()\n",
    "#hora_weekday_paid = tiempo_eventos[tiempo_eventos['channel'] == 'paid'].groupby('dia_semana')['hora'].value_counts().to_frame()\n",
    "\n",
    "hora_weekday_visitas = tiempo_eventos[tiempo_eventos['event'] == 'visited site'].groupby('dia_semana')['hora'].value_counts().to_frame()\n",
    "hora_weekday_visitas = hora_weekday_visitas.rename(columns = {'hora':'cant_casos'})\n",
    "hora_weekday_visitas = hora_weekday_visitas.reset_index('hora')\n",
    "hora_weekday_visitas.index = pd.CategoricalIndex(hora_weekday_visitas.index, categories= dias_ordenados)\n",
    "hora_weekday_visitas.sort_index(level=0, inplace=True)\n",
    "hora_weekday_visitas = hora_weekday_visitas.reset_index()\n",
    "\n",
    "dia_mes_visitas = tiempo_eventos[tiempo_eventos['event'] == 'visited site'].groupby('mes')['dia'].value_counts().to_frame()\n",
    "dia_mes_visitas = dia_mes_visitas.rename(columns = {'dia':'cant_casos'})\n",
    "dia_mes_visitas = dia_mes_visitas.reset_index('dia')\n",
    "dia_mes_visitas.index = pd.CategoricalIndex(dia_mes_visitas.index, categories= ['January', 'February', 'March', 'April', 'May', 'June'])\n",
    "dia_mes_visitas.sort_index(level=0, inplace=True)\n",
    "dia_mes_visitas = dia_mes_visitas.reset_index()"
   ]
  },
  {
   "cell_type": "code",
   "execution_count": null,
   "metadata": {},
   "outputs": [],
   "source": [
    "pivot = hora_weekday_visitas.pivot_table(index = 'dia_semana', columns = 'hora', values = 'cant_casos')\n",
    "cmap = sns.cm.rocket_r\n",
    "sns.set(rc={'figure.figsize':(13,4)})\n",
    "ax = sns.heatmap(data = pivot, cmap = cmap)\n",
    "ax.set(xlabel='Hora', ylabel='', title = 'Visitas segun hora del dia')\n",
    "ax.set_yticklabels(['Lunes', 'Martes', 'Miercoles', 'Jueves', 'Viernes', 'Sabado', 'Domingo'])"
   ]
  },
  {
   "cell_type": "markdown",
   "metadata": {},
   "source": [
    "Durante el fin de semana la cantidad de visitas es menor, mientras que la mayoria de las visitas se realizan entre las 12 y las 2"
   ]
  },
  {
   "cell_type": "code",
   "execution_count": null,
   "metadata": {},
   "outputs": [],
   "source": [
    "pivot = dia_mes_visitas.pivot_table(index = 'dia', columns = 'mes', values = 'cant_casos')\n",
    "cmap = sns.cm.rocket_r\n",
    "sns.set(rc={'figure.figsize':(12,12)})\n",
    "ax = sns.heatmap(data = pivot, cmap = cmap, annot = True, fmt=\".0f\")\n",
    "ax.set(xlabel='Mes', ylabel='Dia', title = 'Visitas 2018')\n",
    "ax.set_xticklabels(['Enero','Febrero','Marzo','Abril','Mayo','Junio'])"
   ]
  },
  {
   "cell_type": "markdown",
   "metadata": {},
   "source": [
    "Las visitas crecieron aceleradamente a lo largo del año, logrando un despegue a partir de mayo. Analizaremos las causas de esto mas adelante"
   ]
  },
  {
   "cell_type": "code",
   "execution_count": null,
   "metadata": {},
   "outputs": [],
   "source": [
    "usuarios_semanal = df.loc[df['event'] == 'visited site', ['timestamp', 'person']].copy()\n",
    "usuarios_semanal['semana'] = usuarios_semanal['timestamp'].dt.week - 1\n",
    "usuarios_semanal = usuarios_semanal.drop_duplicates(subset = ['semana', 'person'])\n",
    "usuarios_semanal = usuarios_semanal[usuarios_semanal['semana'] != usuarios_semanal['semana'].max()] #Borro la ultima semana incompleta\n",
    "usuarios_semanal['semana'] = pd.to_datetime('2018', format='%Y') + pd.to_timedelta(usuarios_semanal['semana'].mul(7).astype('str') + ' days')\n",
    "\n",
    "semanas = usuarios_semanal['semana'].value_counts().to_frame().sort_index()\n",
    "ax = semanas['semana'].plot()\n",
    "ax.set(xlabel='Semana', ylabel='Usuarios unicos')\n",
    "ax.set_title('Usuarios unicos semanales')"
   ]
  },
  {
   "cell_type": "code",
   "execution_count": null,
   "metadata": {},
   "outputs": [],
   "source": [
    "usuarios_semanal = df.loc[df['new_vs_returning'] == 'Returning', ['timestamp']].copy()\n",
    "usuarios_semanal['semana'] = usuarios_semanal['timestamp'].dt.week - 1\n",
    "usuarios_semanal = usuarios_semanal[usuarios_semanal['semana'] != usuarios_semanal['semana'].max()] #Borro la ultima semana incompleta\n",
    "usuarios_semanal['semana'] = pd.to_datetime('2018', format='%Y') + pd.to_timedelta(usuarios_semanal['semana'].mul(7).astype('str') + ' days')\n",
    "\n",
    "semanas = usuarios_semanal['semana'].value_counts().to_frame().sort_index()\n",
    "ax = semanas['semana'].plot()\n",
    "ax.set(xlabel='Semana', ylabel='Usuarios nuevos')\n",
    "ax.set_title('Usuarios nuevos semanales')"
   ]
  },
  {
   "cell_type": "markdown",
   "metadata": {},
   "source": [
    "La cantidad de usuarios nuevos que visitan el sitio disminuye a partir de la segunda semana de mayo"
   ]
  },
  {
   "cell_type": "markdown",
   "metadata": {},
   "source": [
    "## Origen de las visitas"
   ]
  },
  {
   "cell_type": "code",
   "execution_count": null,
   "metadata": {},
   "outputs": [],
   "source": [
    "visitas = df.loc[df[\"event\"] == \"visited site\", ['timestamp', 'person', 'channel', 'new_vs_returning', 'city', 'region', 'country', 'device_type', 'screen_resolution', 'operating_system_version', 'browser_version']]\n",
    "colors = {'Paid': 'navy', 'Direct': 'g', 'Organic': 'coral', 'Referral': 'm', 'Social': 'goldenrod', 'Email': 'k', 'Unknown': 'grey'}"
   ]
  },
  {
   "cell_type": "code",
   "execution_count": null,
   "metadata": {},
   "outputs": [],
   "source": [
    "valores = visitas['channel'].value_counts()\n",
    "ax = valores.plot(kind = 'bar', color=[colors.get(i) for i in valores.index])\n",
    "ax.set_title('Origen de las visitas')\n",
    "ax.set_ylabel('Cantidad')\n",
    "ax.set_xlabel('Channel')\n",
    "plt.xticks(rotation=0)\n",
    "mostrar_porcentaje_barplot(ax)"
   ]
  },
  {
   "cell_type": "markdown",
   "metadata": {},
   "source": [
    "### Origen de usuarios nuevos"
   ]
  },
  {
   "cell_type": "code",
   "execution_count": null,
   "metadata": {},
   "outputs": [],
   "source": [
    "valores = visitas[visitas['new_vs_returning'] == 'New']['channel'].value_counts()\n",
    "ax = valores.plot(kind = 'bar', color=[colors.get(i) for i in valores.index])\n",
    "ax.set_title('Origen de las visitas de usuarios nuevos')\n",
    "ax.set_ylabel('Cantidad')\n",
    "ax.set_xlabel('Channel')\n",
    "plt.xticks(rotation=0)\n",
    "mostrar_porcentaje_barplot(ax)"
   ]
  },
  {
   "cell_type": "markdown",
   "metadata": {},
   "source": [
    "#### Evolucion canales a lo largo del tiempo para usuarios nuevos"
   ]
  },
  {
   "cell_type": "code",
   "execution_count": null,
   "metadata": {},
   "outputs": [],
   "source": [
    "evolucion_semanal = visitas.copy()\n",
    "evolucion_semanal['mes'] = evolucion_semanal['timestamp'].dt.month\n",
    "evolucion_semanal = evolucion_semanal[evolucion_semanal['new_vs_returning'] == 'New']\n",
    "\n",
    "evolucion_semanal = pd.crosstab(evolucion_semanal['mes'], evolucion_semanal['channel'])\n",
    "evolucion_semanal = evolucion_semanal.div(evolucion_semanal.sum(axis=1), axis=0).multiply(100)\n",
    "\n",
    "ax = evolucion_semanal.plot(kind = 'area', figsize = (10,7))\n",
    "ax.legend(loc='center left', bbox_to_anchor=(1.0, 0.5))\n",
    "ax.set(xlabel='Mes', ylabel='Porcentaje', title = 'Proporcion de visitas usuarios nuevos por channel')"
   ]
  },
  {
   "cell_type": "markdown",
   "metadata": {},
   "source": [
    "Vemos que los porcentajes se mantienen mas o menos constantes a lo largo del tiempo"
   ]
  },
  {
   "cell_type": "markdown",
   "metadata": {},
   "source": [
    "### Origen usuarios no nuevos"
   ]
  },
  {
   "cell_type": "code",
   "execution_count": null,
   "metadata": {},
   "outputs": [],
   "source": [
    "valores = visitas[visitas['new_vs_returning'] == 'Returning']['channel'].value_counts()\n",
    "ax = valores.plot(kind = 'bar', color=[colors.get(i) for i in valores.index])\n",
    "ax.set_title('Origen de las visitas de usuarios no nuevos')\n",
    "ax.set_ylabel('Cantidad')\n",
    "ax.set_xlabel('Channel')\n",
    "plt.xticks(rotation=0)\n",
    "mostrar_porcentaje_barplot(ax)"
   ]
  },
  {
   "cell_type": "markdown",
   "metadata": {},
   "source": [
    "Vemos que el canal pago es el que mas visitas atrae, no solo para usuarios nuevos sino tambien para usuarios que ya habian entrado al sitio. Por otro lado, se puede ver como el canal \"Direct\" (tipeado de URL, acceso mediante favoritos y similares) toma protagonismo para visitas de usuarios que ya conocen el sitio. Pero esto puede ser causado por un pequeño numero de usuarios que visitan repetidas veces el sitio"
   ]
  },
  {
   "cell_type": "markdown",
   "metadata": {},
   "source": [
    "#### Evolución de los canales para visitas de usuarios no nuevos"
   ]
  },
  {
   "cell_type": "code",
   "execution_count": null,
   "metadata": {},
   "outputs": [],
   "source": [
    "evolucion_semanal = visitas\n",
    "evolucion_semanal['mes'] = evolucion_semanal['timestamp'].dt.month\n",
    "evolucion_semanal = evolucion_semanal[evolucion_semanal['new_vs_returning'] == 'Returning']\n",
    "\n",
    "evolucion_semanal = pd.crosstab(evolucion_semanal['mes'], evolucion_semanal['channel'])\n",
    "evolucion_semanal = evolucion_semanal.div(evolucion_semanal.sum(axis=1), axis=0).multiply(100)\n",
    "\n",
    "sns.set(rc={'figure.figsize':(12,12)})\n",
    "ax = evolucion_semanal.plot(kind = 'area')\n",
    "ax.legend(loc='center left', bbox_to_anchor=(1.0, 0.5))\n",
    "ax.set(xlabel='Mes', ylabel='Porcentaje', title = 'Proporcion de visitas usuarios no nuevos por channel')"
   ]
  },
  {
   "cell_type": "markdown",
   "metadata": {},
   "source": [
    "Vemos un aumento en proporcion del canal pago y una disminucion del canal directo a lo largo del tiempo."
   ]
  },
  {
   "cell_type": "markdown",
   "metadata": {},
   "source": [
    "Ahora tomaremos solo un metodo predominante de acceso al sitio por usuario, para usarios no nuevos"
   ]
  },
  {
   "cell_type": "code",
   "execution_count": null,
   "metadata": {},
   "outputs": [],
   "source": [
    "valores = visitas[visitas['new_vs_returning'] == 'Returning'].groupby('person')['channel'].value_counts()\n",
    "valores = valores.reset_index(level='channel', name='Counts')\n",
    "valores = valores[~valores.index.duplicated(keep='first')]['channel'].value_counts()\n",
    "                  \n",
    "ax = valores.plot(kind = 'bar', color=[colors.get(i) for i in valores.index])\n",
    "ax.set_title('Canal predominante de ingreso al sitio para usuarios no nuevos')\n",
    "ax.set_ylabel('Cantidad de usuarios')\n",
    "ax.set_xlabel('Evento predominante')\n",
    "plt.xticks(rotation=0)\n",
    "mostrar_porcentaje_barplot(ax)"
   ]
  },
  {
   "cell_type": "markdown",
   "metadata": {},
   "source": [
    "Vemos que en este caso el canal predominante de ingreso al sitio para usuarios no nuevos sigue siendo el canal pago, aunque con menor proporcion que para usuarios nuevos. El ingreso mediante \"referrals\" de otros sitios queda en segundo lugar, teniendo una proporcion mucho mayor que para usuarios nuevos."
   ]
  }
 ],
 "metadata": {
  "kernelspec": {
   "display_name": "Python 3",
   "language": "python",
   "name": "python3"
  },
  "language_info": {
   "codemirror_mode": {
    "name": "ipython",
    "version": 3
   },
   "file_extension": ".py",
   "mimetype": "text/x-python",
   "name": "python",
   "nbconvert_exporter": "python",
   "pygments_lexer": "ipython3",
   "version": "3.6.5"
  }
 },
 "nbformat": 4,
 "nbformat_minor": 2
}
