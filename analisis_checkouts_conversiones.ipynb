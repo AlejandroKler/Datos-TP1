{
 "cells": [
  {
   "cell_type": "code",
   "execution_count": null,
   "metadata": {},
   "outputs": [],
   "source": [
    "import pandas as pd\n",
    "import numpy as np\n",
    "import matplotlib.pyplot as plt\n",
    "import seaborn as sns\n",
    "from PIL import Image\n",
    "%matplotlib inline\n",
    "plt.style.use('default')\n",
    "sns.set()\n",
    "\n",
    "#Cargo el DataFrame\n",
    "df = pd.read_csv('events.csv', low_memory = False, parse_dates = ['timestamp'], infer_datetime_format = True,\n",
    "                    dtype = {'event': 'category','condition': 'category','storage': 'category', 'color': 'category', 'staticpage': 'category', 'campaign_source': 'category', 'search_engine': 'category', 'channel': 'category', 'new_vs_returning': 'category', 'region': 'category', 'country': 'category', 'device_type': 'category'})"
   ]
  },
  {
   "cell_type": "markdown",
   "metadata": {},
   "source": [
    "## Los usuarios que hicieron checkout. ¿Concretaron la conversión?"
   ]
  },
  {
   "cell_type": "code",
   "execution_count": null,
   "metadata": {},
   "outputs": [],
   "source": [
    "checkouts = df.loc[df['event'] == 'checkout',[\"sku\",\"timestamp\",\"person\",\"model\",\"condition\",\"storage\",\"color\"]]\n",
    "conversiones = df.loc[df['event'] == 'conversion',[\"sku\",\"timestamp\",\"person\",\"model\",\"condition\",\"storage\",\"color\"]]"
   ]
  },
  {
   "cell_type": "markdown",
   "metadata": {},
   "source": [
    "### Observemos la evolución de los checkouts en el tiempo"
   ]
  },
  {
   "cell_type": "code",
   "execution_count": null,
   "metadata": {},
   "outputs": [],
   "source": [
    "checkouts_by_day = df.loc[df['event'] == 'checkout',[\"timestamp\"]]\n",
    "checkouts_by_day[\"Fecha\"] = checkouts_by_day[\"timestamp\"].dt.date\n",
    "checkouts_by_day[\"Semana\"] = checkouts_by_day[\"timestamp\"].dt.week\n",
    "checkouts_by_day.drop(\"timestamp\", axis=1, inplace= True)\n",
    "checkouts_by_day[\"Checkouts\"] = 1\n",
    "\n",
    "checkouts_by_week = checkouts_by_day.groupby(by=\"Semana\").agg({\"Fecha\": \"first\", \"Checkouts\": \"count\"})\n",
    "checkouts_by_week = checkouts_by_week.iloc[0:-1] # elimino la ultima semana porque quedo con menos de 7 dias\n",
    "checkouts_by_day = checkouts_by_day.groupby(by=\"Fecha\")['Checkouts'].agg(\"count\")\n",
    "\n",
    "ax = checkouts_by_week.set_index('Fecha').plot(figsize=(10,5)\\\n",
    "    ,fontsize=14,title='Evolución de Checkouts')\n",
    "ax.set(xlabel='Fecha', ylabel='Cantidad semanal')"
   ]
  },
  {
   "cell_type": "markdown",
   "metadata": {},
   "source": [
    "Aparentemente, algo ocurrió a mitad de Mayo. Haciendo zoom podemos ver que el 14 comenzaron a aumentar los checkouts."
   ]
  },
  {
   "cell_type": "code",
   "execution_count": null,
   "metadata": {},
   "outputs": [],
   "source": [
    "acotado = checkouts_by_day.loc[pd.to_datetime(\"2018-05-11\").date() : pd.to_datetime(\"2018-05-18\").date()]\n",
    "\n",
    "ax = acotado.plot(marker=\".\",markersize=\"20\",figsize=(10,5))\n",
    "ax.set(xlabel='Día', ylabel='Cantidad de checkouts')\n",
    "ax.set_title('Checkouts del 11 al 18 de Mayo')"
   ]
  },
  {
   "cell_type": "markdown",
   "metadata": {},
   "source": [
    "Ahora analicemos la evolución de las conversiones."
   ]
  },
  {
   "cell_type": "code",
   "execution_count": null,
   "metadata": {},
   "outputs": [],
   "source": [
    "conversiones_by_week = df.loc[df['event'] == 'conversion',[\"timestamp\"]]\n",
    "conversiones_by_week[\"Fecha\"] = conversiones_by_week[\"timestamp\"].dt.date\n",
    "conversiones_by_week[\"Semana\"] = conversiones_by_week[\"timestamp\"].dt.week\n",
    "conversiones_by_week.drop(\"timestamp\", axis=1, inplace= True)\n",
    "conversiones_by_week[\"Conversiones\"] = 1\n",
    "conversiones_by_week = conversiones_by_week.groupby(by=\"Semana\").agg({\"Fecha\": \"first\", \"Conversiones\": \"count\"})#.set_index('Fecha')\n",
    "conversiones_by_week = conversiones_by_week.iloc[0:-1]\n",
    "\n",
    "p = conversiones_by_week.set_index('Fecha').plot(figsize=(10,5))\n",
    "p.set(ylabel='Cantidad semanal')\n",
    "p.set_title('Evolución de Conversiones')"
   ]
  },
  {
   "cell_type": "markdown",
   "metadata": {},
   "source": [
    "Veamos si hay correlación entre el aumento de checkouts y las conversiones."
   ]
  },
  {
   "cell_type": "code",
   "execution_count": null,
   "metadata": {},
   "outputs": [],
   "source": [
    "fig, ax1 = plt.subplots()\n",
    "\n",
    "color = 'tab:green'\n",
    "ax1.set_xlabel('Fecha')\n",
    "ax1.set_ylabel('Checkouts semanales', color=color)\n",
    "ax1.plot(checkouts_by_week.set_index('Fecha'), color=color)\n",
    "ax1.tick_params(axis='y', labelcolor=color)\n",
    "\n",
    "ax2 = ax1.twinx()\n",
    "\n",
    "color = 'tab:blue'\n",
    "ax2.set_ylabel('Conversiones semanales', color=color)\n",
    "ax2.plot(conversiones_by_week.set_index('Fecha'), color=color)\n",
    "ax2.tick_params(axis='y', labelcolor=color)\n",
    "ax2.set_title('Relación de Checkouts/Conversiones')\n",
    "\n",
    "fig.tight_layout()\n",
    "plt.show()"
   ]
  },
  {
   "cell_type": "markdown",
   "metadata": {},
   "source": [
    "Se observa un aumento significativo tanto de conversiones como de checkouts en la segunda semana de mayo, pero de ahi en adelante solo los checkouts siguieron aumentando mientras que las conversiones disminuyeron. Analizaremos la proporcion de conversiones sobre checkouts hasta esa semana.\n"
   ]
  },
  {
   "cell_type": "code",
   "execution_count": null,
   "metadata": {},
   "outputs": [],
   "source": [
    "checkouts_hasta_mayo = checkouts_by_week.loc[0:18].set_index('Fecha')\n",
    "conversiones_hasta_mayo = conversiones_by_week.loc[0:18].set_index('Fecha')\n",
    "\n",
    "fig, ax1 = plt.subplots()\n",
    "\n",
    "color = 'tab:green'\n",
    "ax1.set_xlabel('Semana')\n",
    "ax1.set_ylabel('Checkouts semanales', color=color)\n",
    "ax1.plot(checkouts_hasta_mayo, color=color)\n",
    "ax1.tick_params(axis='y', labelcolor=color)\n",
    "\n",
    "ax2 = ax1.twinx()\n",
    "\n",
    "color = 'tab:blue'\n",
    "ax2.set_ylabel('Conversiones semanales', color=color)\n",
    "ax2.plot(conversiones_hasta_mayo, color=color)\n",
    "ax2.tick_params(axis='y', labelcolor=color)\n",
    "\n",
    "fig.tight_layout()\n",
    "plt.show()"
   ]
  },
  {
   "cell_type": "code",
   "execution_count": null,
   "metadata": {},
   "outputs": [],
   "source": [
    "porcentaje_conversiones_sobre_checkouts = (conversiones_by_week['Conversiones'] / checkouts_by_week['Checkouts']) * 100\n",
    "ax = porcentaje_conversiones_sobre_checkouts.plot()\n"
   ]
  },
  {
   "cell_type": "markdown",
   "metadata": {},
   "source": [
    "Vemos que hasta mayo la cantidad de checkouts y conversiones estaban intimamente relacionadas, representando alrededor de un 15% la cantidad de conversiones sobre la cantidad de checkouts. Debemos analizar que sucede en mayo que hace que de ahi en adelante suban los checkouts pero bajen las conversiones."
   ]
  },
  {
   "cell_type": "markdown",
   "metadata": {},
   "source": [
    "### CELULARES"
   ]
  },
  {
   "cell_type": "code",
   "execution_count": null,
   "metadata": {},
   "outputs": [],
   "source": [
    "def obtener_marca(serie_de_modelo):\n",
    "    # La marca es siempre la primer palabra del modelo\n",
    "    r = []\n",
    "    for modelo in serie_de_modelo.tolist():\n",
    "        if pd.isna(modelo):\n",
    "            r.append(\"Unknown\")\n",
    "        else:\n",
    "            r.append(modelo.split()[0])\n",
    "    return r\n",
    "\n",
    "checkouts[\"Marca\"] = obtener_marca(checkouts[\"model\"])\n",
    "checkouts = checkouts.loc[checkouts[\"Marca\"] != \"Unknown\"] # Remuevo datos erroneos\n",
    "checkouts[\"Checkouts\"] = 1\n",
    "checkouts_by_marca = checkouts[[\"Marca\",\"Checkouts\"]].groupby(by=[\"Marca\"]).agg(\"count\")\\\n",
    "    .sort_values(by=\"Checkouts\",ascending=False)\n",
    "checkouts_by_marca.plot(kind=\"bar\",figsize=(10,8),fontsize=15,title=\"Checkouts de cada marca\").set_ylabel(\"Cantidad\")"
   ]
  },
  {
   "cell_type": "code",
   "execution_count": null,
   "metadata": {},
   "outputs": [],
   "source": [
    "conversiones[\"Marca\"] = obtener_marca(conversiones[\"model\"])\n",
    "conversiones = conversiones.loc[conversiones[\"Marca\"] != \"Unknown\"] # Remuevo datos erroneos\n",
    "conversiones[\"Conversiones\"] = 1\n",
    "conversiones_by_marca = conversiones[[\"Marca\",\"Conversiones\"]].groupby(by=[\"Marca\"]).agg(\"count\")\\\n",
    "    .sort_values(by=\"Conversiones\",ascending=False).iloc[::-1]\n",
    "p = conversiones_by_marca.plot(kind=\"barh\",figsize=(9,7),fontsize=15,title=\"Conversiones de cada marca\")\n",
    "p.set_xlabel(\"Cantidad\")\n",
    "p.legend(loc=\"lower right\")\n",
    "p"
   ]
  },
  {
   "cell_type": "code",
   "execution_count": null,
   "metadata": {},
   "outputs": [],
   "source": [
    "marca_stats = conversiones_by_marca.join(checkouts_by_marca).sort_values(by=\"Checkouts\",ascending=False)\n",
    "marca_stats[\"No concretados\"] = marca_stats[\"Checkouts\"] - marca_stats[\"Conversiones\"]\n",
    "marca_stats = marca_stats.rename(columns={'Conversiones': 'Concretados'}).iloc[::-1]\n",
    "marca_stats.drop(\"Checkouts\", axis=1, inplace= True)\n",
    "p = marca_stats.plot(kind=\"barh\",stacked=True,figsize=(9,7),fontsize=15,\\\n",
    "                 title=\"Checkouts de cada marca\")\n",
    "p.legend(loc=\"lower right\")\n",
    "p.set_xlabel(\"Checkouts\")\n",
    "p"
   ]
  },
  {
   "cell_type": "code",
   "execution_count": null,
   "metadata": {},
   "outputs": [],
   "source": [
    "view_products = df.loc[df[\"event\"] == \"viewed product\",[\"model\"]].copy()\n",
    "view_products[\"Marca\"] = obtener_marca(view_products[\"model\"])\n",
    "view_products[\"Visitas\"] = 1\n",
    "p = view_products.groupby(by=[\"model\"]).agg(\"sum\").sort_values(by=\"Visitas\",ascending=False).head(20)\\\n",
    "    .iloc[::-1].plot(kind=\"barh\",title=\"20 celulares con más visitas\",figsize=(10,7),fontsize=14,legend=False)\n",
    "p.set_ylabel(\"Modelo\")\n",
    "p.set_xlabel(\"Visitas\")\n",
    "p"
   ]
  },
  {
   "cell_type": "code",
   "execution_count": null,
   "metadata": {},
   "outputs": [],
   "source": [
    "view_products_by_marca = view_products.drop(columns=[\"model\"]).groupby(by=\"Marca\").agg(\"sum\")\n",
    "\n",
    "p = view_products_by_marca.sort_values(by=\"Visitas\",ascending=False)\\\n",
    "    .iloc[::-1].plot(kind=\"barh\",title=\"Marcas más visitadas\",figsize=(10,7),fontsize=14,legend=False)\n",
    "p.set_xlabel(\"Visitas\")\n",
    "p"
   ]
  },
  {
   "cell_type": "code",
   "execution_count": null,
   "metadata": {},
   "outputs": [],
   "source": [
    "marca_stats = view_products_by_marca.join(checkouts_by_marca,on=\"Marca\",how=\"outer\")\\\n",
    "    .join(conversiones_by_marca,on=\"Marca\",how=\"outer\")\n",
    "marca_stats['Visitas']= (marca_stats['Visitas']/marca_stats['Visitas'].sum()) *100\n",
    "marca_stats['Checkouts']= (marca_stats['Checkouts']/marca_stats['Checkouts'].sum()) *100\n",
    "marca_stats['Conversiones']= (marca_stats['Conversiones']/marca_stats['Conversiones'].sum()) * 100\n",
    "marca_stats = marca_stats.fillna(0)\n",
    "marca_stats = marca_stats.T"
   ]
  },
  {
   "cell_type": "code",
   "execution_count": null,
   "metadata": {},
   "outputs": [],
   "source": []
  },
  {
   "cell_type": "code",
   "execution_count": null,
   "metadata": {},
   "outputs": [],
   "source": [
    "#import plotly.plotly as py\n",
    "import plotly\n",
    "plotly.offline.init_notebook_mode(connected=True)\n",
    "import plotly.offline as py\n",
    "import plotly.graph_objs as go\n",
    "\n",
    "data = [go.Scatterpolar(\n",
    "  r = marca_stats[\"Samsung\"].tolist(),\n",
    "  theta = ['Visitas','Checkouts','Conversiones'],\n",
    "    name = 'Samsung',\n",
    "  fill = 'toself'\n",
    "),go.Scatterpolar(\n",
    "  r = marca_stats[\"iPhone\"].tolist(),\n",
    "  theta = ['Visitas','Checkouts','Conversiones'],\n",
    "    name = 'iPhone',\n",
    "  fill = 'toself'\n",
    "),go.Scatterpolar(\n",
    "  r = marca_stats[\"Motorola\"].tolist(),\n",
    "  theta = ['Visitas','Checkouts','Conversiones'],\n",
    "    name = 'Motorola',\n",
    "    fill = 'toself'\n",
    ")]\n",
    "\n",
    "layout = go.Layout(\n",
    "  polar = dict(\n",
    "    radialaxis = dict(\n",
    "      visible = True,\n",
    "      range = [0, 60]\n",
    "    )\n",
    "  ),\n",
    "    title='Porcentaje de visitas, checkouts, y conversiones de marcas',\n",
    "    font= dict(\n",
    "        size =18\n",
    "    ),\n",
    "  showlegend = True\n",
    ")\n",
    "\n",
    "fig = go.Figure(data=data, layout=layout)\n",
    "py.offline.iplot(fig)"
   ]
  },
  {
   "cell_type": "code",
   "execution_count": null,
   "metadata": {},
   "outputs": [],
   "source": []
  },
  {
   "cell_type": "code",
   "execution_count": null,
   "metadata": {},
   "outputs": [],
   "source": [
    "#analizar\n",
    "pd.crosstab(checkouts['condition'],checkouts['Marca']) # hacerlo en el otro notebook"
   ]
  },
  {
   "cell_type": "markdown",
   "metadata": {},
   "source": [
    "\n",
    "\n",
    "### Analsis de checkouts por persona"
   ]
  },
  {
   "cell_type": "markdown",
   "metadata": {},
   "source": [
    "Veo si existen casos de double tracking"
   ]
  },
  {
   "cell_type": "code",
   "execution_count": null,
   "metadata": {},
   "outputs": [],
   "source": [
    "def min_diferencia_tiempo(df):\n",
    "        min_diferencia=pd.to_timedelta('365 days')\n",
    "        for i in range(1,len(df)):\n",
    "            dif = df.iloc[i]-df.iloc[i-1]\n",
    "            if dif<min_diferencia:\n",
    "                min_diferencia = dif\n",
    "        return min_diferencia    \n",
    "            \n",
    "checkouts_por_persona = df.loc[df['event']=='checkout',['timestamp','person','model', 'sku']]\n",
    "duplicados = checkouts_por_persona[checkouts_por_persona.duplicated(subset=['person'], keep=False)]\n",
    "min_diferencia_checkouts = duplicados.groupby('person').agg({'timestamp':min_diferencia_tiempo}).sort_values(by='timestamp')\n",
    "min_diferencia_checkouts['menos_de_1seg'] = min_diferencia_checkouts['timestamp']<pd.to_timedelta('00:00:01')\n",
    "min_diferencia_checkouts['menos_de_1seg'].value_counts()"
   ]
  },
  {
   "cell_type": "markdown",
   "metadata": {},
   "source": [
    "Existe solo 1 caso de todos los checkouts que podría ser de double tracking, lo examino"
   ]
  },
  {
   "cell_type": "code",
   "execution_count": null,
   "metadata": {},
   "outputs": [],
   "source": [
    "min_diferencia_checkouts.loc[min_diferencia_checkouts['menos_de_1seg']==True]"
   ]
  },
  {
   "cell_type": "code",
   "execution_count": null,
   "metadata": {},
   "outputs": [],
   "source": [
    "checkouts_por_persona.loc[checkouts_por_persona['person']=='0ee73fbe']"
   ]
  },
  {
   "cell_type": "markdown",
   "metadata": {},
   "source": [
    "Los dos eventos de checkout que son en el mismo momento son de modelos distintos, por lo tanto supondremos que no es un caso de double tracking"
   ]
  },
  {
   "cell_type": "markdown",
   "metadata": {},
   "source": [
    "#### Cantidad de checkouts por persona "
   ]
  },
  {
   "cell_type": "code",
   "execution_count": null,
   "metadata": {},
   "outputs": [],
   "source": [
    "checkouts_por_persona['checkouts'] = 1\n",
    "checkouts_por_persona[\"marca\"] = obtener_marca(checkouts_por_persona[\"model\"])\n",
    "for marca in ['Samsung','iPhone','Motorola','LG','Lenovo','Sony','Quantum','iPad','Asus']:\n",
    "    checkouts_por_persona[marca] = checkouts_por_persona['marca'] == marca\n",
    "checkouts_por_persona.head()    \n",
    "    "
   ]
  },
  {
   "cell_type": "code",
   "execution_count": null,
   "metadata": {},
   "outputs": [],
   "source": [
    "\n",
    "cantidad_de_checkouts_por_persona = checkouts_por_persona.groupby('person').agg({'checkouts':sum,\\\n",
    "        'Samsung':sum,'iPhone':sum,'Motorola':sum,'LG':sum,'Lenovo':sum,'Sony':sum,\\\n",
    "        'Quantum':sum,'iPad':sum,'Asus':sum})\n",
    "g = cantidad_de_checkouts_por_persona['checkouts'].value_counts().plot('bar')\n",
    "g.set_title('Cantidad de checkouts por persona')\n",
    "g.set_xlabel('Cantidad de checkouts')\n",
    "g.set_ylabel('Numero de personas')"
   ]
  },
  {
   "cell_type": "code",
   "execution_count": null,
   "metadata": {},
   "outputs": [],
   "source": [
    "cant_checkouts_log=cantidad_de_checkouts_por_persona['checkouts'].value_counts().transform(lambda x: np.log(x)+1 )\n",
    "g_log = cant_checkouts_log.plot('bar')\n",
    "g_log.set_title('Cantidad de checkouts por persona [Log]')\n",
    "g_log.set_xlabel('Cantidad de checkouts')\n",
    "g_log.set_ylabel('Cantidad de personas')"
   ]
  },
  {
   "cell_type": "markdown",
   "metadata": {},
   "source": [
    "#### Verifico si los distintos checkouts son sobre los mismos modelos"
   ]
  },
  {
   "cell_type": "code",
   "execution_count": null,
   "metadata": {},
   "outputs": [],
   "source": [
    "a = checkouts_por_persona.groupby('person').agg({'model':'nunique','checkouts':'count'})\n",
    "g = a.groupby('checkouts').agg({'model':'mean'}).plot(kind='bar',alpha=0.5)\n",
    "#a.sort_values(by=['checkouts','model'], ascending = [False,False]).iloc[:100].plot(kind='line',alpha=0.5)\n",
    "a.loc[a['checkouts']==24]\n",
    "g.set_title('Promedio de modelos dintintos x cantidad de checkouts')\n",
    "g.set_xlabel('Número de checkouts')\n",
    "g.set_ylabel('Número de modelos distintos vistos')\n",
    "g.legend('')"
   ]
  },
  {
   "cell_type": "markdown",
   "metadata": {},
   "source": [
    "#### Hago un analisis de las marcas que mas se aparecen en funcion de la cantidad de checkouts que hizo cada cliente"
   ]
  },
  {
   "cell_type": "code",
   "execution_count": null,
   "metadata": {},
   "outputs": [],
   "source": [
    "multiples = cantidad_de_checkouts_por_persona.loc[cantidad_de_checkouts_por_persona['checkouts']>1]\n",
    "\n",
    "my_colors = [\"#1f77b4\", \"#ff7f0e\", \"#2ca02c\", \"#d62728\", \"#9467bd\", \"#8c564b\", \"#e377c2\", \"#bcbd22\", \"#17becf\"]  \n",
    "g = multiples.groupby('checkouts').agg({'Samsung':sum,'iPhone':sum,'Motorola':sum,'LG':sum,'Lenovo':sum,\\\n",
    "        'Sony':sum,'Quantum':sum,'iPad':sum,'Asus':sum}).iloc[:,:5].plot(kind='line',color = my_colors)\n",
    "g.set_title('Distribucion de las marcas en funcion de la cantidad de checkouts por persona')\n",
    "g.set_xlabel('Cantidad de checkouts')\n",
    "g.set_ylabel('Cantidad de apariciones')\n"
   ]
  },
  {
   "cell_type": "code",
   "execution_count": null,
   "metadata": {},
   "outputs": [],
   "source": []
  },
  {
   "cell_type": "code",
   "execution_count": null,
   "metadata": {},
   "outputs": [],
   "source": []
  },
  {
   "cell_type": "code",
   "execution_count": null,
   "metadata": {},
   "outputs": [],
   "source": []
  }
 ],
 "metadata": {
  "kernelspec": {
   "display_name": "Python 3",
   "language": "python",
   "name": "python3"
  },
  "language_info": {
   "codemirror_mode": {
    "name": "ipython",
    "version": 3
   },
   "file_extension": ".py",
   "mimetype": "text/x-python",
   "name": "python",
   "nbconvert_exporter": "python",
   "pygments_lexer": "ipython3",
   "version": "3.6.5"
  }
 },
 "nbformat": 4,
 "nbformat_minor": 2
}
