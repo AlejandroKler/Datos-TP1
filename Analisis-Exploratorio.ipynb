{
 "cells": [
  {
   "cell_type": "markdown",
   "metadata": {},
   "source": [
    "# Análisis Exploratorio de los datos de Trocafone\n",
    "\n"
   ]
  },
  {
   "cell_type": "markdown",
   "metadata": {},
   "source": [
    "### Propuestas\n"
   ]
  },
  {
   "cell_type": "markdown",
   "metadata": {},
   "source": [
    "## Configuracion inicial"
   ]
  },
  {
   "cell_type": "code",
   "execution_count": null,
   "metadata": {},
   "outputs": [],
   "source": [
    "#Importo librerias\n",
    "import pandas as pd\n",
    "import numpy as np\n",
    "import matplotlib.pyplot as plt\n",
    "\n",
    "%matplotlib inline\n",
    "plt.style.use('default')"
   ]
  },
  {
   "cell_type": "code",
   "execution_count": null,
   "metadata": {},
   "outputs": [],
   "source": [
    "#Cargo el DataFrame\n",
    "df = pd.read_csv('events.csv', low_memory=False)\n",
    "df.head(5)"
   ]
  },
  {
   "cell_type": "markdown",
   "metadata": {},
   "source": [
    "## Chequeos de integridad y calidad de los datos\n"
   ]
  },
  {
   "cell_type": "code",
   "execution_count": null,
   "metadata": {},
   "outputs": [],
   "source": [
    "#Arreglo las fechas\n",
    "df['timestamp']=pd.to_datetime(df['timestamp'])\n",
    "df['timestamp'].head()"
   ]
  },
  {
   "cell_type": "code",
   "execution_count": null,
   "metadata": {},
   "outputs": [],
   "source": [
    "df.describe()"
   ]
  },
  {
   "cell_type": "code",
   "execution_count": null,
   "metadata": {},
   "outputs": [],
   "source": [
    "df.info()"
   ]
  },
  {
   "cell_type": "code",
   "execution_count": null,
   "metadata": {},
   "outputs": [],
   "source": [
    "#Categorizo ciertas columnas para ahorrar espacio en memoria\n",
    "for columna  in ['event','condition','storage', 'color', 'staticpage', 'campaign_source', 'search_engine', 'channel', 'new_vs_returning', 'region', 'country', 'device_type']:\n",
    "        df[columna] = df[columna].astype('category')\n",
    "df.info()\n"
   ]
  },
  {
   "cell_type": "markdown",
   "metadata": {},
   "source": [
    "## Analisis"
   ]
  },
  {
   "cell_type": "code",
   "execution_count": null,
   "metadata": {},
   "outputs": [],
   "source": [
    "# Cantidad de eventos que no especifican valor para country\n",
    "df['country'].isna().sum()"
   ]
  },
  {
   "cell_type": "code",
   "execution_count": null,
   "metadata": {},
   "outputs": [],
   "source": [
    "df['country'].value_counts().head(10)"
   ]
  },
  {
   "cell_type": "markdown",
   "metadata": {},
   "source": [
    "La mayor parte de los eventos que especifican country provienen de Brasil"
   ]
  },
  {
   "cell_type": "code",
   "execution_count": null,
   "metadata": {},
   "outputs": [],
   "source": [
    "#Veo para que eventos se especifica el pais\n",
    "eventos_con_country = df[df['country'].notna()]\n",
    "eventos_con_country['event'].value_counts().head()"
   ]
  },
  {
   "cell_type": "markdown",
   "metadata": {},
   "source": [
    "El unico evento que especifica valor para country es \"visited site\"\n"
   ]
  },
  {
   "cell_type": "code",
   "execution_count": null,
   "metadata": {},
   "outputs": [],
   "source": [
    "eventos_brasil = df[df['country'] == 'Brazil']\n",
    "eventos_brasil['person'].value_counts().head()"
   ]
  },
  {
   "cell_type": "code",
   "execution_count": null,
   "metadata": {},
   "outputs": [],
   "source": [
    "df.loc[df['event'] == 'visited site'].describe()"
   ]
  },
  {
   "cell_type": "code",
   "execution_count": 14,
   "metadata": {},
   "outputs": [
    {
     "data": {
      "text/plain": [
       "Text(0.5,1,'Cantidad de eventos por dia de la semana')"
      ]
     },
     "execution_count": 14,
     "metadata": {},
     "output_type": "execute_result"
    },
    {
     "data": {
      "image/png": "[encoded data removed]",
      "text/plain": [
       "<Figure size 432x288 with 1 Axes>"
      ]
     },
     "metadata": {},
     "output_type": "display_data"
    }
   ],
   "source": [
    "#Vamos a hacer un analisis sobre los dias en los que se produjeron los eventos\n",
    "dias_semana = df['timestamp'].dt.weekday_name\n",
    "g = dias_semana.value_counts().plot('bar')\n",
    "g.set_title('Cantidad de eventos por dia de la semana')"
   ]
  },
  {
   "cell_type": "markdown",
   "metadata": {},
   "source": [
    "## Analisis tipos de evento"
   ]
  },
  {
   "cell_type": "code",
   "execution_count": null,
   "metadata": {},
   "outputs": [],
   "source": [
    "colUsadasEventos = df.groupby(by = 'event').count()\n",
    "colUsadasEventos"
   ]
  },
  {
   "cell_type": "code",
   "execution_count": null,
   "metadata": {},
   "outputs": [],
   "source": [
    "columns = list(df)\n",
    "for event, row in colUsadasEventos.iterrows():\n",
    "    print(event, end = ':')\n",
    "    \n",
    "    for column in columns:\n",
    "        if(row.get(column) != 0):\n",
    "            print(' ' + column, end = ',')\n",
    "            \n",
    "    print('\\n')"
   ]
  },
  {
   "cell_type": "markdown",
   "metadata": {},
   "source": [
    "## Columnas usadas por cada evento\n",
    "\n",
    "Todos los eventos contienen informacion sobre **'timestamp'**, **'event'** y **'person'**, y ademas utilizan las siguientes columnas:\n",
    "\n",
    "#### ad campaign hit:\n",
    "    url, campaign_source\n",
    "#### brand listing:\n",
    "    skus\n",
    "#### checkout: \n",
    "    sku, model, condition, storage, color\n",
    "\n",
    "#### conversion: \n",
    "    sku, model, condition, storage, color\n",
    "\n",
    "#### generic listing: \n",
    "    skus\n",
    "\n",
    "#### lead: \n",
    "    model\n",
    "\n",
    "#### search engine hit: \n",
    "    search_engine\n",
    "\n",
    "#### searched products: \n",
    "    skus, search_term\n",
    "\n",
    "#### staticpage: \n",
    "    staticpage\n",
    "\n",
    "#### viewed product: \n",
    "    sku, model, condition, storage, color\n",
    "\n",
    "#### visited site: \n",
    "    channel, new_vs_returning, city, region, country, device_type, screen_resolution, operating_system_version, browser_version\n"
   ]
  },
  {
   "cell_type": "code",
   "execution_count": null,
   "metadata": {},
   "outputs": [],
   "source": []
  }
 ],
 "metadata": {
  "kernelspec": {
   "display_name": "Python 3",
   "language": "python",
   "name": "python3"
  },
  "language_info": {
   "codemirror_mode": {
    "name": "ipython",
    "version": 3
   },
   "file_extension": ".py",
   "mimetype": "text/x-python",
   "name": "python",
   "nbconvert_exporter": "python",
   "pygments_lexer": "ipython3",
   "version": "3.6.5"
  }
 },
 "nbformat": 4,
 "nbformat_minor": 2
}
