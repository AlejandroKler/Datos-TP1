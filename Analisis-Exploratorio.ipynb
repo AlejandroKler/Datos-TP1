{
 "cells": [
  {
   "cell_type": "markdown",
   "metadata": {},
   "source": [
    "# Análisis Exploratorio de los datos de Trocafone\n",
    "\n"
   ]
  },
  {
   "cell_type": "markdown",
   "metadata": {},
   "source": [
    "### Propuestas\n"
   ]
  },
  {
   "cell_type": "markdown",
   "metadata": {},
   "source": [
    "## Configuracion inicial"
   ]
  },
  {
   "cell_type": "code",
   "execution_count": null,
   "metadata": {},
   "outputs": [],
   "source": [
    "#Importo librerias\n",
    "import pandas as pd\n",
    "import numpy as np\n",
    "import matplotlib.pyplot as plt\n",
    "import seaborn as sns\n",
    "\n",
    "%matplotlib inline\n",
    "plt.style.use('default')"
   ]
  },
  {
   "cell_type": "code",
   "execution_count": null,
   "metadata": {},
   "outputs": [],
   "source": [
    "#Cargo el DataFrame\n",
    "df = pd.read_csv('events.csv', low_memory=False)\n",
    "df.head(5)"
   ]
  },
  {
   "cell_type": "markdown",
   "metadata": {},
   "source": [
    "## Chequeos de integridad y calidad de los datos\n"
   ]
  },
  {
   "cell_type": "code",
   "execution_count": null,
   "metadata": {},
   "outputs": [],
   "source": [
    "#Arreglo las fechas\n",
    "df['timestamp']=pd.to_datetime(df['timestamp'])\n",
    "df['timestamp'].head()"
   ]
  },
  {
   "cell_type": "code",
   "execution_count": null,
   "metadata": {},
   "outputs": [],
   "source": [
    "df.describe()"
   ]
  },
  {
   "cell_type": "code",
   "execution_count": null,
   "metadata": {},
   "outputs": [],
   "source": [
    "df.info()"
   ]
  },
  {
   "cell_type": "code",
   "execution_count": null,
   "metadata": {},
   "outputs": [],
   "source": [
    "#Categorizo ciertas columnas para ahorrar espacio en memoria\n",
    "for columna  in ['event','condition','storage', 'color', 'staticpage', 'campaign_source', 'search_engine', 'channel', 'new_vs_returning', 'region', 'country', 'device_type']:\n",
    "        df[columna] = df[columna].astype('category')\n",
    "df.info()\n"
   ]
  },
  {
   "cell_type": "markdown",
   "metadata": {},
   "source": [
    "Como podemos ver, todas las filas especifican 'timestamp', 'event' y 'person'"
   ]
  },
  {
   "cell_type": "markdown",
   "metadata": {},
   "source": [
    "## Analisis tipos de evento"
   ]
  },
  {
   "cell_type": "code",
   "execution_count": null,
   "metadata": {},
   "outputs": [],
   "source": [
    "colUsadasEventos = df.groupby(by = 'event').count()\n",
    "colUsadasEventos"
   ]
  },
  {
   "cell_type": "code",
   "execution_count": null,
   "metadata": {},
   "outputs": [],
   "source": [
    "columns = list(df)\n",
    "for event, row in colUsadasEventos.iterrows():\n",
    "    print(event, end = ':')\n",
    "    \n",
    "    for column in columns:\n",
    "        if(row.get(column) != 0):\n",
    "            print(' ' + column, end = ',')\n",
    "            \n",
    "    print('\\n')"
   ]
  },
  {
   "cell_type": "markdown",
   "metadata": {},
   "source": [
    "## Columnas usadas por cada evento\n",
    "\n",
    "Todos los eventos contienen informacion sobre **'timestamp'**, **'event'** y **'person'**, y ademas utilizan las siguientes columnas:\n",
    "\n",
    "**ad campaign hit:**\n",
    "    url, campaign_source\n",
    "\n",
    "**brand listing:**\n",
    "    skus\n",
    "\n",
    "**checkout:** \n",
    "    sku, model, condition, storage, color\n",
    "\n",
    "**conversion:**\n",
    "    sku, model, condition, storage, color\n",
    "\n",
    "**generic listing:**\n",
    "    skus\n",
    "\n",
    "**lead:**\n",
    "    model\n",
    "\n",
    "**search engine hit:** \n",
    "    search_engine\n",
    "\n",
    "**searched products:** \n",
    "    skus, search_term\n",
    "\n",
    "**staticpage:** \n",
    "    staticpage\n",
    "\n",
    "**viewed product:** \n",
    "    sku, model, condition, storage, color\n",
    "\n",
    "**visited site:** \n",
    "    channel, new_vs_returning, city, region, country, device_type, screen_resolution, operating_system_version, browser_version\n"
   ]
  },
  {
   "cell_type": "markdown",
   "metadata": {},
   "source": [
    "## Analisis geográfico"
   ]
  },
  {
   "cell_type": "code",
   "execution_count": null,
   "metadata": {},
   "outputs": [],
   "source": [
    "#Solo los eventos \"visited site\" especifican pais\n",
    "visitas = df[df[\"event\"] == \"visited site\"]"
   ]
  },
  {
   "cell_type": "code",
   "execution_count": null,
   "metadata": {},
   "outputs": [],
   "source": [
    "visitas['country'].value_counts().head(10)"
   ]
  },
  {
   "cell_type": "markdown",
   "metadata": {},
   "source": [
    "La mayor parte de las visitas provienen de Brasil, por lo que nos limitaremos a analizar a la audiencia brasileña"
   ]
  },
  {
   "cell_type": "code",
   "execution_count": null,
   "metadata": {},
   "outputs": [],
   "source": [
    "visitas_brasil = visitas[visitas['country'] == 'Brazil']\n",
    "visitas_brasil['region'].value_counts().head()"
   ]
  },
  {
   "cell_type": "code",
   "execution_count": null,
   "metadata": {},
   "outputs": [],
   "source": [
    "#Comprobamos que no especifique ciudad para region de tipo \"Unknown\"\n",
    "visitas_brasil[visitas_brasil['region'] == 'Unknown']['city'].value_counts().head()"
   ]
  },
  {
   "cell_type": "code",
   "execution_count": null,
   "metadata": {},
   "outputs": [],
   "source": [
    "#Filtramos los 'Unknown'\n",
    "visitas_brasil = visitas_brasil[visitas_brasil['region'] != 'Unknown']\n",
    "visitas_brasil['region'].value_counts().head(15).plot('bar')"
   ]
  },
  {
   "cell_type": "code",
   "execution_count": null,
   "metadata": {},
   "outputs": [],
   "source": [
    "visitas_brasil = visitas_brasil[visitas_brasil['city'] != 'Unknown']\n",
    "visitas_brasil['city'].value_counts().head(15).plot('bar')"
   ]
  },
  {
   "cell_type": "markdown",
   "metadata": {},
   "source": [
    "### Falta meterle un Basemap!!!!!!!!!!!!!!!!!!!"
   ]
  },
  {
   "cell_type": "markdown",
   "metadata": {},
   "source": [
    "## Captacion de usuarios"
   ]
  },
  {
   "cell_type": "code",
   "execution_count": null,
   "metadata": {},
   "outputs": [],
   "source": [
    "personas_new_ret = visitas.loc[:, ['person']]\n",
    "personas_new_ret['returning_hits'] = visitas['new_vs_returning'] == 'Returning'\n",
    "personas_new_ret.head()"
   ]
  },
  {
   "cell_type": "code",
   "execution_count": null,
   "metadata": {},
   "outputs": [],
   "source": [
    "personas_ret_hits = personas_new_ret.groupby(by = 'person').agg({'returning_hits': np.count_nonzero})\n",
    "personas_ret_hits.head(10)"
   ]
  },
  {
   "cell_type": "code",
   "execution_count": null,
   "metadata": {},
   "outputs": [],
   "source": [
    "x = personas_ret_hits['returning_hits']\n",
    "x.value_counts().head(10)"
   ]
  },
  {
   "cell_type": "code",
   "execution_count": null,
   "metadata": {},
   "outputs": [],
   "source": [
    "sns.distplot(x, hist_kws={'log':True}, kde = False, axlabel = 'Cantidad de returning_hits').set_title('Cantidad de usuarios según returning_hits')"
   ]
  },
  {
   "cell_type": "markdown",
   "metadata": {},
   "source": [
    "La mayoría de los usuarios ingresa al sitio una única vez"
   ]
  },
  {
   "cell_type": "code",
   "execution_count": null,
   "metadata": {},
   "outputs": [],
   "source": [
    "cant_returns = x.value_counts()\n",
    "cero_returns = cant_returns[0]\n",
    "uno_diez_returns = cant_returns[1:11].values.sum()\n",
    "diez_mas_returns = cant_returns[11:].values.sum()\n",
    "datos_returns = [cero_returns, uno_diez_returns, diez_mas_returns]\n",
    "x_labels = ['1', '2 - 10', '10+']\n",
    "ax = sns.barplot(x = x_labels, y = datos_returns)\n",
    "ax.set(xlabel='Cantidad de visitas al sitio', ylabel='Cantidad de Usuarios', title = 'Cantidad de usuarios segun veces que visitaron el sitio')"
   ]
  },
  {
   "cell_type": "markdown",
   "metadata": {},
   "source": [
    "La mayoria de los usuarios visita el sitio una única vez, mientras que solo una pequeña proporción volvió al sitio mas de 10 veces. Es posible que un mismo usuario entre desde dispositivos diferentes."
   ]
  },
  {
   "cell_type": "code",
   "execution_count": null,
   "metadata": {},
   "outputs": [],
   "source": []
  },
  {
   "cell_type": "markdown",
   "metadata": {},
   "source": [
    "## Analisis temporal"
   ]
  },
  {
   "cell_type": "code",
   "execution_count": null,
   "metadata": {},
   "outputs": [],
   "source": [
    "#Vamos a hacer un analisis sobre los dias en los que se produjeron los eventos\n",
    "dias_semana = df['timestamp'].dt.weekday_name\n",
    "dias_ordenados = ['Monday', 'Tuesday', 'Wednesday', 'Thursday', 'Friday', 'Saturday', 'Sunday']\n",
    "dias_semana = pd.Categorical(dias_semana, categories = dias_ordenados, ordered = True)\n",
    "g = dias_semana.value_counts().plot('bar')\n",
    "g.set_title('Cantidad de eventos por dia de la semana')"
   ]
  },
  {
   "cell_type": "markdown",
   "metadata": {},
   "source": [
    "Vemos que durante el fin de semana el trafico es menor"
   ]
  },
  {
   "cell_type": "code",
   "execution_count": null,
   "metadata": {},
   "outputs": [],
   "source": [
    "tiempo_eventos = pd.DataFrame()\n",
    "tiempo_eventos['dia_semana'] = df['timestamp'].dt.weekday_name\n",
    "tiempo_eventos['hora'] = df['timestamp'].dt.hour\n",
    "tiempo_eventos['mes'] = df['timestamp'].dt.month\n",
    "\n",
    "tiempo_eventos = tiempo_eventos.groupby(by = 'dia_semana')['hora'].value_counts().to_frame()\n",
    "tiempo_eventos = tiempo_eventos.rename(columns = {'hora':'cant_casos'})\n",
    "tiempo_eventos = tiempo_eventos.reset_index('hora')\n",
    "tiempo_eventos.index = pd.CategoricalIndex(tiempo_eventos.index, categories= reversed(dias_ordenados))\n",
    "tiempo_eventos.sort_index(level=0, inplace=True)\n",
    "tiempo_eventos = tiempo_eventos.reset_index()\n",
    "\n",
    "tiempo_eventos = tiempo_eventos.pivot_table(index = 'dia_semana', columns = 'hora', values = 'cant_casos')\n",
    "\n",
    "sns.set(rc={'figure.figsize':(19.7,8.27)})\n",
    "cmap = sns.cm.rocket_r\n",
    "ax = sns.heatmap(data = tiempo_eventos, cmap = cmap)\n",
    "ax.set(xlabel='Hora', ylabel='Dia de la semana', title = 'Eventos segun hora del dia')"
   ]
  },
  {
   "cell_type": "markdown",
   "metadata": {},
   "source": [
    "Como habiamos visto en el grafico anterior, durante el fin de semana la cantidad de eventos es menor, mientras que la mayoria de los eventos se realizan entre las 12 y las 2"
   ]
  },
  {
   "cell_type": "code",
   "execution_count": null,
   "metadata": {},
   "outputs": [],
   "source": []
  },
  {
   "cell_type": "code",
   "execution_count": null,
   "metadata": {},
   "outputs": [],
   "source": []
  },
  {
   "cell_type": "code",
   "execution_count": null,
   "metadata": {},
   "outputs": [],
   "source": [
    "df_indice_en_persona_evento = df.set_index(['person','event'])\n",
    "df_indice_en_persona_evento.head(50)"
   ]
  },
  {
   "cell_type": "code",
   "execution_count": null,
   "metadata": {},
   "outputs": [],
   "source": []
  },
  {
   "cell_type": "code",
   "execution_count": null,
   "metadata": {},
   "outputs": [],
   "source": [
    "def ver_diferencia_tiempo(tiempo):\n",
    "    return tiempo.max()-tiempo.min()\n",
    "    \n",
    "diferencia_tiempo_entre_primero_y_ultimo_evento = df_indice_en_persona_evento.groupby('person').agg({'timestamp':ver_diferencia_tiempo})"
   ]
  },
  {
   "cell_type": "code",
   "execution_count": null,
   "metadata": {},
   "outputs": [],
   "source": [
    "diferencia_tiempo_entre_primero_y_ultimo_evento.loc[diferencia_tiempo_entre_primero_y_ultimo_evento['timestamp']>'1 day'].sort_values(by = 'timestamp')"
   ]
  },
  {
   "cell_type": "markdown",
   "metadata": {},
   "source": [
    "# Quiero ver Que campaña publicitaria lleva a mas ventas"
   ]
  },
  {
   "cell_type": "code",
   "execution_count": null,
   "metadata": {},
   "outputs": [],
   "source": [
    "personas_por_publicidad = {}\n",
    "    \n",
    "ad_campaigns = df.loc[(df['event']=='ad campaign hit') | (df['event']=='conversion')].drop_duplicates()#[['person','campaign_source']].drop_duplicates().set_index('campaign_source')\n",
    "ad_campaigns"
   ]
  },
  {
   "cell_type": "code",
   "execution_count": null,
   "metadata": {},
   "outputs": [],
   "source": [
    "ad_campaigns_cool = df.loc[(df['event']=='ad campaign hit'),['person','campaign_source']].drop_duplicates()\n",
    "ad_campaigns_cool.head()"
   ]
  },
  {
   "cell_type": "code",
   "execution_count": null,
   "metadata": {},
   "outputs": [],
   "source": [
    "personas_que_compraron = df.loc[df['event']=='conversion',['person']].drop_duplicates()\n",
    "personas_que_compraron['compro'] = True\n",
    "personas_que_compraron.head()"
   ]
  },
  {
   "cell_type": "code",
   "execution_count": null,
   "metadata": {},
   "outputs": [],
   "source": [
    "compras_por_campania = pd.merge(ad_campaigns_cool, personas_que_compraron, on='person', how='left')\n",
    "compras_por_campania.head(10)"
   ]
  },
  {
   "cell_type": "code",
   "execution_count": null,
   "metadata": {},
   "outputs": [],
   "source": [
    "compras2 = compras_por_campania.groupby('campaign_source').agg({'person': 'count','compro':'count'})\n",
    "compras2.head()"
   ]
  },
  {
   "cell_type": "code",
   "execution_count": null,
   "metadata": {},
   "outputs": [],
   "source": [
    "g = compras2['person'].sort_values(ascending=False).head().plot('bar')\n",
    "g.set_title('Hits por campaña')\n",
    "g.set_xlabel('Campaña publicitaria')\n",
    "g.set_ylabel('Cantidad de hits')"
   ]
  },
  {
   "cell_type": "code",
   "execution_count": null,
   "metadata": {},
   "outputs": [],
   "source": [
    "g2 = compras2['compro'].sort_values(ascending=False).plot('bar')\n",
    "g2.set_title('Cantidad de compras realizadas por campaña')"
   ]
  },
  {
   "cell_type": "code",
   "execution_count": null,
   "metadata": {},
   "outputs": [],
   "source": [
    "compras2['porcentaje'] = 100* (compras2['compro']/compras2['person'])\n",
    "g3 = compras2['porcentaje'].sort_values(ascending=False).plot('bar')\n",
    "g3.set_title('Porcentaje de compras logradas por campaña publicitaria')"
   ]
  },
  {
   "cell_type": "markdown",
   "metadata": {},
   "source": [
    "Hay una \"campaña publicitaria\" llamada onsite que debería ser eliminada del data frame"
   ]
  },
  {
   "cell_type": "code",
   "execution_count": null,
   "metadata": {},
   "outputs": [],
   "source": []
  },
  {
   "cell_type": "code",
   "execution_count": null,
   "metadata": {},
   "outputs": [],
   "source": []
  }
 ],
 "metadata": {
  "kernelspec": {
   "display_name": "Python 3",
   "language": "python",
   "name": "python3"
  },
  "language_info": {
   "codemirror_mode": {
    "name": "ipython",
    "version": 3
   },
   "file_extension": ".py",
   "mimetype": "text/x-python",
   "name": "python",
   "nbconvert_exporter": "python",
   "pygments_lexer": "ipython3",
   "version": "3.6.5"
  }
 },
 "nbformat": 4,
 "nbformat_minor": 2
}
