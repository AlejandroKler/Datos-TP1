{
 "cells": [
  {
   "cell_type": "markdown",
   "metadata": {},
   "source": [
    "# Análisis Exploratorio de los datos de Trocafone\n",
    "\n"
   ]
  },
  {
   "cell_type": "markdown",
   "metadata": {},
   "source": [
    "### Propuestas\n"
   ]
  },
  {
   "cell_type": "markdown",
   "metadata": {},
   "source": [
    "## Configuracion inicial"
   ]
  },
  {
   "cell_type": "code",
   "execution_count": null,
   "metadata": {},
   "outputs": [],
   "source": [
    "#Importo librerias\n",
    "import pandas as pd\n",
    "import numpy as np\n",
    "import matplotlib.pyplot as plt\n",
    "import seaborn as sns"
   ]
  },
  {
   "cell_type": "code",
   "execution_count": null,
   "metadata": {},
   "outputs": [],
   "source": [
    "%matplotlib inline\n",
    "plt.style.use('default')\n",
    "sns.set()"
   ]
  },
  {
   "cell_type": "code",
   "execution_count": null,
   "metadata": {},
   "outputs": [],
   "source": [
    "#Funciones auxiliares\n",
    "def mostrar_porcentaje_barplot(ax):\n",
    "    suma = 0\n",
    "    for p in ax.patches:\n",
    "        suma += p.get_height()\n",
    "    for p in ax.patches:\n",
    "        ax.annotate(str(np.round(100 *(p.get_height() / suma),decimals=2)) + \"%\", (p.get_x()+p.get_width()/2., p.get_height()), ha='center', va='center', xytext=(0, 10), textcoords='offset points')\n",
    "def mostrar_valores_barplot(ax):\n",
    "    for p in ax.patches:\n",
    "        ax.annotate(np.round(p.get_height(),decimals=2), (p.get_x()+p.get_width()/2., p.get_height()), ha='center', va='center', xytext=(0, 10), textcoords='offset points')"
   ]
  },
  {
   "cell_type": "code",
   "execution_count": null,
   "metadata": {},
   "outputs": [],
   "source": [
    "#Cargo el DataFrame\n",
    "df = pd.read_csv('events.csv', low_memory = False, parse_dates = ['timestamp'], infer_datetime_format = True,\n",
    "                    dtype = {'event': 'category','condition': 'category','storage': 'category', 'color': 'category', 'staticpage': 'category', 'campaign_source': 'category', 'search_engine': 'category', 'channel': 'category', 'new_vs_returning': 'category', 'region': 'category', 'country': 'category', 'device_type': 'category'})\n",
    "df.head()"
   ]
  },
  {
   "cell_type": "markdown",
   "metadata": {},
   "source": [
    "## Chequeos de integridad y calidad de los datos\n"
   ]
  },
  {
   "cell_type": "code",
   "execution_count": null,
   "metadata": {},
   "outputs": [],
   "source": [
    "df.info()"
   ]
  },
  {
   "cell_type": "markdown",
   "metadata": {},
   "source": [
    "Como podemos ver, todas las filas especifican 'timestamp', 'event' y 'person'"
   ]
  },
  {
   "cell_type": "markdown",
   "metadata": {},
   "source": [
    "### Analizamos los valores que pueden tomar las columnas categoricas"
   ]
  },
  {
   "cell_type": "code",
   "execution_count": null,
   "metadata": {},
   "outputs": [],
   "source": [
    "valores = df['condition'].unique()\n",
    "for valor in valores:\n",
    "    print(valor, end = ', ')"
   ]
  },
  {
   "cell_type": "code",
   "execution_count": null,
   "metadata": {},
   "outputs": [],
   "source": [
    "valores = df['storage'].unique()\n",
    "for valor in valores:\n",
    "    print(valor, end = ', ')"
   ]
  },
  {
   "cell_type": "code",
   "execution_count": null,
   "metadata": {},
   "outputs": [],
   "source": [
    "valores = df['channel'].unique()\n",
    "for valor in valores:\n",
    "    print(valor, end = ', ')"
   ]
  },
  {
   "cell_type": "code",
   "execution_count": null,
   "metadata": {},
   "outputs": [],
   "source": [
    "valores = df['staticpage'].unique()\n",
    "for valor in valores:\n",
    "    print(valor, end = ', ')"
   ]
  },
  {
   "cell_type": "markdown",
   "metadata": {},
   "source": [
    "## Analisis tipos de evento"
   ]
  },
  {
   "cell_type": "code",
   "execution_count": null,
   "metadata": {},
   "outputs": [],
   "source": [
    "colUsadasEventos = df.groupby(by = 'event').count()\n",
    "colUsadasEventos"
   ]
  },
  {
   "cell_type": "code",
   "execution_count": null,
   "metadata": {},
   "outputs": [],
   "source": [
    "columns = list(df)\n",
    "for event, row in colUsadasEventos.iterrows():\n",
    "    print(event, end = ':')\n",
    "    \n",
    "    for column in columns:\n",
    "        if(row.get(column) != 0):\n",
    "            print(' ' + column, end = ',')\n",
    "            \n",
    "    print()"
   ]
  },
  {
   "cell_type": "markdown",
   "metadata": {},
   "source": [
    "## Columnas usadas por cada evento\n",
    "\n",
    "Todos los eventos contienen informacion sobre **'timestamp'**, **'event'** y **'person'**, y ademas utilizan las siguientes columnas:\n",
    "\n",
    "**ad campaign hit:**\n",
    "    url, campaign_source\n",
    "\n",
    "**brand listing:**\n",
    "    skus\n",
    "\n",
    "**checkout:** \n",
    "    sku, model, condition, storage, color\n",
    "\n",
    "**conversion:**\n",
    "    sku, model, condition, storage, color\n",
    "\n",
    "**generic listing:**\n",
    "    skus\n",
    "\n",
    "**lead:**\n",
    "    model\n",
    "\n",
    "**search engine hit:** \n",
    "    search_engine\n",
    "\n",
    "**searched products:** \n",
    "    skus, search_term\n",
    "\n",
    "**staticpage:** \n",
    "    staticpage\n",
    "\n",
    "**viewed product:** \n",
    "    sku, model, condition, storage, color\n",
    "\n",
    "**visited site:** \n",
    "    channel, new_vs_returning, city, region, country, device_type, screen_resolution, operating_system_version, browser_version\n"
   ]
  },
  {
   "cell_type": "markdown",
   "metadata": {},
   "source": [
    "## Analisis geográfico"
   ]
  },
  {
   "cell_type": "code",
   "execution_count": null,
   "metadata": {},
   "outputs": [],
   "source": [
    "#Solo los eventos \"visited site\" especifican pais\n",
    "visitas = df.loc[df[\"event\"] == \"visited site\", ['person', 'country', 'city', 'region']]"
   ]
  },
  {
   "cell_type": "code",
   "execution_count": null,
   "metadata": {},
   "outputs": [],
   "source": [
    "visitas['country'].value_counts().head(10)"
   ]
  },
  {
   "cell_type": "markdown",
   "metadata": {},
   "source": [
    "La mayor parte de las visitas provienen de Brasil, por lo que nos limitaremos a analizar a la audiencia brasileña"
   ]
  },
  {
   "cell_type": "code",
   "execution_count": null,
   "metadata": {},
   "outputs": [],
   "source": [
    "visitas_brasil = visitas[visitas['country'] == 'Brazil']\n",
    "#filtramos una visita por usuarios unicos, si un usuario entro muchas veces desde una ciudad la contaremos como una\n",
    "# y si entro desde muchas ciudades, contaremos una visita por ciudad\n",
    "visitas_brasil = visitas_brasil.drop_duplicates()\n",
    "\n",
    "visitas_brasil['region'].value_counts().head()"
   ]
  },
  {
   "cell_type": "code",
   "execution_count": null,
   "metadata": {},
   "outputs": [],
   "source": [
    "#Comprobamos que no especifique ciudad para region de tipo \"Unknown\"\n",
    "visitas_brasil[visitas_brasil['region'] == 'Unknown']['city'].value_counts().head()"
   ]
  },
  {
   "cell_type": "code",
   "execution_count": null,
   "metadata": {},
   "outputs": [],
   "source": [
    "#Filtramos los 'Unknown'\n",
    "visitas_brasil = visitas_brasil[visitas_brasil['region'] != 'Unknown']\n",
    "ax = visitas_brasil['region'].value_counts().head(15).plot('bar')\n",
    "ax.set(xlabel='Region', ylabel='Cantidad de usuarios')\n",
    "ax.set_title('Usuarios por region')\n",
    "mostrar_porcentaje_barplot(ax)\n",
    "sns.set(rc={'figure.figsize':(14.7,8.27)})"
   ]
  },
  {
   "cell_type": "code",
   "execution_count": null,
   "metadata": {},
   "outputs": [],
   "source": [
    "visitas_brasil = visitas_brasil[visitas_brasil['city'] != 'Unknown']\n",
    "ax = visitas_brasil['city'].value_counts().head(15).plot('bar')\n",
    "ax.set(xlabel='Ciudad', ylabel='Cantidad de usuarios')\n",
    "ax.set_title('Usuarios por ciudad')\n",
    "mostrar_porcentaje_barplot(ax)\n",
    "sns.set(rc={'figure.figsize':(14.7,8.27)})"
   ]
  },
  {
   "cell_type": "markdown",
   "metadata": {},
   "source": [
    "### Falta meterle un Basemap!!!!!!!!!!!!!!!!!!!"
   ]
  },
  {
   "cell_type": "markdown",
   "metadata": {},
   "source": [
    "## Captacion de usuarios"
   ]
  },
  {
   "cell_type": "code",
   "execution_count": null,
   "metadata": {},
   "outputs": [],
   "source": [
    "personas_new_ret = df.loc[df[\"event\"] == \"visited site\", ['person', 'new_vs_returning']]\n",
    "personas_new_ret['returning_hits'] = personas_new_ret['new_vs_returning'] == 'Returning'\n",
    "personas_new_ret.drop(columns='new_vs_returning', inplace=True)\n",
    "personas_new_ret.head()"
   ]
  },
  {
   "cell_type": "code",
   "execution_count": null,
   "metadata": {},
   "outputs": [],
   "source": [
    "personas_ret_hits = personas_new_ret.groupby(by = 'person').agg({'returning_hits': np.count_nonzero})\n",
    "personas_ret_hits.head(10)"
   ]
  },
  {
   "cell_type": "code",
   "execution_count": null,
   "metadata": {},
   "outputs": [],
   "source": [
    "x = personas_ret_hits['returning_hits']\n",
    "x.value_counts().head(10)"
   ]
  },
  {
   "cell_type": "code",
   "execution_count": null,
   "metadata": {},
   "outputs": [],
   "source": [
    "sns.distplot(x, hist_kws={'log':True}, kde = False, axlabel = 'Cantidad de returning_hits').set_title('Cantidad de usuarios según returning_hits')"
   ]
  },
  {
   "cell_type": "markdown",
   "metadata": {},
   "source": [
    "La mayoría de los usuarios ingresa al sitio una única vez"
   ]
  },
  {
   "cell_type": "code",
   "execution_count": null,
   "metadata": {},
   "outputs": [],
   "source": [
    "cant_returns = x.value_counts()\n",
    "cero_returns = cant_returns[0]\n",
    "uno_diez_returns = cant_returns[1:11].values.sum()\n",
    "diez_mas_returns = cant_returns[11:].values.sum()\n",
    "datos_returns = [cero_returns, uno_diez_returns, diez_mas_returns]\n",
    "x_labels = ['1', '2 - 10', '10+']\n",
    "ax = sns.barplot(x = x_labels, y = datos_returns)\n",
    "ax.set(xlabel='Cantidad de visitas al sitio', ylabel='Cantidad de Usuarios', title = 'Cantidad de usuarios segun veces que visitaron el sitio')"
   ]
  },
  {
   "cell_type": "markdown",
   "metadata": {},
   "source": [
    "La mayoria de los usuarios visita el sitio una única vez, mientras que solo una pequeña proporción volvió al sitio mas de 10 veces. Es posible que un mismo usuario entre desde dispositivos diferentes."
   ]
  },
  {
   "cell_type": "markdown",
   "metadata": {},
   "source": [
    "## Analisis temporal"
   ]
  },
  {
   "cell_type": "code",
   "execution_count": null,
   "metadata": {},
   "outputs": [],
   "source": [
    "#Analizamos periodo de los datos\n",
    "df['timestamp'].dt.year.value_counts()"
   ]
  },
  {
   "cell_type": "markdown",
   "metadata": {},
   "source": [
    "Todos los datos son de 2018"
   ]
  },
  {
   "cell_type": "code",
   "execution_count": null,
   "metadata": {},
   "outputs": [],
   "source": [
    "df['timestamp'].dt.month_name().value_counts()"
   ]
  },
  {
   "cell_type": "markdown",
   "metadata": {},
   "source": [
    "De los primeros dos trimestres del año"
   ]
  },
  {
   "cell_type": "code",
   "execution_count": null,
   "metadata": {},
   "outputs": [],
   "source": [
    "#Vamos a hacer un analisis sobre los dias en los que se produjeron los eventos\n",
    "dias_semana = df['timestamp'].dt.weekday_name\n",
    "dias_ordenados = ['Monday', 'Tuesday', 'Wednesday', 'Thursday', 'Friday', 'Saturday', 'Sunday']\n",
    "dias_semana = pd.Categorical(dias_semana, categories = dias_ordenados, ordered = True)\n",
    "g = dias_semana.value_counts().plot('bar')\n",
    "g.set_title('Cantidad de eventos por dia de la semana')"
   ]
  },
  {
   "cell_type": "markdown",
   "metadata": {},
   "source": [
    "Vemos que durante el fin de semana el trafico es menor"
   ]
  },
  {
   "cell_type": "code",
   "execution_count": null,
   "metadata": {},
   "outputs": [],
   "source": [
    "tiempo_eventos = pd.DataFrame()\n",
    "tiempo_eventos['event'] = df['event']\n",
    "tiempo_eventos['dia_semana'] = df['timestamp'].dt.weekday_name\n",
    "tiempo_eventos['dia'] = df['timestamp'].dt.day\n",
    "tiempo_eventos['hora'] = df['timestamp'].dt.hour\n",
    "tiempo_eventos['mes'] = df['timestamp'].dt.month_name()\n",
    "\n",
    "hora_weekday_visitas = tiempo_eventos[tiempo_eventos['event'] == 'visited site'].groupby('dia_semana')['hora'].value_counts().to_frame()\n",
    "hora_weekday_visitas = hora_weekday_visitas.rename(columns = {'hora':'cant_casos'})\n",
    "hora_weekday_visitas = hora_weekday_visitas.reset_index('hora')\n",
    "hora_weekday_visitas.index = pd.CategoricalIndex(hora_weekday_visitas.index, categories= dias_ordenados)\n",
    "hora_weekday_visitas.sort_index(level=0, inplace=True)\n",
    "hora_weekday_visitas = hora_weekday_visitas.reset_index()\n",
    "\n",
    "dia_mes_visitas = tiempo_eventos[tiempo_eventos['event'] == 'visited site'].groupby('mes')['dia'].value_counts().to_frame()\n",
    "dia_mes_visitas = dia_mes_visitas.rename(columns = {'dia':'cant_casos'})\n",
    "dia_mes_visitas = dia_mes_visitas.reset_index('dia')\n",
    "dia_mes_visitas.index = pd.CategoricalIndex(dia_mes_visitas.index, categories= ['January', 'February', 'March', 'April', 'May', 'June'])\n",
    "dia_mes_visitas.sort_index(level=0, inplace=True)\n",
    "dia_mes_visitas = dia_mes_visitas.reset_index()"
   ]
  },
  {
   "cell_type": "code",
   "execution_count": null,
   "metadata": {},
   "outputs": [],
   "source": [
    "pivot = hora_weekday_visitas.pivot_table(index = 'dia_semana', columns = 'hora', values = 'cant_casos')\n",
    "cmap = sns.cm.rocket_r\n",
    "ax = sns.heatmap(data = pivot, cmap = cmap)\n",
    "ax.set(xlabel='Hora', ylabel='Dia de la semana', title = 'Visitas segun hora del dia')"
   ]
  },
  {
   "cell_type": "markdown",
   "metadata": {},
   "source": [
    "Durante el fin de semana la cantidad de visitas es menor, mientras que la mayoria de las visitas se realizan entre las 12 y las 2"
   ]
  },
  {
   "cell_type": "code",
   "execution_count": null,
   "metadata": {},
   "outputs": [],
   "source": [
    "pivot = dia_mes_visitas.pivot_table(index = 'dia', columns = 'mes', values = 'cant_casos')\n",
    "cmap = sns.cm.rocket_r\n",
    "sns.set(rc={'figure.figsize':(10.7,9.27)})\n",
    "ax = sns.heatmap(data = pivot, cmap = cmap, annot = True, fmt=\".0f\")\n",
    "ax.set(xlabel='Mes', ylabel='Dia', title = 'Visitas 2018')"
   ]
  },
  {
   "cell_type": "markdown",
   "metadata": {},
   "source": [
    "Las visitas crecieron aceleradamente a lo largo del año, logrando un despegue a partir de mayo. Analizaremos las causas de esto mas adelante"
   ]
  },
  {
   "cell_type": "code",
   "execution_count": null,
   "metadata": {},
   "outputs": [],
   "source": []
  },
  {
   "cell_type": "code",
   "execution_count": null,
   "metadata": {},
   "outputs": [],
   "source": []
  },
  {
   "cell_type": "code",
   "execution_count": null,
   "metadata": {},
   "outputs": [],
   "source": []
  },
  {
   "cell_type": "markdown",
   "metadata": {},
   "source": [
    "## Origen de las visitas"
   ]
  },
  {
   "cell_type": "code",
   "execution_count": null,
   "metadata": {},
   "outputs": [],
   "source": [
    "visitas = df.loc[df[\"event\"] == \"visited site\", ['timestamp', 'person', 'channel', 'new_vs_returning', 'city', 'region', 'country', 'device_type', 'screen_resolution', 'operating_system_version', 'browser_version']]\n",
    "colors = {'Paid': 'navy', 'Direct': 'g', 'Organic': 'coral', 'Referral': 'm', 'Social': 'goldenrod', 'Email': 'k', 'Unknown': 'grey'}"
   ]
  },
  {
   "cell_type": "code",
   "execution_count": null,
   "metadata": {},
   "outputs": [],
   "source": [
    "valores = visitas['channel'].value_counts()\n",
    "ax = valores.plot(kind = 'bar', color=[colors.get(i) for i in valores.index])\n",
    "ax.set_title('Origen de las visitas')\n",
    "ax.set_ylabel('Cantidad')\n",
    "ax.set_xlabel('Channel')\n",
    "plt.xticks(rotation=0)\n",
    "mostrar_porcentaje_barplot(ax)"
   ]
  },
  {
   "cell_type": "markdown",
   "metadata": {},
   "source": [
    "### Origen de usuarios nuevos"
   ]
  },
  {
   "cell_type": "code",
   "execution_count": null,
   "metadata": {},
   "outputs": [],
   "source": [
    "valores = visitas[visitas['new_vs_returning'] == 'New']['channel'].value_counts()\n",
    "ax = valores.plot(kind = 'bar', color=[colors.get(i) for i in valores.index])\n",
    "ax.set_title('Origen de las visitas de usuarios nuevos')\n",
    "ax.set_ylabel('Cantidad')\n",
    "ax.set_xlabel('Channel')\n",
    "plt.xticks(rotation=0)\n",
    "mostrar_porcentaje_barplot(ax)"
   ]
  },
  {
   "cell_type": "markdown",
   "metadata": {},
   "source": [
    "### Origen usuarios no nuevos"
   ]
  },
  {
   "cell_type": "code",
   "execution_count": null,
   "metadata": {},
   "outputs": [],
   "source": [
    "valores = visitas[visitas['new_vs_returning'] == 'Returning']['channel'].value_counts()\n",
    "ax = valores.plot(kind = 'bar', color=[colors.get(i) for i in valores.index])\n",
    "ax.set_title('Origen de las visitas de usuarios no nuevos')\n",
    "ax.set_ylabel('Cantidad')\n",
    "ax.set_xlabel('Channel')\n",
    "plt.xticks(rotation=0)\n",
    "mostrar_porcentaje_barplot(ax)"
   ]
  },
  {
   "cell_type": "markdown",
   "metadata": {},
   "source": [
    "<font size=3>Vemos que el canal pago es el que mas visitas atrae, no solo para usuarios nuevos sino tambien para usuarios que ya habian entrado al sitio. Por otro lado, se puede ver como el canal \"Direct\" (tipeado de URL, acceso mediante favoritos y similares) toma protagonismo para visitas de usuarios que ya conocen el sitio. Pero esto puede ser causado por un pequeño numero de usuarios que visitan repetidas veces el sitio</font>"
   ]
  },
  {
   "cell_type": "markdown",
   "metadata": {},
   "source": [
    "<font size=3>Por lo tanto ahora tomaremos solo un metodo predominante de acceso al sitio por usuario, para usarios no nuevos</font>"
   ]
  },
  {
   "cell_type": "code",
   "execution_count": null,
   "metadata": {},
   "outputs": [],
   "source": [
    "valores = visitas[visitas['new_vs_returning'] == 'Returning'].groupby('person')['channel'].agg(lambda x: x.value_counts().index[0]).value_counts()\n",
    "\n",
    "ax = valores.plot(kind = 'bar', color=[colors.get(i) for i in valores.index])\n",
    "ax.set_title('Canal predominante de ingreso al sitio para usuarios no nuevos')\n",
    "ax.set_ylabel('Cantidad de usuarios')\n",
    "ax.set_xlabel('Evento predominante')\n",
    "plt.xticks(rotation=0)\n",
    "mostrar_porcentaje_barplot(ax)"
   ]
  },
  {
   "cell_type": "markdown",
   "metadata": {},
   "source": [
    "Vemos que en este caso el canal predominante de ingreso al sitio para usuarios no nuevos sigue siendo el canal pago, aunque con menor proporcion que para usuarios nuevos. El ingreso mediante \"referrals\" de otros sitios queda en segundo lugar, teniendo una proporcion mucho mayor que para usuarios nuevos."
   ]
  },
  {
   "cell_type": "markdown",
   "metadata": {},
   "source": [
    "## Analisis publicitario"
   ]
  },
  {
   "cell_type": "code",
   "execution_count": null,
   "metadata": {},
   "outputs": [],
   "source": []
  },
  {
   "cell_type": "code",
   "execution_count": null,
   "metadata": {},
   "outputs": [],
   "source": []
  },
  {
   "cell_type": "code",
   "execution_count": null,
   "metadata": {},
   "outputs": [],
   "source": [
    "df_indice_en_persona_evento = df.set_index(['person','event'])"
   ]
  },
  {
   "cell_type": "code",
   "execution_count": null,
   "metadata": {},
   "outputs": [],
   "source": [
    "dif_primer_ultimo_evento = df_indice_en_persona_evento.groupby('person').agg({'timestamp':['max', 'min']})\n",
    "dif_primer_ultimo_evento['diferencia'] = dif_primer_ultimo_evento['timestamp']['max'] - dif_primer_ultimo_evento['timestamp']['min']\n",
    "dif_primer_ultimo_evento.drop(columns='timestamp', inplace= True)\n",
    "#mejora notoria de tiempo de ejecucion"
   ]
  },
  {
   "cell_type": "code",
   "execution_count": null,
   "metadata": {},
   "outputs": [],
   "source": [
    "dif_primer_ultimo_evento = dif_primer_ultimo_evento.loc[dif_primer_ultimo_evento['diferencia']>'1 day'].sort_values(by = 'diferencia')\n",
    "pd.concat([dif_primer_ultimo_evento.head(), dif_primer_ultimo_evento.tail()])"
   ]
  },
  {
   "cell_type": "markdown",
   "metadata": {},
   "source": [
    "# Quiero ver Que campaña publicitaria lleva a mas ventas"
   ]
  },
  {
   "cell_type": "code",
   "execution_count": null,
   "metadata": {},
   "outputs": [],
   "source": [
    "personas_por_publicidad = {}\n",
    "    \n",
    "ad_campaigns = df.loc[(df['event']=='ad campaign hit') | (df['event']=='conversion')].drop_duplicates()#[['person','campaign_source']].drop_duplicates().set_index('campaign_source')\n",
    "ad_campaigns"
   ]
  },
  {
   "cell_type": "code",
   "execution_count": null,
   "metadata": {},
   "outputs": [],
   "source": [
    "ad_campaigns_cool = df.loc[(df['event']=='ad campaign hit'),['person','campaign_source']].drop_duplicates()\n",
    "ad_campaigns_cool.head()"
   ]
  },
  {
   "cell_type": "code",
   "execution_count": null,
   "metadata": {},
   "outputs": [],
   "source": [
    "personas_que_compraron = df.loc[df['event']=='conversion',['person']].drop_duplicates()\n",
    "personas_que_compraron['compro'] = True\n",
    "personas_que_compraron.head()"
   ]
  },
  {
   "cell_type": "code",
   "execution_count": null,
   "metadata": {},
   "outputs": [],
   "source": [
    "compras_por_campania = pd.merge(ad_campaigns_cool, personas_que_compraron, on='person', how='left')\n",
    "compras_por_campania.head(10)"
   ]
  },
  {
   "cell_type": "code",
   "execution_count": null,
   "metadata": {},
   "outputs": [],
   "source": [
    "compras2 = compras_por_campania.groupby('campaign_source').agg({'person': 'count','compro':'count'})\n",
    "compras2.head()"
   ]
  },
  {
   "cell_type": "code",
   "execution_count": null,
   "metadata": {},
   "outputs": [],
   "source": [
    "g = compras2['person'].sort_values(ascending=False).head().plot('bar')\n",
    "g.set_title('Hits por campaña')\n",
    "g.set_xlabel('Campaña publicitaria')\n",
    "g.set_ylabel('Cantidad de hits')"
   ]
  },
  {
   "cell_type": "code",
   "execution_count": null,
   "metadata": {},
   "outputs": [],
   "source": [
    "g2 = compras2['compro'].sort_values(ascending=False).plot('bar')\n",
    "g2.set_title('Cantidad de compras realizadas por campaña')"
   ]
  },
  {
   "cell_type": "code",
   "execution_count": null,
   "metadata": {},
   "outputs": [],
   "source": [
    "#QUITAMOS LOS QUE TIENEN MENOS DE 10 HITS PARA NO DEFORMAR\n",
    "compras2 = compras2[compras2[\"person\"] > 10]\n",
    "compras2['porcentaje'] = 100* (compras2['compro']/compras2['person'])\n",
    "g3 = compras2['porcentaje'].sort_values(ascending=False).plot('bar')\n",
    "g3.set_title('Porcentaje de compras logradas por campaña publicitaria')"
   ]
  },
  {
   "cell_type": "markdown",
   "metadata": {},
   "source": [
    "Hay una \"campaña publicitaria\" llamada onsite que debería ser eliminada del data frame"
   ]
  },
  {
   "cell_type": "markdown",
   "metadata": {},
   "source": [
    "## Analisis por dispositivo "
   ]
  },
  {
   "cell_type": "code",
   "execution_count": null,
   "metadata": {},
   "outputs": [],
   "source": [
    "df['device_type'].value_counts()"
   ]
  },
  {
   "cell_type": "code",
   "execution_count": null,
   "metadata": {},
   "outputs": [],
   "source": [
    "dispositivos_registrados = df.loc[(df['event']=='visited site'),['person','device_type','new_vs_returning']]\n",
    "dispositivos_nuevos = dispositivos_registrados.loc[dispositivos_registrados['new_vs_returning']=='New']\n",
    "\n",
    "g_dispositivos_nuevos = dispositivos_nuevos['device_type'].value_counts().plot('bar')\n",
    "g_dispositivos_nuevos.set_title('Dispositivos de nuevas visitas [New Hits]')\n",
    "g_dispositivos_nuevos.set_xlabel('Tipo de dispositivo')\n",
    "g_dispositivos_nuevos.set_ylabel('Cantidad de personas')"
   ]
  },
  {
   "cell_type": "markdown",
   "metadata": {},
   "source": [
    "Los unicos dispositivos relevantes son los de Smartphones y Computadoras"
   ]
  },
  {
   "cell_type": "code",
   "execution_count": null,
   "metadata": {},
   "outputs": [],
   "source": [
    "#Filtro las personas entraron por primera vez por su celular\n",
    "personas_nuevas_smartphone = dispositivos_nuevos.loc[(dispositivos_nuevos['device_type']=='Smartphone'),['person']]\n",
    "\n",
    "#Filtro paralelamente las personas que volvieron a entrar desde sus PCs\n",
    "personas_returning_pc = dispositivos_registrados.loc[(dispositivos_registrados['device_type']=='Computer') & (df['new_vs_returning']=='Returning'),['person']]\n",
    "personas_returning_pc['Volvieron_en_PC'] = True"
   ]
  },
  {
   "cell_type": "code",
   "execution_count": null,
   "metadata": {},
   "outputs": [],
   "source": [
    "personas_new_Smartphone_ret_PC = pd.merge(personas_nuevas_smartphone, personas_returning_pc, on='person', how='left').drop_duplicates()\n",
    "personas_new_Smartphone_ret_PC['Volvieron_en_PC'].fillna(False,inplace=True)\n",
    "personas_new_Smartphone_ret_PC.describe()"
   ]
  },
  {
   "cell_type": "markdown",
   "metadata": {},
   "source": [
    "#### Veo la cantidad de personas que entraron por primera vez a la página desde sus celulares y volvieron desde sus PCs"
   ]
  },
  {
   "cell_type": "code",
   "execution_count": null,
   "metadata": {},
   "outputs": [],
   "source": [
    "cantidad_personas_que_volvieron_enPC = personas_new_Smartphone_ret_PC['Volvieron_en_PC'].value_counts()\n",
    "cantidad_personas_que_volvieron_enPC\n"
   ]
  },
  {
   "cell_type": "code",
   "execution_count": null,
   "metadata": {},
   "outputs": [],
   "source": [
    "g_personas_ret_PC = cantidad_personas_que_volvieron_enPC.plot('bar')\n",
    "g_personas_ret_PC.set_title('Personas que vuelven a la pagina desde la PC luego de entrar por primera vez desde Smartphone')\n",
    "g_personas_ret_PC.set_xlabel('Vuelve a la pagina')\n",
    "g_personas_ret_PC.set_ylabel('Cantidad de personas')"
   ]
  },
  {
   "cell_type": "markdown",
   "metadata": {},
   "source": [
    "Se nota que no es representativa el numero de personas que entran primero a la pagina por sus celulares y luego vuelven a entrar desde la PC"
   ]
  },
  {
   "cell_type": "markdown",
   "metadata": {},
   "source": [
    "#### Analizamos si de las personas que vuelven a entrar desde la PC (y que primero ingresaron con sus Smartphones) terminan realizando alguna compra"
   ]
  },
  {
   "cell_type": "code",
   "execution_count": null,
   "metadata": {},
   "outputs": [],
   "source": [
    "personas_vuelven_y_compran = pd.merge(personas_new_Smartphone_ret_PC, personas_que_compraron, on='person', how='left').drop_duplicates()\n",
    "personas_vuelven_y_compran['compro'].fillna(False,inplace=True)\n",
    "personas_vuelven_y_compran.loc[personas_vuelven_y_compran['Volvieron_en_PC']==True]['compro'].value_counts(normalize = True)"
   ]
  },
  {
   "cell_type": "code",
   "execution_count": null,
   "metadata": {},
   "outputs": [],
   "source": [
    "g5 = personas_vuelven_y_compran.loc[personas_vuelven_y_compran['Volvieron_en_PC']==True]['compro'].value_counts().plot('bar',)\n",
    "g5.set_title(\"Compras de personas que entraron por primera vez en Smarphone, y luego volvieron en PC \")\n",
    "g5.set_xlabel(\"Compraron\")\n",
    "g5.set_ylabel(\"Cantidad de personas\")"
   ]
  },
  {
   "cell_type": "markdown",
   "metadata": {},
   "source": [
    "Podemos ver que de las personas que volvieron a la pagina desde sus PCs luego de entrar desde sus SmartPhones, un 28,4% realizo compras"
   ]
  },
  {
   "cell_type": "markdown",
   "metadata": {},
   "source": [
    "## IDEAS\n",
    "Se puede analizar desde el primer evento (el visited_site con New) de cada usuario, tomando este evento como el cero; cuanto tiempo le lleva o tarda en realizar mas acciones en la pagina"
   ]
  },
  {
   "cell_type": "markdown",
   "metadata": {},
   "source": [
    "## Los usuarios que hicieron checkout. ¿Concretaron la conversión?"
   ]
  },
  {
   "cell_type": "code",
   "execution_count": null,
   "metadata": {},
   "outputs": [],
   "source": [
    "checkouts = df.loc[df['event'] == 'checkout',[\"sku\",\"timestamp\",\"person\",\"model\",\"condition\",\"storage\",\"color\"]]\n",
    "conversiones = df.loc[df['event'] == 'conversion',[\"sku\",\"timestamp\",\"person\",\"model\",\"condition\",\"storage\",\"color\"]]"
   ]
  },
  {
   "cell_type": "markdown",
   "metadata": {},
   "source": [
    "### Observemos la evolución de los checkouts en el tiempo"
   ]
  },
  {
   "cell_type": "code",
   "execution_count": null,
   "metadata": {},
   "outputs": [],
   "source": [
    "checkouts_by_day = df.loc[df['event'] == 'checkout',[\"timestamp\"]]\n",
    "checkouts_by_day[\"Fecha\"] = checkouts_by_day[\"timestamp\"].dt.date\n",
    "checkouts_by_day[\"Semana\"] = checkouts_by_day[\"timestamp\"].dt.week\n",
    "checkouts_by_day.drop(\"timestamp\", axis=1, inplace= True)\n",
    "checkouts_by_day[\"Checkouts\"] = 1\n",
    "\n",
    "checkouts_by_week = checkouts_by_day.groupby(by=\"Semana\").agg({\"Fecha\": \"first\", \"Checkouts\": \"count\"}).set_index('Fecha')\n",
    "checkouts_by_week = checkouts_by_week.iloc[0:-1] # elimino la ultima semana porque quedo con menos de 7 dias\n",
    "checkouts_by_day = checkouts_by_day.groupby(by=\"Fecha\")['Checkouts'].agg(\"count\")\n",
    "\n",
    "ax = checkouts_by_week.plot()\n",
    "ax.set(xlabel='Semana', ylabel='Cantidad de checkouts')\n",
    "ax.set_title('Checkouts semanales')"
   ]
  },
  {
   "cell_type": "markdown",
   "metadata": {},
   "source": [
    "Aparentemente, algo ocurrió a mitad de Mayo. Haciendo zoom podemos ver que el 14 comenzaron a aumentar los checkouts."
   ]
  },
  {
   "cell_type": "code",
   "execution_count": null,
   "metadata": {},
   "outputs": [],
   "source": [
    "acotado = checkouts_by_day.loc[pd.to_datetime(\"2018-05-11\").date() : pd.to_datetime(\"2018-05-18\").date()]\n",
    "\n",
    "ax = acotado.plot(marker=\".\",markersize=\"20\")\n",
    "ax.set(xlabel='Dia', ylabel='Cantidad de checkouts')\n",
    "ax.set_title('Checkouts 11/05 al 17/05')"
   ]
  },
  {
   "cell_type": "markdown",
   "metadata": {},
   "source": [
    "Ahora analicemos la evolución de las conversiones."
   ]
  },
  {
   "cell_type": "code",
   "execution_count": null,
   "metadata": {},
   "outputs": [],
   "source": [
    "conversiones_by_day = df.loc[df['event'] == 'conversion',[\"timestamp\"]]\n",
    "conversiones_by_day[\"Fecha\"] = conversiones_by_day[\"timestamp\"].dt.date\n",
    "conversiones_by_day[\"Semana\"] = conversiones_by_day[\"timestamp\"].dt.week\n",
    "conversiones_by_day.drop(\"timestamp\", axis=1, inplace= True)\n",
    "conversiones_by_day[\"Conversiones\"] = 1\n",
    "#conversiones_by_day = conversiones_by_day.groupby(by=\"Fecha\").agg(\"count\")\n",
    "conversiones_by_day = conversiones_by_day.groupby(by=\"Semana\").agg({\"Fecha\": \"first\", \"Conversiones\": \"count\"}).set_index('Fecha')\n",
    "conversiones_by_day = conversiones_by_day.iloc[0:-1]\n",
    "conversiones_by_day.plot()"
   ]
  },
  {
   "cell_type": "markdown",
   "metadata": {},
   "source": [
    "Veamos si hay correlación entre el aumento de checkouts y las conversiones."
   ]
  },
  {
   "cell_type": "code",
   "execution_count": null,
   "metadata": {},
   "outputs": [],
   "source": [
    "#checkouts_y_conversiones = conversiones_by_day.join(checkouts_by_day,on=\"Fecha\")\n",
    "#checkouts_y_conversiones.plot()\n",
    "fig, ax1 = plt.subplots()\n",
    "\n",
    "color = 'tab:green'\n",
    "ax1.set_xlabel('Semana')\n",
    "ax1.set_ylabel('Cantidad de checkouts', color=color)\n",
    "ax1.plot(checkouts_by_week, color=color)\n",
    "ax1.tick_params(axis='y', labelcolor=color)\n",
    "\n",
    "ax2 = ax1.twinx()\n",
    "\n",
    "color = 'tab:blue'\n",
    "ax2.set_ylabel('Cantidad de conversiones', color=color)\n",
    "ax2.plot(conversiones_by_day, color=color)\n",
    "ax2.tick_params(axis='y', labelcolor=color)\n",
    "\n",
    "fig.tight_layout()\n",
    "plt.show()"
   ]
  },
  {
   "cell_type": "markdown",
   "metadata": {},
   "source": [
    "Se observa un aumento significativo tanto de conversiones como de checkouts en la segunda semana de mayo, pero de ahi en adelante solo los checkouts siguieron aumentando mientras que las conversiones disminuyeron."
   ]
  },
  {
   "cell_type": "markdown",
   "metadata": {},
   "source": [
    "### Marcas con mas checkouts y conversiones"
   ]
  },
  {
   "cell_type": "code",
   "execution_count": null,
   "metadata": {},
   "outputs": [],
   "source": [
    "def obtener_marca(serie_de_modelo):\n",
    "    # La marca es siempre la primer palabra del modelo\n",
    "    r = []\n",
    "    for modelo in serie_de_modelo.tolist():\n",
    "        if pd.isna(modelo):\n",
    "            r.append(\"Unknown\")\n",
    "        else:\n",
    "            r.append(modelo.split()[0])\n",
    "    return r"
   ]
  },
  {
   "cell_type": "code",
   "execution_count": null,
   "metadata": {},
   "outputs": [],
   "source": [
    "checkouts[\"Marca\"] = obtener_marca(checkouts[\"model\"])\n",
    "checkouts = checkouts.loc[checkouts[\"Marca\"] != \"Unknown\"] # Remuevo datos erroneos\n",
    "checkouts[\"Checkouts\"] = 1\n",
    "checkouts_by_marca = checkouts[[\"Marca\",\"Checkouts\"]].groupby(by=[\"Marca\"]).agg(\"count\")\\\n",
    "    .sort_values(by=\"Checkouts\",ascending=False)\n",
    "checkouts_by_marca.plot(kind=\"bar\")"
   ]
  },
  {
   "cell_type": "code",
   "execution_count": null,
   "metadata": {},
   "outputs": [],
   "source": [
    "conversiones[\"Marca\"] = obtener_marca(conversiones[\"model\"])\n",
    "conversiones = conversiones.loc[conversiones[\"Marca\"] != \"Unknown\"] # Remuevo datos erroneos\n",
    "conversiones[\"Conversiones\"] = 1\n",
    "conversiones_by_marca = conversiones[[\"Marca\",\"Conversiones\"]].groupby(by=[\"Marca\"]).agg(\"count\")\\\n",
    "    .sort_values(by=\"Conversiones\",ascending=False)\n",
    "conversiones_by_marca.plot(kind=\"bar\")"
   ]
  },
  {
   "cell_type": "code",
   "execution_count": null,
   "metadata": {},
   "outputs": [],
   "source": [
    "marca_stats = conversiones_by_marca.join(checkouts_by_marca).sort_values(by=\"Checkouts\",ascending=False)\n",
    "marca_stats[\"CheckoutsSinConversion\"] = marca_stats[\"Checkouts\"] - marca_stats[\"Conversiones\"]\n",
    "marca_stats.drop(\"Checkouts\", axis=1, inplace= True)\n",
    "marca_stats.plot(kind=\"bar\",stacked=True)"
   ]
  },
  {
   "cell_type": "code",
   "execution_count": null,
   "metadata": {},
   "outputs": [],
   "source": [
    "#analizar\n",
    "pd.crosstab(checkouts['condition'],checkouts['Marca'])"
   ]
  }
 ],
 "metadata": {
  "kernelspec": {
   "display_name": "Python 3",
   "language": "python",
   "name": "python3"
  },
  "language_info": {
   "codemirror_mode": {
    "name": "ipython",
    "version": 3
   },
   "file_extension": ".py",
   "mimetype": "text/x-python",
   "name": "python",
   "nbconvert_exporter": "python",
   "pygments_lexer": "ipython3",
   "version": "3.6.5"
  }
 },
 "nbformat": 4,
 "nbformat_minor": 2
}
