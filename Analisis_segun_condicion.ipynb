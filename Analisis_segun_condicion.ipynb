{
 "cells": [
  {
   "cell_type": "code",
   "execution_count": 2,
   "metadata": {},
   "outputs": [],
   "source": [
    "#Importo librerias\n",
    "import pandas as pd\n",
    "import numpy as np\n",
    "import matplotlib.pyplot as plt\n",
    "import seaborn as sns\n",
    "\n",
    "%matplotlib inline\n",
    "plt.style.use('default')\n",
    "sns.set()"
   ]
  },
  {
   "cell_type": "code",
   "execution_count": 3,
   "metadata": {},
   "outputs": [],
   "source": [
    "#Cargo el DataFrame\n",
    "df = pd.read_csv('events.csv', low_memory = False, parse_dates = ['timestamp'], infer_datetime_format = True,\n",
    "                    dtype = {'event': 'category','condition': 'category','storage': 'category', 'color': 'category', 'staticpage': 'category', 'campaign_source': 'category', 'search_engine': 'category', 'channel': 'category', 'new_vs_returning': 'category', 'region': 'category', 'country': 'category', 'device_type': 'category'})"
   ]
  },
  {
   "cell_type": "markdown",
   "metadata": {},
   "source": [
    "# Analisis de la condición de los celulares\n",
    "\n",
    "#### Mostramos el evento según la condicion que se encuentra el celular"
   ]
  },
  {
   "cell_type": "code",
   "execution_count": 4,
   "metadata": {},
   "outputs": [
    {
     "data": {
      "text/html": [
       "<div>\n",
       "<style scoped>\n",
       "    .dataframe tbody tr th:only-of-type {\n",
       "        vertical-align: middle;\n",
       "    }\n",
       "\n",
       "    .dataframe tbody tr th {\n",
       "        vertical-align: top;\n",
       "    }\n",
       "\n",
       "    .dataframe thead th {\n",
       "        text-align: right;\n",
       "    }\n",
       "</style>\n",
       "<table border=\"1\" class=\"dataframe\">\n",
       "  <thead>\n",
       "    <tr style=\"text-align: right;\">\n",
       "      <th>event</th>\n",
       "      <th>checkout</th>\n",
       "      <th>conversion</th>\n",
       "      <th>viewed product</th>\n",
       "    </tr>\n",
       "    <tr>\n",
       "      <th>condition</th>\n",
       "      <th></th>\n",
       "      <th></th>\n",
       "      <th></th>\n",
       "    </tr>\n",
       "  </thead>\n",
       "  <tbody>\n",
       "    <tr>\n",
       "      <th>Bom</th>\n",
       "      <td>15305</td>\n",
       "      <td>538</td>\n",
       "      <td>227171</td>\n",
       "    </tr>\n",
       "    <tr>\n",
       "      <th>Muito Bom</th>\n",
       "      <td>8184</td>\n",
       "      <td>352</td>\n",
       "      <td>142823</td>\n",
       "    </tr>\n",
       "    <tr>\n",
       "      <th>Excelente</th>\n",
       "      <td>9141</td>\n",
       "      <td>258</td>\n",
       "      <td>143578</td>\n",
       "    </tr>\n",
       "    <tr>\n",
       "      <th>Bom - Sem Touch ID</th>\n",
       "      <td>1090</td>\n",
       "      <td>22</td>\n",
       "      <td>14183</td>\n",
       "    </tr>\n",
       "    <tr>\n",
       "      <th>Novo</th>\n",
       "      <td>13</td>\n",
       "      <td>2</td>\n",
       "      <td>1176</td>\n",
       "    </tr>\n",
       "  </tbody>\n",
       "</table>\n",
       "</div>"
      ],
      "text/plain": [
       "event               checkout  conversion  viewed product\n",
       "condition                                               \n",
       "Bom                    15305         538          227171\n",
       "Muito Bom               8184         352          142823\n",
       "Excelente               9141         258          143578\n",
       "Bom - Sem Touch ID      1090          22           14183\n",
       "Novo                      13           2            1176"
      ]
     },
     "execution_count": 4,
     "metadata": {},
     "output_type": "execute_result"
    }
   ],
   "source": [
    "aux=df.loc[((df['event'] == 'viewed product') | (df['event'] == 'checkout') | (df['event'] == 'conversion')), ['event','condition']]\n",
    "condicion_evento = pd.crosstab(aux['condition'], aux['event'])\n",
    "condicion_evento"
   ]
  },
  {
   "cell_type": "markdown",
   "metadata": {},
   "source": [
    "#### Hacemos el gráfico del mismo"
   ]
  },
  {
   "cell_type": "code",
   "execution_count": 7,
   "metadata": {},
   "outputs": [
    {
     "data": {
      "text/plain": [
       "[Text(0,0.5,'Porcentaje'),\n",
       " Text(0.5,0,'Evento'),\n",
       " Text(0.5,1,'Proporcion de condicion de celular por evento')]"
      ]
     },
     "execution_count": 7,
     "metadata": {},
     "output_type": "execute_result"
    },
    {
     "data": {
      "image/png": "[encoded data removed]",
      "text/plain": [
       "<Figure size 626.4x595.44 with 1 Axes>"
      ]
     },
     "metadata": {},
     "output_type": "display_data"
    }
   ],
   "source": [
    "condicion_evento_norm = pd.DataFrame()\n",
    "condicion_evento_norm['viewed product'] = (condicion_evento['viewed product'] / condicion_evento['viewed product'].sum()) * 100\n",
    "condicion_evento_norm['checkout'] = (condicion_evento['checkout'] / condicion_evento['checkout'].sum()) * 100\n",
    "condicion_evento_norm['conversion'] = (condicion_evento['conversion'] / condicion_evento['conversion'].sum()) * 100\n",
    "sns.set(rc={'figure.figsize':(8.7,8.27)})\n",
    "ax = condicion_evento_norm.T.plot.bar(stacked=True)\n",
    "ax.legend(loc='center left', bbox_to_anchor=(1.0, 0.5))\n",
    "ax.set(xlabel='Evento', ylabel='Porcentaje', title = 'Proporcion de condicion de celular por evento')"
   ]
  },
  {
   "cell_type": "markdown",
   "metadata": {},
   "source": [
    "Como se puede ver en el gráfico, la gente tiende a buscar y comprar más los celulares que no estan en las mejores condiciones (bom). La participacion de los celulares nuevos es casi inexistente. Vemos un decremento en la participacion de celulares de condicion excelente en las conversiones."
   ]
  },
  {
   "cell_type": "code",
   "execution_count": null,
   "metadata": {},
   "outputs": [],
   "source": [
    "g = sns.countplot(x=\"condition\", hue=\"event\", data=aux, palette=\"hls\")\n",
    "g.set_title(\"Cantidad de eventos por condicion del celular\", fontsize=18)\n",
    "g.set_xlabel(\"condicion\", fontsize=18)\n",
    "g.set_ylabel(\"Cantidad de eventos\", fontsize=18)"
   ]
  },
  {
   "cell_type": "markdown",
   "metadata": {},
   "source": [
    "no se puede ver bien porque la cantidad de viewed product"
   ]
  },
  {
   "cell_type": "code",
   "execution_count": null,
   "metadata": {},
   "outputs": [],
   "source": [
    "auxiliar_celulares2 =df.loc[(pd.notnull(df['sku'])),['sku','condition']].drop_duplicates()\n",
    "auxiliar_celulares2.reset_index(drop='true')\n",
    "auxiliar_celulares2.head(5)"
   ]
  },
  {
   "cell_type": "code",
   "execution_count": null,
   "metadata": {},
   "outputs": [],
   "source": [
    "auxiliar_celulares2['celulares'] = 1\n",
    "cantidad_de_celulares = auxiliar_celulares2.groupby('condition').agg({'celulares':'sum'})"
   ]
  },
  {
   "cell_type": "code",
   "execution_count": null,
   "metadata": {},
   "outputs": [],
   "source": [
    "cantidad_de_celulares"
   ]
  },
  {
   "cell_type": "code",
   "execution_count": null,
   "metadata": {},
   "outputs": [],
   "source": [
    "df1= df.loc[(df['event']=='conversion'),['sku','condition']]"
   ]
  },
  {
   "cell_type": "code",
   "execution_count": null,
   "metadata": {},
   "outputs": [],
   "source": [
    "df1['ventas'] = 1\n",
    "grupo_ventas_celular = df1.groupby('condition').agg({'ventas':'sum'}) "
   ]
  },
  {
   "cell_type": "code",
   "execution_count": null,
   "metadata": {},
   "outputs": [],
   "source": [
    "grupo_ventas_celular"
   ]
  },
  {
   "cell_type": "code",
   "execution_count": null,
   "metadata": {},
   "outputs": [],
   "source": [
    "datos_celulares = pd.merge(grupo_ventas_celular,cantidad_de_celulares,on='condition', how='left')"
   ]
  },
  {
   "cell_type": "code",
   "execution_count": null,
   "metadata": {},
   "outputs": [],
   "source": [
    "datos_celulares"
   ]
  },
  {
   "cell_type": "code",
   "execution_count": null,
   "metadata": {},
   "outputs": [],
   "source": [
    "datos_celulares['porcentaje vendido'] = datos_celulares['ventas']/datos_celulares['celulares']\n",
    "datos_celulares"
   ]
  },
  {
   "cell_type": "code",
   "execution_count": null,
   "metadata": {},
   "outputs": [],
   "source": [
    "\n",
    "ax = datos_celulares['porcentaje vendido'].plot(kind = 'bar')\n",
    "ax.set_title('Porcentaje de ventas segun la condicion del celular')\n",
    "ax.set_ylabel('Vendidos/Cantidad de celulares')\n",
    "ax.set_xlabel('condicion')\n",
    "plt.xticks(rotation=0)"
   ]
  },
  {
   "cell_type": "code",
   "execution_count": null,
   "metadata": {},
   "outputs": [],
   "source": [
    "ax = datos_celulares[['ventas','celulares']].plot(kind = 'bar')\n",
    "ax.set_title('ventas y cantidad de celulares')\n",
    "ax.set_ylabel(' cantidad')\n",
    "ax.set_xlabel('condicion')\n",
    "plt.xticks(rotation=0)"
   ]
  },
  {
   "cell_type": "markdown",
   "metadata": {},
   "source": [
    "Con las dos vistas, se puede observar, que la que más ventas tiene son los celulares que están en peor estado. Los celulares nuevos tienen alto grado de ventas, pero al ser infima la cantidad de celulares nuevos, no se puede asegurar nada."
   ]
  },
  {
   "cell_type": "code",
   "execution_count": null,
   "metadata": {},
   "outputs": [],
   "source": []
  }
 ],
 "metadata": {
  "kernelspec": {
   "display_name": "Python 3",
   "language": "python",
   "name": "python3"
  },
  "language_info": {
   "codemirror_mode": {
    "name": "ipython",
    "version": 3
   },
   "file_extension": ".py",
   "mimetype": "text/x-python",
   "name": "python",
   "nbconvert_exporter": "python",
   "pygments_lexer": "ipython3",
   "version": "3.6.5"
  }
 },
 "nbformat": 4,
 "nbformat_minor": 2
}
