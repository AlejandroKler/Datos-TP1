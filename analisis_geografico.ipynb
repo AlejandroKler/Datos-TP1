{
 "cells": [
  {
   "cell_type": "markdown",
   "metadata": {},
   "source": [
    "# Análisis geografico / regional"
   ]
  },
  {
   "cell_type": "code",
   "execution_count": null,
   "metadata": {},
   "outputs": [],
   "source": [
    "#Importo librerias\n",
    "import pandas as pd\n",
    "import numpy as np\n",
    "import matplotlib.pyplot as plt\n",
    "import seaborn as sns\n",
    "%matplotlib inline\n",
    "plt.style.use('default')\n",
    "\n",
    "#Cargo el DataFrame\n",
    "df = pd.read_csv('events.csv', low_memory = False, parse_dates = ['timestamp'], infer_datetime_format = True,\n",
    "                    dtype = {'event': 'category','condition': 'category','storage': 'category', 'color': 'category', 'staticpage': 'category', 'campaign_source': 'category', 'search_engine': 'category', 'channel': 'category', 'new_vs_returning': 'category', 'region': 'category', 'country': 'category', 'device_type': 'category'})"
   ]
  },
  {
   "cell_type": "code",
   "execution_count": null,
   "metadata": {},
   "outputs": [],
   "source": [
    "import geopandas as gpd\n",
    "from geopandas import GeoDataFrame\n",
    "import shapely\n",
    "import shapely.wkt\n",
    "from shapely.geometry import Point\n",
    "from shapely.geometry import Polygon\n",
    "import math"
   ]
  },
  {
   "cell_type": "markdown",
   "metadata": {},
   "source": [
    "## Analisis geográfico"
   ]
  },
  {
   "cell_type": "code",
   "execution_count": null,
   "metadata": {},
   "outputs": [],
   "source": [
    "#Solo los eventos \"visited site\" especifican pais\n",
    "visitas = df.loc[df[\"event\"] == \"visited site\", ['person', 'country', 'city', 'region']]"
   ]
  },
  {
   "cell_type": "code",
   "execution_count": null,
   "metadata": {},
   "outputs": [],
   "source": [
    "visitas['country'].value_counts().head(10)"
   ]
  },
  {
   "cell_type": "markdown",
   "metadata": {},
   "source": [
    "La mayor parte de las visitas provienen de Brasil, por lo que nos limitaremos a analizar a la audiencia brasileña"
   ]
  },
  {
   "cell_type": "code",
   "execution_count": null,
   "metadata": {},
   "outputs": [],
   "source": [
    "visitas_brasil = visitas[visitas['country'] == 'Brazil']\n",
    "#filtramos una visita por usuarios unicos, si un usuario entro muchas veces desde una ciudad la contaremos como una\n",
    "# y si entro desde muchas ciudades, contaremos una visita por ciudad\n",
    "visitas_brasil = visitas_brasil.drop_duplicates()\n",
    "\n",
    "visitas_brasil['region'].value_counts().head()"
   ]
  },
  {
   "cell_type": "code",
   "execution_count": null,
   "metadata": {},
   "outputs": [],
   "source": [
    "#Comprobamos que no especifique ciudad para region de tipo \"Unknown\"\n",
    "visitas_brasil[visitas_brasil['region'] == 'Unknown']['city'].value_counts().head()"
   ]
  },
  {
   "cell_type": "code",
   "execution_count": null,
   "metadata": {},
   "outputs": [],
   "source": [
    "#Filtramos los 'Unknown'\n",
    "visitas_brasil = visitas_brasil[visitas_brasil['region'] != 'Unknown']\n",
    "\n",
    "sns.set(rc={'figure.figsize':(14.7,8.27)})\n",
    "ax = visitas_brasil['region'].value_counts().head(15).plot('bar')\n",
    "ax.set(xlabel='Region', ylabel='Cantidad de usuarios')\n",
    "ax.set_title('Usuarios por region')\n",
    "mostrar_porcentaje_barplot(ax)"
   ]
  },
  {
   "cell_type": "code",
   "execution_count": null,
   "metadata": {},
   "outputs": [],
   "source": [
    "visitas_brasil = visitas_brasil[visitas_brasil['city'] != 'Unknown']\n",
    "ax = visitas_brasil['city'].value_counts().head(15).plot('bar')\n",
    "ax.set(xlabel='Ciudad', ylabel='Cantidad de usuarios')\n",
    "ax.set_title('Usuarios por ciudad')\n",
    "mostrar_porcentaje_barplot(ax)\n",
    "sns.set(rc={'figure.figsize':(14.7,8.27)})"
   ]
  },
  {
   "cell_type": "code",
   "execution_count": null,
   "metadata": {},
   "outputs": [],
   "source": [
    "visitas = df.loc[df[\"event\"] == \"visited site\", ['person', 'country', 'city', 'region']]"
   ]
  },
  {
   "cell_type": "code",
   "execution_count": null,
   "metadata": {},
   "outputs": [],
   "source": [
    "def filtrar_paises(paises):\n",
    "    p = []\n",
    "    for c in paises: \n",
    "        p.append(c if c == \"Brazil\" else \"Others\")\n",
    "    return p\n",
    "\n",
    "visitas_paises = visitas.copy()\n",
    "visitas_paises[\"contador\"] = 1\n",
    "#visitas_paises[\"country\"] = filtrar_paises(visitas[\"country\"])\n",
    "visitas_paises.groupby(by=\"country\").agg({\"contador\":\"count\"})\\\n",
    "    .sort_values(by=\"contador\",ascending=False).head(5).plot(\n",
    "    kind=\"barh\",y=\"contador\",figsize=(5,5),title=\"ads\",).set_ylabel(\"\")"
   ]
  },
  {
   "cell_type": "code",
   "execution_count": null,
   "metadata": {},
   "outputs": [],
   "source": [
    "america=gpd.read_file('gadm36_BRA_1.shp')\n",
    "regiones_brasil= df.loc[(pd.notna(df['region'])) & (df['region']!='Unknown')&(df['country']=='Brazil'),['person','region','event']]\n",
    "regiones_brasil.head(5)"
   ]
  },
  {
   "cell_type": "code",
   "execution_count": null,
   "metadata": {},
   "outputs": [],
   "source": [
    "regiones_brasil['event'].value_counts()"
   ]
  },
  {
   "cell_type": "code",
   "execution_count": null,
   "metadata": {},
   "outputs": [],
   "source": [
    "regiones_brasil['region'].value_counts()"
   ]
  },
  {
   "cell_type": "code",
   "execution_count": null,
   "metadata": {},
   "outputs": [],
   "source": [
    "regiones_brasil_ingresos = regiones_brasil.groupby('region').agg({'person': 'count'})\n",
    "regiones_brasil_ingresos"
   ]
  },
  {
   "cell_type": "code",
   "execution_count": null,
   "metadata": {},
   "outputs": [],
   "source": [
    "america=america.rename(columns={'NAME_1':'region'})"
   ]
  },
  {
   "cell_type": "code",
   "execution_count": null,
   "metadata": {},
   "outputs": [],
   "source": [
    "brasil_mapa= america.loc[:,['region','geometry']].reindex()"
   ]
  },
  {
   "cell_type": "code",
   "execution_count": null,
   "metadata": {},
   "outputs": [],
   "source": [
    "brasil_mapa.head(5)"
   ]
  },
  {
   "cell_type": "code",
   "execution_count": null,
   "metadata": {},
   "outputs": [],
   "source": [
    "#sacamos las tildes del geopandas.dataframe para que coincidan con las regiones del set de datos\n",
    "brasil_mapa['region'][2]='Amapa'\n",
    "brasil_mapa['region'][5]='Ceara'\n",
    "brasil_mapa['region'][6]='Federal District'\n",
    "brasil_mapa['region'][7]='Espirito Santo'\n",
    "brasil_mapa['region'][8]='Goias'\n",
    "brasil_mapa['region'][9]='Maranhao'\n",
    "brasil_mapa['region'][13]='Para'\n",
    "brasil_mapa['region'][15]='Parana'\n",
    "brasil_mapa['region'][17]='Piaui'\n",
    "brasil_mapa['region'][21]='Rondonia'\n",
    "brasil_mapa['region'][24]='Sao Paulo'\n"
   ]
  },
  {
   "cell_type": "code",
   "execution_count": null,
   "metadata": {},
   "outputs": [],
   "source": [
    "brasil_merge=pd.merge(brasil_mapa, regiones_brasil_ingresos, on='region', how='left')"
   ]
  },
  {
   "cell_type": "code",
   "execution_count": null,
   "metadata": {},
   "outputs": [],
   "source": [
    "plot = brasil_merge.plot(legend=True,column='person',cmap='OrRd', scheme=\"Quantiles\", figsize= (12,9),edgecolor='black')\n",
    "plot.set_title('Visited site por region', fontsize=20);\n",
    "plot.set_xlabel('Latitud ', fontsize=18)\n",
    "plot.set_ylabel('Longitud', fontsize=18)"
   ]
  }
 ],
 "metadata": {
  "kernelspec": {
   "display_name": "Python 3",
   "language": "python",
   "name": "python3"
  },
  "language_info": {
   "codemirror_mode": {
    "name": "ipython",
    "version": 3
   },
   "file_extension": ".py",
   "mimetype": "text/x-python",
   "name": "python",
   "nbconvert_exporter": "python",
   "pygments_lexer": "ipython3",
   "version": "3.6.5"
  }
 },
 "nbformat": 4,
 "nbformat_minor": 2
}
