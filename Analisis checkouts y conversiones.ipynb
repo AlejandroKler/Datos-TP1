{
 "cells": [
  {
   "cell_type": "markdown",
   "metadata": {},
   "source": [
    "### Carga de datos"
   ]
  },
  {
   "cell_type": "code",
   "execution_count": null,
   "metadata": {},
   "outputs": [],
   "source": [
    "#Importo librerias\n",
    "import pandas as pd\n",
    "import numpy as np\n",
    "import matplotlib.pyplot as plt\n",
    "import seaborn as sns"
   ]
  },
  {
   "cell_type": "code",
   "execution_count": null,
   "metadata": {},
   "outputs": [],
   "source": [
    "%matplotlib inline\n",
    "plt.style.use('default')\n",
    "sns.set()"
   ]
  },
  {
   "cell_type": "code",
   "execution_count": null,
   "metadata": {},
   "outputs": [],
   "source": [
    "#Funciones auxiliares\n",
    "def mostrar_porcentaje_barplot(ax):\n",
    "    suma = 0\n",
    "    for p in ax.patches:\n",
    "        suma += p.get_height()\n",
    "    for p in ax.patches:\n",
    "        ax.annotate(str(np.round(100 *(p.get_height() / suma),decimals=2)) + \"%\", (p.get_x()+p.get_width()/2., p.get_height()), ha='center', va='center', xytext=(0, 10), textcoords='offset points')\n",
    "def mostrar_valores_barplot(ax):\n",
    "    for p in ax.patches:\n",
    "        ax.annotate(np.round(p.get_height(),decimals=2), (p.get_x()+p.get_width()/2., p.get_height()), ha='center', va='center', xytext=(0, 10), textcoords='offset points')"
   ]
  },
  {
   "cell_type": "code",
   "execution_count": null,
   "metadata": {},
   "outputs": [],
   "source": [
    "#Cargo el DataFrame\n",
    "df = pd.read_csv('events.csv', low_memory = False, parse_dates = ['timestamp'], infer_datetime_format = True,\n",
    "                    dtype = {'event': 'category','condition': 'category','storage': 'category', 'color': 'category', 'staticpage': 'category', 'campaign_source': 'category', 'search_engine': 'category', 'channel': 'category', 'new_vs_returning': 'category', 'region': 'category', 'country': 'category', 'device_type': 'category'})"
   ]
  },
  {
   "cell_type": "markdown",
   "metadata": {},
   "source": [
    "## Los usuarios que hicieron checkout. ¿Concretaron la conversión?"
   ]
  },
  {
   "cell_type": "code",
   "execution_count": null,
   "metadata": {},
   "outputs": [],
   "source": [
    "checkouts = df.loc[df['event'] == 'checkout',[\"sku\",\"timestamp\",\"person\",\"model\",\"condition\",\"storage\",\"color\"]]\n",
    "conversiones = df.loc[df['event'] == 'conversion',[\"sku\",\"timestamp\",\"person\",\"model\",\"condition\",\"storage\",\"color\"]]"
   ]
  },
  {
   "cell_type": "code",
   "execution_count": null,
   "metadata": {},
   "outputs": [],
   "source": []
  },
  {
   "cell_type": "markdown",
   "metadata": {},
   "source": [
    "### Observemos la evolución de los checkouts en el tiempo"
   ]
  },
  {
   "cell_type": "code",
   "execution_count": null,
   "metadata": {},
   "outputs": [],
   "source": [
    "checkouts_by_week = checkouts.loc[:, ['timestamp']]\n",
    "checkouts_by_week['semana'] = checkouts_by_week['timestamp'].dt.week - 1\n",
    "checkouts_by_week = checkouts_by_week[checkouts_by_week['semana'] != checkouts_by_week['semana'].max()] #Borro la ultima semana incompleta\n",
    "checkouts_by_week['semana'] = pd.to_datetime('2018', format='%Y') + pd.to_timedelta(checkouts_by_week['semana'].mul(7).astype('str') + ' days')\n",
    "\n",
    "checkouts_weeks = checkouts_by_week['semana'].value_counts().to_frame().sort_index()\n",
    "ax = checkouts_weeks.plot()\n",
    "ax.set(xlabel='Semana', ylabel='Cantidad de checkouts')\n",
    "ax.set_title('Checkouts semanales')"
   ]
  },
  {
   "cell_type": "markdown",
   "metadata": {},
   "source": [
    "Aparentemente, algo ocurrió a mitad de Mayo. Haciendo zoom podemos ver que el 14 comenzaron a aumentar los checkouts."
   ]
  },
  {
   "cell_type": "code",
   "execution_count": null,
   "metadata": {},
   "outputs": [],
   "source": [
    "acotado = checkouts.loc[(checkouts['timestamp'] > pd.to_datetime(\"2018-05-11\")) & (checkouts['timestamp'] < pd.to_datetime(\"2018-05-18\"))].copy()\n",
    "acotado['fecha'] = acotado['timestamp'].dt.date\n",
    "\n",
    "ax = acotado['fecha'].value_counts().plot(marker=\".\",markersize=\"20\")\n",
    "ax.set(xlabel='Dia', ylabel='Cantidad de checkouts')\n",
    "ax.set_title('Checkouts 11/05 al 17/05')"
   ]
  },
  {
   "cell_type": "markdown",
   "metadata": {},
   "source": [
    "Ahora analicemos la evolución de las conversiones."
   ]
  },
  {
   "cell_type": "code",
   "execution_count": null,
   "metadata": {},
   "outputs": [],
   "source": [
    "conversiones_by_week = conversiones.loc[:, [\"timestamp\"]]\n",
    "conversiones_by_week['semana'] = conversiones_by_week['timestamp'].dt.week - 1\n",
    "conversiones_by_week = conversiones_by_week[conversiones_by_week['semana'] != conversiones_by_week['semana'].max()] #Borro la ultima semana incompleta\n",
    "conversiones_by_week['semana'] = pd.to_datetime('2018', format='%Y') + pd.to_timedelta(conversiones_by_week['semana'].mul(7).astype('str') + ' days')\n",
    "\n",
    "conversiones_weeks = conversiones_by_week['semana'].value_counts().to_frame().sort_index()\n",
    "ax = conversiones_weeks.plot()\n",
    "ax.set(xlabel='Semana', ylabel='Cantidad de conversiones')\n",
    "ax.set_title('Conversiones semanales')"
   ]
  },
  {
   "cell_type": "markdown",
   "metadata": {},
   "source": [
    "Veamos si hay correlación entre el aumento de checkouts y las conversiones."
   ]
  },
  {
   "cell_type": "code",
   "execution_count": null,
   "metadata": {},
   "outputs": [],
   "source": [
    "fig, ax1 = plt.subplots()\n",
    "\n",
    "color = 'tab:green'\n",
    "ax1.set_xlabel('Semana')\n",
    "ax1.set_ylabel('Cantidad de checkouts', color=color)\n",
    "ax1.plot(checkouts_weeks['semana'], color=color)\n",
    "ax1.tick_params(axis='y', labelcolor=color)\n",
    "\n",
    "ax2 = ax1.twinx()\n",
    "\n",
    "color = 'tab:blue'\n",
    "ax2.set_ylabel('Cantidad de conversiones', color=color)\n",
    "ax2.plot(conversiones_weeks['semana'], color=color)\n",
    "ax2.tick_params(axis='y', labelcolor=color)\n",
    "\n",
    "fig.tight_layout()\n",
    "plt.show()\n"
   ]
  },
  {
   "cell_type": "markdown",
   "metadata": {},
   "source": [
    "Se observa un aumento significativo tanto de conversiones como de checkouts en la segunda semana de mayo, pero de ahi en adelante solo los checkouts siguieron aumentando mientras que las conversiones disminuyeron. Analizaremos la proporcion de conversiones sobre checkouts hasta esa semana."
   ]
  },
  {
   "cell_type": "code",
   "execution_count": null,
   "metadata": {},
   "outputs": [],
   "source": [
    "checkouts_hasta_mayo = checkouts_weeks.iloc[0:18]\n",
    "conversiones_hasta_mayo = conversiones_weeks.iloc[0:18]\n",
    "\n",
    "fig, ax1 = plt.subplots()\n",
    "\n",
    "color = 'tab:green'\n",
    "ax1.set_xlabel('Semana')\n",
    "ax1.set_ylabel('Cantidad de checkouts', color=color)\n",
    "ax1.plot(checkouts_hasta_mayo, color=color)\n",
    "ax1.tick_params(axis='y', labelcolor=color)\n",
    "\n",
    "ax2 = ax1.twinx()\n",
    "\n",
    "color = 'tab:blue'\n",
    "ax2.set_ylabel('Cantidad de conversiones', color=color)\n",
    "ax2.plot(conversiones_hasta_mayo, color=color)\n",
    "ax2.tick_params(axis='y', labelcolor=color)\n",
    "\n",
    "fig.tight_layout()\n",
    "plt.show()"
   ]
  },
  {
   "cell_type": "code",
   "execution_count": null,
   "metadata": {},
   "outputs": [],
   "source": [
    "porcentaje_conversiones_sobre_checkouts = (conversiones_weeks['semana'] / checkouts_weeks['semana']) * 100\n",
    "ax = porcentaje_conversiones_sobre_checkouts.plot()"
   ]
  },
  {
   "cell_type": "markdown",
   "metadata": {},
   "source": [
    "Vemos que hasta mayo la cantidad de checkouts y conversiones estaban intimamente relacionadas, representando alrededor de un 15% la cantidad de conversiones sobre la cantidad de checkouts. Debemos analizar que sucede en mayo que hace que de ahi en adelante suban los checkouts pero bajen las conversiones."
   ]
  },
  {
   "cell_type": "markdown",
   "metadata": {},
   "source": [
    "### Marcas con mas checkouts y conversiones"
   ]
  },
  {
   "cell_type": "code",
   "execution_count": null,
   "metadata": {},
   "outputs": [],
   "source": [
    "def obtener_marca(serie_de_modelo):\n",
    "    # La marca es siempre la primer palabra del modelo\n",
    "    r = []\n",
    "    for modelo in serie_de_modelo.tolist():\n",
    "        if pd.isna(modelo):\n",
    "            r.append(\"Unknown\")\n",
    "        else:\n",
    "            r.append(modelo.split()[0])\n",
    "    return r"
   ]
  },
  {
   "cell_type": "code",
   "execution_count": null,
   "metadata": {},
   "outputs": [],
   "source": [
    "checkouts[\"Marca\"] = obtener_marca(checkouts[\"model\"])\n",
    "checkouts = checkouts.loc[checkouts[\"Marca\"] != \"Unknown\"] # Remuevo datos erroneos\n",
    "checkouts[\"Checkouts\"] = 1\n",
    "checkouts_by_marca = checkouts[[\"Marca\",\"Checkouts\"]].groupby(by=[\"Marca\"]).agg(\"count\")\\\n",
    "    .sort_values(by=\"Checkouts\",ascending=False)\n",
    "checkouts_by_marca.plot(kind=\"bar\",title=\"Checkouts de cada marca\").set_ylabel(\"Cantidad\")"
   ]
  },
  {
   "cell_type": "code",
   "execution_count": null,
   "metadata": {},
   "outputs": [],
   "source": [
    "conversiones[\"Marca\"] = obtener_marca(conversiones[\"model\"])\n",
    "conversiones = conversiones.loc[conversiones[\"Marca\"] != \"Unknown\"] # Remuevo datos erroneos\n",
    "conversiones[\"Conversiones\"] = 1\n",
    "conversiones_by_marca = conversiones[[\"Marca\",\"Conversiones\"]].groupby(by=[\"Marca\"]).agg(\"count\")\\\n",
    "    .sort_values(by=\"Conversiones\",ascending=False).iloc[::-1]\n",
    "p = conversiones_by_marca.plot(kind=\"barh\",figsize=(9,7),fontsize=15,title=\"Conversiones de cada marca\")\n",
    "p.set_xlabel(\"Cantidad\")\n",
    "p.legend(loc=\"lower right\")\n",
    "p"
   ]
  },
  {
   "cell_type": "code",
   "execution_count": null,
   "metadata": {},
   "outputs": [],
   "source": [
    "marca_stats = conversiones_by_marca.join(checkouts_by_marca).sort_values(by=\"Checkouts\",ascending=False)\n",
    "marca_stats[\"No concretados\"] = marca_stats[\"Checkouts\"] - marca_stats[\"Conversiones\"]\n",
    "marca_stats = marca_stats.rename(columns={'Conversiones': 'Concretados'}).iloc[::-1]\n",
    "marca_stats.drop(\"Checkouts\", axis=1, inplace= True)\n",
    "p = marca_stats.plot(kind=\"barh\",stacked=True,figsize=(9,7),fontsize=15,\\\n",
    "                 title=\"Checkouts de cada marca\")\n",
    "p.legend(loc=\"lower right\")\n",
    "p.set_xlabel(\"Checkouts\")\n",
    "p"
   ]
  },
  {
   "cell_type": "code",
   "execution_count": null,
   "metadata": {},
   "outputs": [],
   "source": [
    "t = checkouts_by_marca.join(conversiones_by_marca)\n",
    "t = t[t[\"Checkouts\"] > 1000]\n",
    "t[\"Porcentaje\"] = (t[\"Conversiones\"] *100)/t[\"Checkouts\"]\n",
    "t[\"Porcentaje\"] = t[\"Porcentaje\"].fillna(0)\n",
    "t = t.drop(columns=[\"Conversiones\",\"Checkouts\"])\n",
    "p = t.sort_values(\"Porcentaje\")\\\n",
    "    .plot(kind=\"barh\",legend=False,title=\"Probabilidad de concretar checkouts por marca\",figsize=(8,2))\n",
    "p.set_xlabel(\"Porcentaje\")\n"
   ]
  },
  {
   "cell_type": "code",
   "execution_count": null,
   "metadata": {},
   "outputs": [],
   "source": [
    "view_products = df.loc[df[\"event\"] == \"viewed product\",[\"model\"]].copy()\n",
    "view_products[\"Marca\"] = obtener_marca(view_products[\"model\"])\n",
    "view_products[\"Visitas\"] = 1\n",
    "p = view_products.groupby(by=[\"model\"]).agg(\"sum\").sort_values(by=\"Visitas\",ascending=False).head(20)\\\n",
    "    .iloc[::-1].plot(kind=\"barh\",title=\"20 celulares con más visitas\",figsize=(10,7),fontsize=14,legend=False)\n",
    "p.set_ylabel(\"Modelo\")\n",
    "p.set_xlabel(\"Visitas\")\n",
    "p"
   ]
  },
  {
   "cell_type": "code",
   "execution_count": null,
   "metadata": {},
   "outputs": [],
   "source": [
    "view_products"
   ]
  },
  {
   "cell_type": "code",
   "execution_count": null,
   "metadata": {},
   "outputs": [],
   "source": [
    "view_products_by_marca = view_products.drop(columns=[\"model\"]).groupby(by=\"Marca\").agg(\"sum\")\n",
    "\n",
    "p = view_products_by_marca.sort_values(by=\"Visitas\",ascending=False)\\\n",
    "    .iloc[::-1].plot(kind=\"barh\",title=\"Marcas más visitadas\",figsize=(10,7),fontsize=14,legend=False)\n",
    "p.set_xlabel(\"Visitas\")\n",
    "p\n"
   ]
  },
  {
   "cell_type": "code",
   "execution_count": null,
   "metadata": {},
   "outputs": [],
   "source": [
    "marca_stats = view_products_by_marca.join(checkouts_by_marca,on=\"Marca\",how=\"outer\")\\\n",
    "    .join(conversiones_by_marca,on=\"Marca\",how=\"outer\")\n",
    "marca_stats['Visitas']= (marca_stats['Visitas']/marca_stats['Visitas'].sum()) *100\n",
    "marca_stats['Checkouts']= (marca_stats['Checkouts']/marca_stats['Checkouts'].sum()) *100\n",
    "marca_stats['Conversiones']= (marca_stats['Conversiones']/marca_stats['Conversiones'].sum()) * 100\n",
    "marca_stats = marca_stats.fillna(0)\n",
    "marca_stats = marca_stats.T"
   ]
  },
  {
   "cell_type": "code",
   "execution_count": null,
   "metadata": {},
   "outputs": [],
   "source": [
    "#import plotly.plotly as py\n",
    "import plotly\n",
    "plotly.offline.init_notebook_mode(connected=True)\n",
    "import plotly.offline as py\n",
    "import plotly.graph_objs as go\n",
    "\n",
    "data = [go.Scatterpolar(\n",
    "  r = marca_stats[\"Samsung\"].tolist(),\n",
    "  theta = ['Visitas','Checkouts','Conversiones'],\n",
    "    name = 'Samsung',\n",
    "  fill = 'toself'\n",
    "),go.Scatterpolar(\n",
    "  r = marca_stats[\"iPhone\"].tolist(),\n",
    "  theta = ['Visitas','Checkouts','Conversiones'],\n",
    "    name = 'iPhone',\n",
    "  fill = 'toself'\n",
    "),go.Scatterpolar(\n",
    "  r = marca_stats[\"Motorola\"].tolist(),\n",
    "  theta = ['Visitas','Checkouts','Conversiones'],\n",
    "    name = 'Motorola',\n",
    "    fill = 'toself'\n",
    ")]\n",
    "\n",
    "layout = go.Layout(\n",
    "  polar = dict(\n",
    "    radialaxis = dict(\n",
    "      visible = True,\n",
    "      range = [0, 60]\n",
    "    )\n",
    "  ),\n",
    "    title='Porcentaje de visitas, checkouts, y conversiones de marcas',\n",
    "    font= dict(\n",
    "        size =18\n",
    "    ),\n",
    "  showlegend = True\n",
    ")\n",
    "\n",
    "fig = go.Figure(data=data, layout=layout)\n",
    "py.offline.iplot(fig)"
   ]
  },
  {
   "cell_type": "code",
   "execution_count": null,
   "metadata": {},
   "outputs": [],
   "source": [
    "view_products = df.loc[(df[\"event\"] == \"viewed product\")|(df[\"event\"] == \"checkout\")|(df[\"event\"] == \"conversion\"),[\"model\",'event']].copy()\n",
    "view_products[\"Marca\"] = obtener_marca(view_products[\"model\"])\n",
    "view_products[\"Visitas\"] = view_products['event']=='viewed product'\n",
    "view_products['checkouts']= view_products['event']=='checkout'\n",
    "view_products['compras']= view_products['event']=='conversion'    \n",
    "view_products_by_model= view_products.groupby(by=[\"model\"]).agg({'Visitas':'sum','checkouts':'sum','compras':'sum'}).sort_values(by=\"Visitas\",ascending=False).head(20)\n",
    "\n",
    "\n",
    "fig, (ax, ax2, ax3) = plt.subplots(ncols=3, sharey=True)\n",
    "\n",
    "\n",
    "ax.yaxis.tick_left()\n",
    "\n",
    "view_products_by_model['Visitas'].iloc[::-1].plot(kind=\"barh\",title=\"20 celulares con más visitas\",figsize=(10,7),fontsize=10,legend=False,ax=ax)\n",
    "view_products_by_model['checkouts'].iloc[::-1].plot(kind=\"barh\",title=\"checkouts\",figsize=(10,7),fontsize=10,legend=False,ax=ax2)\n",
    "view_products_by_model['compras'].iloc[::-1].plot(kind=\"barh\",title=\"compras\",figsize=(10,7),fontsize=10,legend=False,ax=ax3)\n",
    "\n",
    "plt.show()"
   ]
  },
  {
   "cell_type": "markdown",
   "metadata": {},
   "source": [
    "#### Analsis de checkouts por persona"
   ]
  },
  {
   "cell_type": "markdown",
   "metadata": {},
   "source": [
    "Veo si existen casos de double tracking"
   ]
  },
  {
   "cell_type": "code",
   "execution_count": null,
   "metadata": {},
   "outputs": [],
   "source": [
    "def min_diferencia_tiempo(df):\n",
    "        min_diferencia=pd.to_timedelta('365 days')\n",
    "        for i in range(1,len(df)):\n",
    "            dif = df.iloc[i]-df.iloc[i-1]\n",
    "            if dif<min_diferencia:\n",
    "                min_diferencia = dif\n",
    "        return min_diferencia    \n",
    "            \n",
    "checkouts_por_persona = df.loc[df['event']=='checkout',['timestamp','person','model', 'sku']]\n",
    "duplicados = checkouts_por_persona[checkouts_por_persona.duplicated(subset=['person'], keep=False)]\n",
    "min_diferencia_checkouts = duplicados.groupby('person').agg({'timestamp':min_diferencia_tiempo}).sort_values(by='timestamp')\n",
    "min_diferencia_checkouts['menos_de_1seg'] = min_diferencia_checkouts['timestamp']<pd.to_timedelta('00:00:01')\n",
    "min_diferencia_checkouts['menos_de_1seg'].value_counts()"
   ]
  },
  {
   "cell_type": "markdown",
   "metadata": {},
   "source": [
    "Existe solo 1 caso de todos los checkouts que podría ser de double tracking, lo examino"
   ]
  },
  {
   "cell_type": "code",
   "execution_count": null,
   "metadata": {},
   "outputs": [],
   "source": [
    "min_diferencia_checkouts.loc[min_diferencia_checkouts['menos_de_1seg']==True]"
   ]
  },
  {
   "cell_type": "code",
   "execution_count": null,
   "metadata": {},
   "outputs": [],
   "source": [
    "checkouts_por_persona.loc[checkouts_por_persona['person']=='0ee73fbe']"
   ]
  },
  {
   "cell_type": "markdown",
   "metadata": {},
   "source": [
    "Los dos eventos de checkout que son en el mismo momento son de modelos distintos, por lo tanto supondremos que no es un caso de double tracking"
   ]
  },
  {
   "cell_type": "markdown",
   "metadata": {},
   "source": [
    "### Analizo la cantidad de checkouts por persona "
   ]
  },
  {
   "cell_type": "code",
   "execution_count": null,
   "metadata": {},
   "outputs": [],
   "source": [
    "checkouts_por_persona['checkouts'] = 1\n",
    "checkouts_por_persona[\"marca\"] = obtener_marca(checkouts_por_persona[\"model\"])\n",
    "for marca in ['Samsung','iPhone','Motorola','LG','Lenovo','Sony','Quantum','iPad','Asus']:\n",
    "    checkouts_por_persona[marca] = checkouts_por_persona['marca'] == marca\n",
    "checkouts_por_persona.head()    \n",
    "    "
   ]
  },
  {
   "cell_type": "code",
   "execution_count": null,
   "metadata": {},
   "outputs": [],
   "source": [
    "\n",
    "cantidad_de_checkouts_por_persona = checkouts_por_persona.groupby('person').agg({'checkouts':sum,\\\n",
    "        'Samsung':sum,'iPhone':sum,'Motorola':sum,'LG':sum,'Lenovo':sum,'Sony':sum,\\\n",
    "        'Quantum':sum,'iPad':sum,'Asus':sum})\n",
    "g = cantidad_de_checkouts_por_persona['checkouts'].value_counts().plot('bar')\n",
    "g.set_title('Cantidad de checkouts por persona')\n",
    "g.set_xlabel('Cantidad de checkouts')\n",
    "g.set_ylabel('Numero de personas')"
   ]
  },
  {
   "cell_type": "code",
   "execution_count": null,
   "metadata": {},
   "outputs": [],
   "source": [
    "cant_checkouts_log=cantidad_de_checkouts_por_persona['checkouts'].value_counts()#.transform(lambda x: np.log(x)+1 )\n",
    "g_log = cant_checkouts_log.plot('bar')\n",
    "g_log.set_yscale('log')\n",
    "g_log.yaxis.set_major_formatter(ScalarFormatter())\n",
    "g_log.set_title('Cantidad de checkouts por persona [Log]')\n",
    "g_log.set_xlabel('Cantidad de checkouts')\n",
    "g_log.set_ylabel('Cantidad de personas')\n",
    "mostrar_valores_barplot(g_log)"
   ]
  },
  {
   "cell_type": "markdown",
   "metadata": {},
   "source": [
    "#### Verifico si los distintos checkouts son sobre los mismos modelos"
   ]
  },
  {
   "cell_type": "code",
   "execution_count": null,
   "metadata": {},
   "outputs": [],
   "source": [
    "a = checkouts_por_persona.groupby('person').agg({'model':'nunique','checkouts':'count'})\n",
    "g = a.groupby('checkouts').agg({'model':'mean'}).plot(kind='bar',alpha=0.5, legend=False)\n",
    "a.loc[a['checkouts']==24]\n",
    "g.set_title('Promedio de modelos dintintos por cantidad de checkouts')\n",
    "g.set_xlabel('Número de checkouts')\n",
    "g.set_ylabel('Número de modelos distintos vistos')"
   ]
  },
  {
   "cell_type": "markdown",
   "metadata": {},
   "source": [
    "#### Hago un analisis de las marcas que mas se aparecen en funcion de la cantidad de checkouts que hizo cada cliente"
   ]
  },
  {
   "cell_type": "code",
   "execution_count": null,
   "metadata": {},
   "outputs": [],
   "source": [
    "multiples = cantidad_de_checkouts_por_persona.loc[cantidad_de_checkouts_por_persona['checkouts']>1]\n",
    "\n",
    "my_colors = [\"#1f77b4\", \"#ff7f0e\", \"#2ca02c\", \"#d62728\", \"#9467bd\", \"#8c564b\", \"#e377c2\", \"#bcbd22\", \"#17becf\"]  \n",
    "g = multiples.groupby('checkouts').agg({'Samsung':sum,'iPhone':sum,'Motorola':sum,'LG':sum,'Lenovo':sum,\\\n",
    "        'Sony':sum,'Quantum':sum,'iPad':sum,'Asus':sum}).iloc[:,:5].plot(kind='line',color = my_colors)\n",
    "g.set_title('Distribucion de las marcas en funcion de la cantidad de checkouts por persona')\n",
    "g.set_xlabel('Cantidad de checkouts')\n",
    "g.set_ylabel('Cantidad de apariciones')\n"
   ]
  },
  {
   "cell_type": "markdown",
   "metadata": {},
   "source": [
    "#### Hago un analisis de los productos visitados\n"
   ]
  },
  {
   "cell_type": "code",
   "execution_count": null,
   "metadata": {},
   "outputs": [],
   "source": [
    "productos_visitados = df.loc[df['event']=='viewed product',['timestamp','person','sku','model','condition']]\n"
   ]
  },
  {
   "cell_type": "code",
   "execution_count": null,
   "metadata": {},
   "outputs": [],
   "source": [
    "productos_visitados = df.loc[df['event']=='viewed product',['person','sku','model','condition']]\n",
    "productos_visitados['visita'] = 1\n",
    "cant_productos_visitados = productos_visitados.groupby('person').agg({'visita':'count'})['visita'].value_counts()\n"
   ]
  },
  {
   "cell_type": "code",
   "execution_count": null,
   "metadata": {},
   "outputs": [],
   "source": [
    "cant_productos_visitados = productos_visitados.groupby('person').agg({'visita':'count'})\n",
    "g = cant_productos_visitados ['visita']\\\n",
    "    .transform(lambda x: np.log(x)+1 ).plot('hist',alpha=0.75, bins= 20)\n",
    "g.set_title('Histograma de Viewed Product | Productos visitados [Log] ')\n",
    "g.set_xlabel('Cantidad de productos visitados')"
   ]
  },
  {
   "cell_type": "code",
   "execution_count": null,
   "metadata": {},
   "outputs": [],
   "source": [
    "merged = pd.merge(cant_productos_visitados, cantidad_de_checkouts_por_persona, on='person', how='left')\n",
    "# Estamos sacando aquellas personas que fueron directo al checkout (mediante publicidad) sin observar productos\n",
    "\n",
    "g = merged[[\"visita\",\"checkouts\"]].transform(lambda x: np.log(x)+1 ).plot(kind='hist',alpha=0.80,bins = 10, color =[\"#ff7f0e\",\"#2ca02c\"])\n",
    "#merged[[\"checkouts\",\"visita\"]].plot(kind='bar', stacked=True)\n",
    "g.set_title('Frecuencia de Checkouts x Producto Visitado [Log]')"
   ]
  }
 ],
 "metadata": {
  "kernelspec": {
   "display_name": "Python 3",
   "language": "python",
   "name": "python3"
  },
  "language_info": {
   "codemirror_mode": {
    "name": "ipython",
    "version": 3
   },
   "file_extension": ".py",
   "mimetype": "text/x-python",
   "name": "python",
   "nbconvert_exporter": "python",
   "pygments_lexer": "ipython3",
   "version": "3.6.5"
  }
 },
 "nbformat": 4,
 "nbformat_minor": 2
}
