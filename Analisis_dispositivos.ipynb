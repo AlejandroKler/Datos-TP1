{
 "cells": [
  {
   "cell_type": "markdown",
   "metadata": {},
   "source": [
    "### Carga de datos"
   ]
  },
  {
   "cell_type": "code",
   "execution_count": null,
   "metadata": {},
   "outputs": [],
   "source": [
    "#Importo librerias\n",
    "import pandas as pd\n",
    "import numpy as np\n",
    "import matplotlib.pyplot as plt\n",
    "import seaborn as sns"
   ]
  },
  {
   "cell_type": "code",
   "execution_count": null,
   "metadata": {},
   "outputs": [],
   "source": [
    "%matplotlib inline\n",
    "plt.style.use('default')\n",
    "sns.set()"
   ]
  },
  {
   "cell_type": "code",
   "execution_count": null,
   "metadata": {},
   "outputs": [],
   "source": [
    "#Funciones auxiliares\n",
    "def mostrar_porcentaje_barplot(ax):\n",
    "    suma = 0\n",
    "    for p in ax.patches:\n",
    "        suma += p.get_height()\n",
    "    for p in ax.patches:\n",
    "        ax.annotate(str(np.round(100 *(p.get_height() / suma),decimals=2)) + \"%\", (p.get_x()+p.get_width()/2., p.get_height()), ha='center', va='center', xytext=(0, 10), textcoords='offset points')\n",
    "def mostrar_valores_barplot(ax):\n",
    "    for p in ax.patches:\n",
    "        ax.annotate(np.round(p.get_height(),decimals=2), (p.get_x()+p.get_width()/2., p.get_height()), ha='center', va='center', xytext=(0, 10), textcoords='offset points')"
   ]
  },
  {
   "cell_type": "code",
   "execution_count": null,
   "metadata": {},
   "outputs": [],
   "source": [
    "#Cargo el DataFrame\n",
    "df = pd.read_csv('events.csv', low_memory = False, parse_dates = ['timestamp'], infer_datetime_format = True,\n",
    "                    dtype = {'event': 'category','condition': 'category','storage': 'category', 'color': 'category', 'staticpage': 'category', 'campaign_source': 'category', 'search_engine': 'category', 'channel': 'category', 'new_vs_returning': 'category', 'region': 'category', 'country': 'category', 'device_type': 'category'})"
   ]
  },
  {
   "cell_type": "markdown",
   "metadata": {},
   "source": [
    "### Analisis por dispositivo "
   ]
  },
  {
   "cell_type": "code",
   "execution_count": null,
   "metadata": {},
   "outputs": [],
   "source": [
    "df['device_type'].value_counts()"
   ]
  },
  {
   "cell_type": "code",
   "execution_count": null,
   "metadata": {},
   "outputs": [],
   "source": [
    "dispositivos_registrados = df.loc[(df['event']=='visited site'),['person','device_type','new_vs_returning']]\n",
    "dispositivos_nuevos = dispositivos_registrados.loc[dispositivos_registrados['new_vs_returning']=='New']\n",
    "\n",
    "dispositivos_nuevos['device_type'].value_counts(normalize = True)"
   ]
  },
  {
   "cell_type": "markdown",
   "metadata": {},
   "source": [
    "Vemos que aquellos dispositivos no identificados (Unknown) responde a una fraccion muy pequeña de los registros totales. Por lo tanto los desestimaremos en el análisis"
   ]
  },
  {
   "cell_type": "code",
   "execution_count": null,
   "metadata": {},
   "outputs": [],
   "source": [
    "dispositivos_nuevos = dispositivos_nuevos.drop((dispositivos_nuevos[dispositivos_nuevos['device_type']=='Unknown']).index)"
   ]
  },
  {
   "cell_type": "code",
   "execution_count": null,
   "metadata": {},
   "outputs": [],
   "source": [
    "g_dispositivos_nuevos = dispositivos_nuevos['device_type'].value_counts().iloc[:-1].plot('bar')\n",
    "g_dispositivos_nuevos.set_title('Dispositivos registrados en nuevas visitas [New Hits]')\n",
    "g_dispositivos_nuevos.set_xlabel('Tipo de dispositivo')\n",
    "g_dispositivos_nuevos.set_ylabel('Cantidad de personas')"
   ]
  },
  {
   "cell_type": "markdown",
   "metadata": {},
   "source": [
    "Podemos visualizar que los unicos dispositivos reelevantes sobre las nuevas visitas al  sitio son los Smartphones y las Computadoras"
   ]
  },
  {
   "cell_type": "markdown",
   "metadata": {},
   "source": [
    "## Análisis sobre clientes que ingresaron por primera vez con Smartphone "
   ]
  },
  {
   "cell_type": "code",
   "execution_count": null,
   "metadata": {},
   "outputs": [],
   "source": [
    "#Filtro las personas entraron por primera vez por su celular\n",
    "personas_nuevas_smartphone = dispositivos_nuevos.loc[(dispositivos_nuevos['device_type']=='Smartphone'),['person']]\n",
    "\n",
    "#Filtro paralelamente las personas que volvieron a entrar desde sus PCs\n",
    "personas_returning_pc = dispositivos_registrados.loc[(dispositivos_registrados['device_type']=='Computer') & (df['new_vs_returning']=='Returning'),['person']]\n",
    "personas_returning_pc['Volvieron_en_PC'] = True"
   ]
  },
  {
   "cell_type": "code",
   "execution_count": null,
   "metadata": {},
   "outputs": [],
   "source": [
    "personas_new_Smartphone_ret_PC = pd.merge(personas_nuevas_smartphone, personas_returning_pc, on='person', how='left').drop_duplicates()\n",
    "personas_new_Smartphone_ret_PC['Volvieron_en_PC'].fillna(False,inplace=True)\n",
    "personas_new_Smartphone_ret_PC.describe()"
   ]
  },
  {
   "cell_type": "markdown",
   "metadata": {},
   "source": [
    "#### Veo la cantidad de personas que entraron por primera vez a la página desde sus celulares y volvieron desde sus PCs"
   ]
  },
  {
   "cell_type": "code",
   "execution_count": null,
   "metadata": {},
   "outputs": [],
   "source": [
    "cantidad_personas_que_volvieron_enPC = personas_new_Smartphone_ret_PC['Volvieron_en_PC'].value_counts()\n",
    "cantidad_personas_que_volvieron_enPC\n"
   ]
  },
  {
   "cell_type": "code",
   "execution_count": null,
   "metadata": {},
   "outputs": [],
   "source": [
    "g_personas_ret_PC = cantidad_personas_que_volvieron_enPC.plot('bar')\n",
    "g_personas_ret_PC.set_title('Personas que vuelven a la pagina desde la PC luego de entrar por primera vez desde Smartphone')\n",
    "g_personas_ret_PC.set_xlabel('Vuelve a la pagina')\n",
    "g_personas_ret_PC.set_ylabel('Cantidad de personas')\n",
    "g_personas_ret_PC.set_xticklabels(['No','Sí'])\n"
   ]
  },
  {
   "cell_type": "markdown",
   "metadata": {},
   "source": [
    "Se nota que no es representativa el numero de personas que entran primero a la pagina por sus celulares y luego vuelven a entrar desde la PC"
   ]
  },
  {
   "cell_type": "markdown",
   "metadata": {},
   "source": [
    "#### Analizamos si de las personas que vuelven a entrar desde la PC (y que primero ingresaron con sus Smartphones) terminan realizando alguna compra"
   ]
  },
  {
   "cell_type": "code",
   "execution_count": null,
   "metadata": {},
   "outputs": [],
   "source": [
    "personas_que_compraron = df.loc[df['event']=='conversion',['person']].drop_duplicates()\n",
    "personas_que_compraron['compro'] = True\n",
    "personas_que_compraron.head()"
   ]
  },
  {
   "cell_type": "code",
   "execution_count": null,
   "metadata": {},
   "outputs": [],
   "source": [
    "personas_vuelven_y_compran = pd.merge(personas_new_Smartphone_ret_PC, personas_que_compraron, on='person', how='left').drop_duplicates()\n",
    "personas_vuelven_y_compran['compro'].fillna(False,inplace=True)\n",
    "cantidad_personas_que_vuelven_y_compran = personas_vuelven_y_compran.loc[personas_vuelven_y_compran['Volvieron_en_PC']==True]\\\n",
    "                ['compro'].value_counts()\n",
    "cantidad_personas_que_vuelven_y_compran"
   ]
  },
  {
   "cell_type": "code",
   "execution_count": null,
   "metadata": {},
   "outputs": [],
   "source": [
    "g5 = cantidad_personas_que_vuelven_y_compran.plot('bar',)\n",
    "g5.set_title(\"Compradores que entraron por primera vez en Smartphone, y luego volvieron en PC \")\n",
    "g5.set_xlabel(\"Compraron\")\n",
    "g5.set_ylabel(\"Cantidad de personas\")\n",
    "g5.set_xticklabels(['No','Sí'])\n",
    "mostrar_porcentaje_barplot(g5)"
   ]
  },
  {
   "cell_type": "markdown",
   "metadata": {},
   "source": [
    "Podemos ver que de las personas que volvieron a la pagina desde sus PCs luego de entrar desde sus SmartPhones, un 28,4% realizo compras"
   ]
  },
  {
   "cell_type": "markdown",
   "metadata": {},
   "source": [
    "## Análisis sobre clientes que ingresaron por primera vez con PC "
   ]
  },
  {
   "cell_type": "code",
   "execution_count": null,
   "metadata": {},
   "outputs": [],
   "source": [
    "#Filtro las personas entraron por primera vez por su celular\n",
    "personas_nuevas_pc = dispositivos_nuevos.loc[(dispositivos_nuevos['device_type']=='Computer'),['person']]\n",
    "\n",
    "#Filtro paralelamente las personas que volvieron a entrar desde sus Smartphones\n",
    "personas_returning_smartphone = dispositivos_registrados.loc[(dispositivos_registrados['device_type']=='Smartphone') & (df['new_vs_returning']=='Returning'),['person']]\n",
    "personas_returning_smartphone['Volvieron_en_Smartphone'] = True"
   ]
  },
  {
   "cell_type": "code",
   "execution_count": null,
   "metadata": {},
   "outputs": [],
   "source": [
    "personas_new_PC_ret_Smartphone = pd.merge(personas_nuevas_pc, personas_returning_smartphone, on='person', how='left').drop_duplicates()\n",
    "personas_new_PC_ret_Smartphone['Volvieron_en_Smartphone'].fillna(False,inplace=True)\n",
    "cantidad_personas_que_volvieron_Smartphone = personas_new_PC_ret_Smartphone['Volvieron_en_Smartphone'].value_counts()\n",
    "cantidad_personas_que_volvieron_Smartphone"
   ]
  },
  {
   "cell_type": "code",
   "execution_count": null,
   "metadata": {},
   "outputs": [],
   "source": [
    "g_personas_ret_Smartphones = cantidad_personas_que_volvieron_Smartphone.plot('bar')\n",
    "g_personas_ret_Smartphones.set_title('Personas que vuelven a la pagina desde Smartphone luego de entrar por primera vez desde PC')\n",
    "g_personas_ret_Smartphones.set_xlabel('Vuelve a la pagina')\n",
    "g_personas_ret_Smartphones.set_ylabel('Cantidad de personas')\n",
    "g_personas_ret_Smartphones.set_xticklabels(['No','Sí'])\n"
   ]
  },
  {
   "cell_type": "code",
   "execution_count": null,
   "metadata": {},
   "outputs": [],
   "source": [
    "personas_vuelven_y_compran2 = pd.merge(personas_new_PC_ret_Smartphone, personas_que_compraron, on='person', how='left').drop_duplicates()\n",
    "personas_vuelven_y_compran2['compro'].fillna(False,inplace=True)\n",
    "cantidad_personas_vuelven_y_compran2 = personas_vuelven_y_compran2.loc[personas_vuelven_y_compran2['Volvieron_en_Smartphone']==True]['compro'].value_counts()"
   ]
  },
  {
   "cell_type": "code",
   "execution_count": null,
   "metadata": {},
   "outputs": [],
   "source": [
    "g6 = cantidad_personas_vuelven_y_compran2.plot('bar',)\n",
    "g6.set_title(\"Compradores que entraron por primera vez en PC, y luego volvieron en Smartphone \")\n",
    "g6.set_xlabel(\"Compraron\")\n",
    "g6.set_ylabel(\"Cantidad de personas\")\n",
    "g6.set_xticklabels(['No','Sí'])\n",
    "mostrar_porcentaje_barplot(g6)\n"
   ]
  },
  {
   "cell_type": "markdown",
   "metadata": {},
   "source": [
    "### Para dar un punto de vista comparativo unificamos los plots anteriores"
   ]
  },
  {
   "cell_type": "code",
   "execution_count": null,
   "metadata": {},
   "outputs": [],
   "source": [
    "concatenados_returning = pd.concat([cantidad_personas_que_volvieron_enPC, cantidad_personas_que_volvieron_Smartphone],axis=1)\n",
    "concatenados_returning.columns = [' Migraron de Smartphone a PC','Migraron de PC a Smartphone']\n",
    "g6 = concatenados_returning.T.plot(kind='barh')\n",
    "g6.set_title('Usuarios que migraron desde su dispositivo inicial a otro')\n",
    "g6.set_xlabel('Cantidad de personas')\n",
    "g6.set_ylabel('Migracion')\n",
    "g6.legend(['No', 'Sí'])"
   ]
  },
  {
   "cell_type": "code",
   "execution_count": null,
   "metadata": {},
   "outputs": [],
   "source": [
    "concatenados_compra = pd.concat([cantidad_personas_que_vuelven_y_compran, cantidad_personas_vuelven_y_compran2], axis=1, )\n",
    "concatenados_compra.columns = ['Smartphone a PC','PC a Smartphone']\n",
    "g7 = concatenados_compra.T.plot(kind='barh')\n",
    "g7.set_title('Compradores que migraron de un dispositivo a otro')\n",
    "g7.set_xlabel('Cantidad de personas')\n",
    "g7.set_ylabel('Migracion')\n",
    "g7.legend(['No compro', 'Compro'])\n"
   ]
  },
  {
   "cell_type": "markdown",
   "metadata": {},
   "source": [
    "#### Con pie chart para comparacion"
   ]
  },
  {
   "cell_type": "code",
   "execution_count": null,
   "metadata": {},
   "outputs": [],
   "source": [
    "g = concatenados_returning.plot(kind='pie', subplots=True,labels= ['No', 'Si'],autopct='%1.1f%%' ,figsize=(12, 6),\\\n",
    "                               title='Usuarios que migraron desde su dispositivo inicial a otro')"
   ]
  },
  {
   "cell_type": "code",
   "execution_count": null,
   "metadata": {},
   "outputs": [],
   "source": [
    "concatenados_compra.plot(kind='pie', subplots=True,labels= ['No compraron', 'Compraron'],autopct='%1.1f%%' ,figsize=(12, 6),\\\n",
    "                        title = 'Compradores que migraron de un dispositivo a otro')"
   ]
  },
  {
   "cell_type": "code",
   "execution_count": null,
   "metadata": {},
   "outputs": [],
   "source": []
  },
  {
   "cell_type": "code",
   "execution_count": null,
   "metadata": {},
   "outputs": [],
   "source": []
  },
  {
   "cell_type": "code",
   "execution_count": null,
   "metadata": {},
   "outputs": [],
   "source": []
  },
  {
   "cell_type": "code",
   "execution_count": null,
   "metadata": {},
   "outputs": [],
   "source": []
  },
  {
   "cell_type": "code",
   "execution_count": null,
   "metadata": {},
   "outputs": [],
   "source": []
  },
  {
   "cell_type": "code",
   "execution_count": null,
   "metadata": {},
   "outputs": [],
   "source": []
  }
 ],
 "metadata": {
  "kernelspec": {
   "display_name": "Python 3",
   "language": "python",
   "name": "python3"
  },
  "language_info": {
   "codemirror_mode": {
    "name": "ipython",
    "version": 3
   },
   "file_extension": ".py",
   "mimetype": "text/x-python",
   "name": "python",
   "nbconvert_exporter": "python",
   "pygments_lexer": "ipython3",
   "version": "3.6.5"
  }
 },
 "nbformat": 4,
 "nbformat_minor": 2
}
