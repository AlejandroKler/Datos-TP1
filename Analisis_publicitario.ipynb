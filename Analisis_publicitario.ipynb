{
 "cells": [
  {
   "cell_type": "markdown",
   "metadata": {},
   "source": [
    "## Analisis publicitario"
   ]
  },
  {
   "cell_type": "markdown",
   "metadata": {},
   "source": [
    "Analizaremos en detalle los datos de las campañas, utilizando el evento \"ad campaign hit\""
   ]
  },
  {
   "cell_type": "markdown",
   "metadata": {},
   "source": [
    "### Carga de datos"
   ]
  },
  {
   "cell_type": "code",
   "execution_count": null,
   "metadata": {},
   "outputs": [],
   "source": [
    "#Importo librerias\n",
    "import pandas as pd\n",
    "import numpy as np\n",
    "import matplotlib.pyplot as plt\n",
    "import seaborn as sns\n",
    "\n",
    "%matplotlib inline\n",
    "plt.style.use('default')\n",
    "sns.set()\n",
    "\n",
    "#Cargo el DataFrame\n",
    "df = pd.read_csv('events.csv', low_memory = False, parse_dates = ['timestamp'], infer_datetime_format = True,\n",
    "                    dtype = {'event': 'category','condition': 'category','storage': 'category', 'color': 'category', 'staticpage': 'category', 'campaign_source': 'category', 'search_engine': 'category', 'channel': 'category', 'new_vs_returning': 'category', 'region': 'category', 'country': 'category', 'device_type': 'category'})"
   ]
  },
  {
   "cell_type": "markdown",
   "metadata": {},
   "source": [
    "### Evolución de las campañas a lo largo del tiempo"
   ]
  },
  {
   "cell_type": "markdown",
   "metadata": {},
   "source": [
    "Tomaremos las 5 campañas mas importantes y graficaremos su participiación durante el periodo."
   ]
  },
  {
   "cell_type": "code",
   "execution_count": null,
   "metadata": {},
   "outputs": [],
   "source": [
    "n = 5\n",
    "\n",
    "hits_campanias = df.loc[(df['event']=='ad campaign hit'), ['timestamp', 'person', 'url', 'campaign_source']].copy()\n",
    "hits_campanias['semana'] = hits_campanias['timestamp'].dt.week - 1\n",
    "hits_campanias['semana'] = pd.to_datetime('2018', format='%Y') + pd.to_timedelta(hits_campanias['semana'].mul(7).astype('str') + ' days')\n",
    "hits_campanias.dropna(subset = ['campaign_source'], inplace = True)\n",
    "\n",
    "n_mayores_sources = hits_campanias['campaign_source'].value_counts().iloc[0:n]\n",
    "\n",
    "hits_campanias = pd.crosstab(hits_campanias['semana'], hits_campanias['campaign_source'])\n",
    "hits_campanias = hits_campanias.loc[:, n_mayores_sources.index]\n",
    "# Porcentaje hits_campanias = hits_campanias.div(hits_campanias.sum(axis=1), axis=0).multiply(100)\n",
    "\n",
    "ax = hits_campanias.plot(kind = 'area')\n",
    "ax.legend(loc='center left', bbox_to_anchor=(1.0, 0.5))\n",
    "ax.set(xlabel='Mes', ylabel='Hits', title = 'Evolución de las '+str(n)+' mayores campañas publicitarias')"
   ]
  },
  {
   "cell_type": "markdown",
   "metadata": {},
   "source": [
    "## ¿Qué campañas tuvieron mayor y menor alcance?"
   ]
  },
  {
   "cell_type": "markdown",
   "metadata": {},
   "source": [
    "Medimos el alcance de una campaña como la cantidad de usuarios únicos que dirigieron a la página."
   ]
  },
  {
   "cell_type": "code",
   "execution_count": null,
   "metadata": {},
   "outputs": [],
   "source": [
    "ad_campaigns = df.loc[(df['event']=='ad campaign hit'),['person','campaign_source']].drop_duplicates()"
   ]
  },
  {
   "cell_type": "markdown",
   "metadata": {},
   "source": [
    "### Mayor alcance"
   ]
  },
  {
   "cell_type": "code",
   "execution_count": null,
   "metadata": {},
   "outputs": [],
   "source": [
    "N = 8\n",
    "ad_campaigns_gruped = ad_campaigns.groupby('campaign_source').agg({'person': 'count'})\n",
    "g = ad_campaigns_gruped.sort_values(by=\"person\",ascending=False).head(N).iloc[::-1]\\\n",
    "    .plot(kind=\"barh\",figsize=(9,3),legend=False)\n",
    "g.set_title(str(N)+' campañas que mas personas dirigieron')\n",
    "g.set_ylabel('Campaña publicitaria')\n",
    "g.set_xlabel('Cantidad de personas')"
   ]
  },
  {
   "cell_type": "markdown",
   "metadata": {},
   "source": [
    "### Menor alcance"
   ]
  },
  {
   "cell_type": "code",
   "execution_count": null,
   "metadata": {},
   "outputs": [],
   "source": [
    "N = 8\n",
    "g = ad_campaigns_gruped.sort_values(by=\"person\",ascending=True).head(N)\\\n",
    "    .plot(kind=\"barh\",figsize=(9,3),legend=False)\n",
    "g.set_title(str(N)+' campañas que menos personas dirigieron')\n",
    "g.set_ylabel('Campaña publicitaria')\n",
    "g.set_xlabel('Cantidad de personas')"
   ]
  },
  {
   "cell_type": "markdown",
   "metadata": {},
   "source": [
    "## ¿En qué cantidad de compras influyeron?\n"
   ]
  },
  {
   "cell_type": "code",
   "execution_count": null,
   "metadata": {},
   "outputs": [],
   "source": [
    "personas_que_compraron = df.loc[df['event']=='conversion',['person']].drop_duplicates()\n",
    "personas_que_compraron[\"compro\"] = True\n",
    "\n",
    "ad_compras = ad_campaigns.set_index(\"person\")\\\n",
    "    .join(personas_que_compraron.set_index(\"person\"),on=\"person\",how=\"left\")\n",
    "ad_compras[\"person\"] = ad_compras.index\n",
    "ad_compras = ad_compras.groupby([\"campaign_source\"]).agg({\"person\":\"count\",\"compro\":\"count\"})\n",
    "ad_compras['porcentaje'] = 100* (ad_compras['compro']/ad_compras['person'])\n",
    "ad_compras = ad_compras.loc[ad_compras[\"person\"] >= 10,[\"porcentaje\"]].sort_values(by=\"porcentaje\",ascending=False)\n",
    "p = ad_compras.iloc[::-1].plot(kind=\"barh\",legend=False,figsize=(8,4),title=\"Porcentaje de compras por campaña publicitaria\")\n",
    "p.set_xlabel(\"Porcentaje\")\n",
    "p.set_ylabel(\"Campaña\")"
   ]
  },
  {
   "cell_type": "code",
   "execution_count": null,
   "metadata": {},
   "outputs": [],
   "source": []
  }
 ],
 "metadata": {
  "kernelspec": {
   "display_name": "Python 3",
   "language": "python",
   "name": "python3"
  },
  "language_info": {
   "codemirror_mode": {
    "name": "ipython",
    "version": 3
   },
   "file_extension": ".py",
   "mimetype": "text/x-python",
   "name": "python",
   "nbconvert_exporter": "python",
   "pygments_lexer": "ipython3",
   "version": "3.6.5"
  }
 },
 "nbformat": 4,
 "nbformat_minor": 2
}
