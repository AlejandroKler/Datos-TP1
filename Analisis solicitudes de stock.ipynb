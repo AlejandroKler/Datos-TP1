{
 "cells": [
  {
   "cell_type": "markdown",
   "metadata": {},
   "source": [
    "### Carga de datos"
   ]
  },
  {
   "cell_type": "code",
   "execution_count": null,
   "metadata": {},
   "outputs": [],
   "source": [
    "#Importo librerias\n",
    "import pandas as pd\n",
    "import numpy as np\n",
    "import matplotlib.pyplot as plt\n",
    "import seaborn as sns"
   ]
  },
  {
   "cell_type": "code",
   "execution_count": null,
   "metadata": {},
   "outputs": [],
   "source": [
    "%matplotlib inline\n",
    "plt.style.use('default')\n",
    "sns.set()"
   ]
  },
  {
   "cell_type": "code",
   "execution_count": null,
   "metadata": {},
   "outputs": [],
   "source": [
    "#Funciones auxiliares\n",
    "def mostrar_porcentaje_barplot(ax):\n",
    "    suma = 0\n",
    "    for p in ax.patches:\n",
    "        suma += p.get_height()\n",
    "    for p in ax.patches:\n",
    "        ax.annotate(str(np.round(100 *(p.get_height() / suma),decimals=2)) + \"%\", (p.get_x()+p.get_width()/2., p.get_height()), ha='center', va='center', xytext=(0, 10), textcoords='offset points')\n",
    "def mostrar_valores_barplot(ax):\n",
    "    for p in ax.patches:\n",
    "        ax.annotate(np.round(p.get_height(),decimals=2), (p.get_x()+p.get_width()/2., p.get_height()), ha='center', va='center', xytext=(0, 10), textcoords='offset points')"
   ]
  },
  {
   "cell_type": "code",
   "execution_count": null,
   "metadata": {},
   "outputs": [],
   "source": [
    "#Cargo el DataFrame\n",
    "df = pd.read_csv('events.csv', low_memory = False, parse_dates = ['timestamp'], infer_datetime_format = True,\n",
    "                    dtype = {'event': 'category','condition': 'category','storage': 'category', 'color': 'category', 'staticpage': 'category', 'campaign_source': 'category', 'search_engine': 'category', 'channel': 'category', 'new_vs_returning': 'category', 'region': 'category', 'country': 'category', 'device_type': 'category'})"
   ]
  },
  {
   "cell_type": "markdown",
   "metadata": {},
   "source": [
    "## Leads"
   ]
  },
  {
   "cell_type": "code",
   "execution_count": null,
   "metadata": {},
   "outputs": [],
   "source": [
    "leads = df.loc[df['event'] == 'lead', ['timestamp', 'person', 'model']].copy()\n",
    "conversions = df.loc[df['event'] == 'conversion', ['timestamp', 'person', 'model']]\n",
    "checkouts = df.loc[df['event'] == 'checkout', ['timestamp', 'person', 'model']]"
   ]
  },
  {
   "cell_type": "markdown",
   "metadata": {},
   "source": [
    "### Cantidad de leads"
   ]
  },
  {
   "cell_type": "code",
   "execution_count": null,
   "metadata": {},
   "outputs": [],
   "source": [
    "len(leads['timestamp'])"
   ]
  },
  {
   "cell_type": "markdown",
   "metadata": {},
   "source": [
    "Hubo 380 solicitudes de notificacion de stock"
   ]
  },
  {
   "cell_type": "markdown",
   "metadata": {},
   "source": [
    "### Cantidad de usuarios que solicitaron notificacion de stock"
   ]
  },
  {
   "cell_type": "code",
   "execution_count": null,
   "metadata": {},
   "outputs": [],
   "source": [
    "len(leads['person'].unique())"
   ]
  },
  {
   "cell_type": "markdown",
   "metadata": {},
   "source": [
    "291 usuarios solicitaron notificacion por faltante de stock"
   ]
  },
  {
   "cell_type": "code",
   "execution_count": null,
   "metadata": {},
   "outputs": [],
   "source": [
    "len(conversions['person'].unique())"
   ]
  },
  {
   "cell_type": "markdown",
   "metadata": {},
   "source": [
    "716 usuarios realizaron al menos una conversion"
   ]
  },
  {
   "cell_type": "markdown",
   "metadata": {},
   "source": [
    "### Leads semanales"
   ]
  },
  {
   "cell_type": "code",
   "execution_count": null,
   "metadata": {},
   "outputs": [],
   "source": [
    "leads_by_week = leads.loc[:, ['timestamp']].copy()\n",
    "leads_by_week['semana'] = leads_by_week['timestamp'].dt.week - 1\n",
    "leads_by_week = leads_by_week[leads_by_week['semana'] != leads_by_week['semana'].max()] #Borro la ultima semana incompleta\n",
    "leads_by_week['semana'] = pd.to_datetime('2018', format='%Y') + pd.to_timedelta(leads_by_week['semana'].mul(7).astype('str') + ' days')\n",
    "\n",
    "leads_weeks = leads_by_week['semana'].value_counts().to_frame().sort_index()\n",
    "ax = leads_weeks['semana'].plot()\n",
    "ax.set(xlabel='Semana', ylabel='Solicitudes de stock')\n",
    "ax.set_title('Solicitudes de stock semanales')"
   ]
  },
  {
   "cell_type": "code",
   "execution_count": null,
   "metadata": {},
   "outputs": [],
   "source": [
    "leads_weeks['semana'].iloc[-11:].mean()"
   ]
  },
  {
   "cell_type": "markdown",
   "metadata": {},
   "source": [
    "Hay un promedio de 30 leads semanales desde abril."
   ]
  },
  {
   "cell_type": "markdown",
   "metadata": {},
   "source": [
    "### Relacion leads y conversiones"
   ]
  },
  {
   "cell_type": "code",
   "execution_count": null,
   "metadata": {},
   "outputs": [],
   "source": [
    "conversions_by_week = conversions.loc[:, ['timestamp']].copy()\n",
    "conversions_by_week['semana'] = conversions_by_week['timestamp'].dt.week - 1\n",
    "conversions_by_week = conversions_by_week[conversions_by_week['semana'] != conversions_by_week['semana'].max()] #Borro la ultima semana incompleta\n",
    "conversions_by_week['semana'] = pd.to_datetime('2018', format='%Y') + pd.to_timedelta(conversions_by_week['semana'].mul(7).astype('str') + ' days')\n",
    "conversions_weeks = conversions_by_week['semana'].value_counts().to_frame().sort_index()\n",
    "\n",
    "fig, ax1 = plt.subplots()\n",
    "\n",
    "color='#B40404'\n",
    "ax1.set_xlabel('Semana')\n",
    "ax1.set_ylabel('Solicitudes de stock', color=color)\n",
    "ax1.plot(leads_weeks['semana'], color=color)\n",
    "ax1.tick_params(axis='y', labelcolor=color)\n",
    "\n",
    "ax2 = ax1.twinx()\n",
    "\n",
    "color = 'tab:blue'\n",
    "ax2.set_ylabel('Compras', color=color)\n",
    "ax2.plot(conversions_weeks['semana'], color=color)\n",
    "ax2.tick_params(axis='y', labelcolor=color)\n",
    "\n",
    "fig.tight_layout()\n",
    "ax1.set_title('Solicitudes de stock y compras semanales')\n",
    "plt.show()"
   ]
  },
  {
   "cell_type": "markdown",
   "metadata": {},
   "source": [
    "Notamos que en los momentos en que mas solicitudes de stock hay, las conversiones se estancan o disminuyen"
   ]
  },
  {
   "cell_type": "markdown",
   "metadata": {},
   "source": [
    "### ¿Que marcas tienen mas solicitudes de notificacion de stock?"
   ]
  },
  {
   "cell_type": "code",
   "execution_count": null,
   "metadata": {},
   "outputs": [],
   "source": [
    "def obtener_marca(serie_de_modelo):\n",
    "    # La marca es siempre la primer palabra del modelo\n",
    "    r = []\n",
    "    for modelo in serie_de_modelo.tolist():\n",
    "        if pd.isna(modelo):\n",
    "            r.append(\"Unknown\")\n",
    "        else:\n",
    "            r.append(modelo.split()[0])\n",
    "    return r"
   ]
  },
  {
   "cell_type": "code",
   "execution_count": null,
   "metadata": {},
   "outputs": [],
   "source": [
    "leads['marca'] = obtener_marca(leads['model'])\n",
    "leads['semana'] = leads['timestamp'].dt.week\n",
    "conversions['marca'] = obtener_marca(conversions['model'])\n",
    "\n",
    "leads_unicos = leads.drop_duplicates(subset = ['person', 'model', 'semana'])"
   ]
  },
  {
   "cell_type": "code",
   "execution_count": null,
   "metadata": {},
   "outputs": [],
   "source": [
    "leads_count = leads_unicos['marca'].value_counts().to_frame()\n",
    "conversions_count = conversions['marca'].value_counts().to_frame()\n",
    "count = pd.concat([leads_count, conversions_count], axis=1, join_axes=[leads_count.index])\n",
    "count.columns = ['leads','conversiones']\n",
    "count = count.iloc[0:5]\n",
    "\n",
    "fig, (ax, ax2) = plt.subplots(ncols=2, sharey=True)\n",
    "\n",
    "ax.yaxis.tick_left()\n",
    "\n",
    "count['leads'].plot(kind='barh', x='LABEL',  legend=False, ax=ax)\n",
    "count['conversiones'].plot(kind='barh', x='LABEL',ax=ax2)\n",
    "ax.set_title('Solicitudes de stock')\n",
    "ax.set(xlabel='Solicitudes de stock totales', ylabel='Marca')\n",
    "ax2.set_title('Compras')\n",
    "ax2.set(xlabel='Compras totales')\n",
    "plt.show()"
   ]
  },
  {
   "cell_type": "markdown",
   "metadata": {},
   "source": [
    "Vemos que los iphone son los que mayor cantidad de leads tienen y los Samsung quedan en segundo lugar, pero la cantidad de Samsung vendidos es el doble que la cantidad de iphones vendidos, lo que significa que hay un problema de stock para los iphone. Tambien para los LG hay una cantidad grande de lead en comparacion con sus conversiones."
   ]
  },
  {
   "cell_type": "markdown",
   "metadata": {},
   "source": [
    "### ¿Cuantos de esos lead se convirtieron en compra?"
   ]
  },
  {
   "cell_type": "code",
   "execution_count": null,
   "metadata": {},
   "outputs": [],
   "source": [
    "leads_red = leads_unicos[['person', 'model']]\n",
    "conversions_red = conversions[['person', 'model']].copy()\n",
    "conversions_red['conversion'] = True\n",
    "\n",
    "leads_red = leads_red.merge(conversions_red.drop_duplicates(), on = ['person', 'model'], how = 'left')\n",
    "valores = leads_red['conversion'].fillna(False).value_counts()\n",
    "valores.rename({False:'No compro', True:'Compro'}, inplace=True)\n",
    "ax = valores.plot('pie', autopct='%1.0f%%', figsize=(4,4), title='Cantidad de solicitudes que se convirtieron en compra')\n",
    "ax.set_ylabel('')"
   ]
  },
  {
   "cell_type": "markdown",
   "metadata": {},
   "source": [
    "Solamente 29 de los 380 leads unicos (sin contar multiples lead de un mismo usuario para un mismo modelo en una misma semana) se convirtieron en compra, un numero desalentador considerando que son 351 potenciales compras que no pudieron realizarse por faltante de stock."
   ]
  },
  {
   "cell_type": "code",
   "execution_count": null,
   "metadata": {},
   "outputs": [],
   "source": [
    "len(conversions['timestamp'])"
   ]
  },
  {
   "cell_type": "code",
   "execution_count": null,
   "metadata": {},
   "outputs": [],
   "source": [
    "comprados_leads = pd.Series({'Compras':len(conversions['timestamp']), 'Solicitudes de stock sin compra':380 - 29})\n",
    "ax = comprados_leads.plot('bar')\n",
    "plt.xticks(rotation=0)\n",
    "ax.set(ylabel='Cantidad total')\n",
    "ax.set_title('Compras totales vs solicitudes de stock totales')"
   ]
  },
  {
   "cell_type": "code",
   "execution_count": null,
   "metadata": {},
   "outputs": [],
   "source": [
    "100 * (1 - (1172/(1172+351)))"
   ]
  },
  {
   "cell_type": "markdown",
   "metadata": {},
   "source": [
    "Se vendió un 23% menos cantidad de celulares de lo que se podría haber vendido si hubiese habido stock suficiente."
   ]
  }
 ],
 "metadata": {
  "kernelspec": {
   "display_name": "Python 3",
   "language": "python",
   "name": "python3"
  },
  "language_info": {
   "codemirror_mode": {
    "name": "ipython",
    "version": 3
   },
   "file_extension": ".py",
   "mimetype": "text/x-python",
   "name": "python",
   "nbconvert_exporter": "python",
   "pygments_lexer": "ipython3",
   "version": "3.6.5"
  }
 },
 "nbformat": 4,
 "nbformat_minor": 2
}
