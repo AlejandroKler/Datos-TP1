{
 "cells": [
  {
   "cell_type": "markdown",
   "metadata": {},
   "source": [
    "### Carga de datos"
   ]
  },
  {
   "cell_type": "code",
   "execution_count": 12,
   "metadata": {},
   "outputs": [],
   "source": [
    "#Importo librerias\n",
    "import pandas as pd\n",
    "import numpy as np\n",
    "import matplotlib.pyplot as plt\n",
    "import seaborn as sns"
   ]
  },
  {
   "cell_type": "code",
   "execution_count": 13,
   "metadata": {},
   "outputs": [],
   "source": [
    "%matplotlib inline\n",
    "plt.style.use('default')\n",
    "sns.set()"
   ]
  },
  {
   "cell_type": "code",
   "execution_count": 14,
   "metadata": {},
   "outputs": [],
   "source": [
    "#Funciones auxiliares\n",
    "def mostrar_porcentaje_barplot(ax):\n",
    "    suma = 0\n",
    "    for p in ax.patches:\n",
    "        suma += p.get_height()\n",
    "    for p in ax.patches:\n",
    "        ax.annotate(str(np.round(100 *(p.get_height() / suma),decimals=2)) + \"%\", (p.get_x()+p.get_width()/2., p.get_height()), ha='center', va='center', xytext=(0, 10), textcoords='offset points')\n",
    "def mostrar_valores_barplot(ax):\n",
    "    for p in ax.patches:\n",
    "        ax.annotate(np.round(p.get_height(),decimals=2), (p.get_x()+p.get_width()/2., p.get_height()), ha='center', va='center', xytext=(0, 10), textcoords='offset points')"
   ]
  },
  {
   "cell_type": "code",
   "execution_count": 15,
   "metadata": {},
   "outputs": [],
   "source": [
    "#Cargo el DataFrame\n",
    "df = pd.read_csv('events.csv', low_memory = False, parse_dates = ['timestamp'], infer_datetime_format = True,\n",
    "                    dtype = {'event': 'category','condition': 'category','storage': 'category', 'color': 'category', 'staticpage': 'category', 'campaign_source': 'category', 'search_engine': 'category', 'channel': 'category', 'new_vs_returning': 'category', 'region': 'category', 'country': 'category', 'device_type': 'category'})"
   ]
  },
  {
   "cell_type": "markdown",
   "metadata": {},
   "source": [
    "### Analisis duracion de sesion"
   ]
  },
  {
   "cell_type": "code",
   "execution_count": 37,
   "metadata": {},
   "outputs": [],
   "source": [
    "df_indice_en_persona_evento = df.set_index(['person','event'])"
   ]
  },
  {
   "cell_type": "code",
   "execution_count": 38,
   "metadata": {},
   "outputs": [],
   "source": [
    "dif_primer_ultimo_evento = df_indice_en_persona_evento.groupby('person').agg({'timestamp':['max', 'min']})\n",
    "dif_primer_ultimo_evento['diferencia'] = dif_primer_ultimo_evento['timestamp']['max'] - dif_primer_ultimo_evento['timestamp']['min']\n",
    "dif_primer_ultimo_evento.drop(columns='timestamp', inplace= True)\n",
    "#mejora notoria de tiempo de ejecucion"
   ]
  },
  {
   "cell_type": "code",
   "execution_count": 39,
   "metadata": {},
   "outputs": [
    {
     "data": {
      "text/html": [
       "<div>\n",
       "<style scoped>\n",
       "    .dataframe tbody tr th:only-of-type {\n",
       "        vertical-align: middle;\n",
       "    }\n",
       "\n",
       "    .dataframe tbody tr th {\n",
       "        vertical-align: top;\n",
       "    }\n",
       "\n",
       "    .dataframe thead tr th {\n",
       "        text-align: left;\n",
       "    }\n",
       "\n",
       "    .dataframe thead tr:last-of-type th {\n",
       "        text-align: right;\n",
       "    }\n",
       "</style>\n",
       "<table border=\"1\" class=\"dataframe\">\n",
       "  <thead>\n",
       "    <tr>\n",
       "      <th></th>\n",
       "      <th>diferencia</th>\n",
       "    </tr>\n",
       "    <tr>\n",
       "      <th></th>\n",
       "      <th></th>\n",
       "    </tr>\n",
       "    <tr>\n",
       "      <th>person</th>\n",
       "      <th></th>\n",
       "    </tr>\n",
       "  </thead>\n",
       "  <tbody>\n",
       "    <tr>\n",
       "      <th>090de13e</th>\n",
       "      <td>1 days 00:02:28</td>\n",
       "    </tr>\n",
       "    <tr>\n",
       "      <th>c56e464b</th>\n",
       "      <td>1 days 00:02:34</td>\n",
       "    </tr>\n",
       "    <tr>\n",
       "      <th>482292d0</th>\n",
       "      <td>1 days 00:02:43</td>\n",
       "    </tr>\n",
       "    <tr>\n",
       "      <th>274c909c</th>\n",
       "      <td>1 days 00:03:07</td>\n",
       "    </tr>\n",
       "    <tr>\n",
       "      <th>20804569</th>\n",
       "      <td>1 days 00:03:11</td>\n",
       "    </tr>\n",
       "    <tr>\n",
       "      <th>9250d410</th>\n",
       "      <td>161 days 10:56:51</td>\n",
       "    </tr>\n",
       "    <tr>\n",
       "      <th>ce5f5942</th>\n",
       "      <td>161 days 19:59:42</td>\n",
       "    </tr>\n",
       "    <tr>\n",
       "      <th>8dc00e04</th>\n",
       "      <td>162 days 01:22:29</td>\n",
       "    </tr>\n",
       "    <tr>\n",
       "      <th>4106b1a5</th>\n",
       "      <td>164 days 01:12:49</td>\n",
       "    </tr>\n",
       "    <tr>\n",
       "      <th>cbaee231</th>\n",
       "      <td>164 days 07:37:19</td>\n",
       "    </tr>\n",
       "  </tbody>\n",
       "</table>\n",
       "</div>"
      ],
      "text/plain": [
       "                diferencia\n",
       "                          \n",
       "person                    \n",
       "090de13e   1 days 00:02:28\n",
       "c56e464b   1 days 00:02:34\n",
       "482292d0   1 days 00:02:43\n",
       "274c909c   1 days 00:03:07\n",
       "20804569   1 days 00:03:11\n",
       "9250d410 161 days 10:56:51\n",
       "ce5f5942 161 days 19:59:42\n",
       "8dc00e04 162 days 01:22:29\n",
       "4106b1a5 164 days 01:12:49\n",
       "cbaee231 164 days 07:37:19"
      ]
     },
     "execution_count": 39,
     "metadata": {},
     "output_type": "execute_result"
    }
   ],
   "source": [
    "dif_primer_ultimo_evento = dif_primer_ultimo_evento.loc[dif_primer_ultimo_evento['diferencia']>'1 day'].sort_values(by = 'diferencia')\n",
    "pd.concat([dif_primer_ultimo_evento.head(), dif_primer_ultimo_evento.tail()])"
   ]
  },
  {
   "cell_type": "code",
   "execution_count": null,
   "metadata": {},
   "outputs": [],
   "source": []
  }
 ],
 "metadata": {
  "kernelspec": {
   "display_name": "Python 3",
   "language": "python",
   "name": "python3"
  },
  "language_info": {
   "codemirror_mode": {
    "name": "ipython",
    "version": 3
   },
   "file_extension": ".py",
   "mimetype": "text/x-python",
   "name": "python",
   "nbconvert_exporter": "python",
   "pygments_lexer": "ipython3",
   "version": "3.6.5"
  }
 },
 "nbformat": 4,
 "nbformat_minor": 2
}
