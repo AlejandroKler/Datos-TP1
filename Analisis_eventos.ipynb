{
 "cells": [
  {
   "cell_type": "markdown",
   "metadata": {},
   "source": [
    "# Análisis Exploratorio de los datos de Trocafone\n",
    "\n"
   ]
  },
  {
   "cell_type": "markdown",
   "metadata": {},
   "source": [
    "## Configuracion inicial"
   ]
  },
  {
   "cell_type": "code",
   "execution_count": null,
   "metadata": {},
   "outputs": [],
   "source": [
    "#Importo librerias\n",
    "import pandas as pd\n",
    "import numpy as np\n",
    "import matplotlib.pyplot as plt\n",
    "import seaborn as sns"
   ]
  },
  {
   "cell_type": "code",
   "execution_count": null,
   "metadata": {},
   "outputs": [],
   "source": [
    "%matplotlib inline\n",
    "plt.style.use('default')\n",
    "sns.set()"
   ]
  },
  {
   "cell_type": "code",
   "execution_count": null,
   "metadata": {},
   "outputs": [],
   "source": [
    "#Funciones auxiliares\n",
    "def mostrar_porcentaje_barplot(ax):\n",
    "    suma = 0\n",
    "    for p in ax.patches:\n",
    "        suma += p.get_height()\n",
    "    for p in ax.patches:\n",
    "        ax.annotate(str(np.round(100 *(p.get_height() / suma),decimals=2)) + \"%\", (p.get_x()+p.get_width()/2., p.get_height()), ha='center', va='center', xytext=(0, 10), textcoords='offset points')\n",
    "def mostrar_valores_barplot(ax):\n",
    "    for p in ax.patches:\n",
    "        ax.annotate(np.round(p.get_height(),decimals=2), (p.get_x()+p.get_width()/2., p.get_height()), ha='center', va='center', xytext=(0, 10), textcoords='offset points')"
   ]
  },
  {
   "cell_type": "code",
   "execution_count": null,
   "metadata": {},
   "outputs": [],
   "source": [
    "#Cargo el DataFrame\n",
    "df = pd.read_csv('events.csv', low_memory = False, parse_dates = ['timestamp'], infer_datetime_format = True,\n",
    "                    dtype = {'event': 'category','condition': 'category','storage': 'category', 'color': 'category', 'staticpage': 'category', 'campaign_source': 'category', 'search_engine': 'category', 'channel': 'category', 'new_vs_returning': 'category', 'region': 'category', 'country': 'category', 'device_type': 'category'})\n",
    "df.head()"
   ]
  },
  {
   "cell_type": "markdown",
   "metadata": {},
   "source": [
    "## Chequeos de integridad y calidad de los datos\n"
   ]
  },
  {
   "cell_type": "code",
   "execution_count": null,
   "metadata": {},
   "outputs": [],
   "source": [
    "df.info()"
   ]
  },
  {
   "cell_type": "markdown",
   "metadata": {},
   "source": [
    "Como podemos ver, todas las filas especifican 'timestamp', 'event' y 'person'"
   ]
  },
  {
   "cell_type": "markdown",
   "metadata": {},
   "source": [
    "### Analizamos los valores que pueden tomar las columnas categoricas"
   ]
  },
  {
   "cell_type": "code",
   "execution_count": null,
   "metadata": {},
   "outputs": [],
   "source": [
    "valores = df['condition'].unique()\n",
    "for valor in valores:\n",
    "    print(valor, end = ', ')"
   ]
  },
  {
   "cell_type": "code",
   "execution_count": null,
   "metadata": {},
   "outputs": [],
   "source": [
    "valores = df['storage'].unique()\n",
    "for valor in valores:\n",
    "    print(valor, end = ', ')"
   ]
  },
  {
   "cell_type": "code",
   "execution_count": null,
   "metadata": {},
   "outputs": [],
   "source": [
    "valores = df['channel'].unique()\n",
    "for valor in valores:\n",
    "    print(valor, end = ', ')"
   ]
  },
  {
   "cell_type": "code",
   "execution_count": null,
   "metadata": {},
   "outputs": [],
   "source": [
    "valores = df['staticpage'].unique()\n",
    "for valor in valores:\n",
    "    print(valor, end = ', ')"
   ]
  },
  {
   "cell_type": "markdown",
   "metadata": {},
   "source": [
    "## Analisis tipos de evento"
   ]
  },
  {
   "cell_type": "code",
   "execution_count": null,
   "metadata": {},
   "outputs": [],
   "source": [
    "colUsadasEventos = df.groupby(by = 'event').count()\n",
    "colUsadasEventos"
   ]
  },
  {
   "cell_type": "code",
   "execution_count": null,
   "metadata": {},
   "outputs": [],
   "source": [
    "columns = list(df)\n",
    "for event, row in colUsadasEventos.iterrows():\n",
    "    print(event, end = ':')\n",
    "    \n",
    "    for column in columns:\n",
    "        if(row.get(column) != 0):\n",
    "            print(' ' + column, end = ',')\n",
    "            \n",
    "    print()"
   ]
  },
  {
   "cell_type": "markdown",
   "metadata": {},
   "source": [
    "## Columnas usadas por cada evento\n",
    "\n",
    "Todos los eventos contienen informacion sobre **'timestamp'**, **'event'** y **'person'**, y ademas utilizan las siguientes columnas:\n",
    "\n",
    "**ad campaign hit:**\n",
    "    url, campaign_source\n",
    "\n",
    "**brand listing:**\n",
    "    skus\n",
    "\n",
    "**checkout:** \n",
    "    sku, model, condition, storage, color\n",
    "\n",
    "**conversion:**\n",
    "    sku, model, condition, storage, color\n",
    "\n",
    "**generic listing:**\n",
    "    skus\n",
    "\n",
    "**lead:**\n",
    "    model\n",
    "\n",
    "**search engine hit:** \n",
    "    search_engine\n",
    "\n",
    "**searched products:** \n",
    "    skus, search_term\n",
    "\n",
    "**staticpage:** \n",
    "    staticpage\n",
    "\n",
    "**viewed product:** \n",
    "    sku, model, condition, storage, color\n",
    "\n",
    "**visited site:** \n",
    "    channel, new_vs_returning, city, region, country, device_type, screen_resolution, operating_system_version, browser_version\n"
   ]
  },
  {
   "cell_type": "markdown",
   "metadata": {},
   "source": [
    "## Analisis geográfico"
   ]
  },
  {
   "cell_type": "code",
   "execution_count": null,
   "metadata": {},
   "outputs": [],
   "source": [
    "#Solo los eventos \"visited site\" especifican pais\n",
    "visitas = df.loc[df[\"event\"] == \"visited site\", ['person', 'country', 'city', 'region']]"
   ]
  },
  {
   "cell_type": "code",
   "execution_count": null,
   "metadata": {},
   "outputs": [],
   "source": [
    "visitas['country'].value_counts().head(10)"
   ]
  },
  {
   "cell_type": "markdown",
   "metadata": {},
   "source": [
    "La mayor parte de las visitas provienen de Brasil, por lo que nos limitaremos a analizar a la audiencia brasileña"
   ]
  },
  {
   "cell_type": "code",
   "execution_count": null,
   "metadata": {},
   "outputs": [],
   "source": [
    "visitas_brasil = visitas[visitas['country'] == 'Brazil']\n",
    "#filtramos una visita por usuarios unicos, si un usuario entro muchas veces desde una ciudad la contaremos como una\n",
    "# y si entro desde muchas ciudades, contaremos una visita por ciudad\n",
    "visitas_brasil = visitas_brasil.drop_duplicates()\n",
    "\n",
    "visitas_brasil['region'].value_counts().head()"
   ]
  },
  {
   "cell_type": "code",
   "execution_count": null,
   "metadata": {},
   "outputs": [],
   "source": [
    "#Comprobamos que no especifique ciudad para region de tipo \"Unknown\"\n",
    "visitas_brasil[visitas_brasil['region'] == 'Unknown']['city'].value_counts().head()"
   ]
  },
  {
   "cell_type": "code",
   "execution_count": null,
   "metadata": {},
   "outputs": [],
   "source": [
    "#Filtramos los 'Unknown'\n",
    "visitas_brasil = visitas_brasil[visitas_brasil['region'] != 'Unknown']\n",
    "\n",
    "sns.set(rc={'figure.figsize':(14.7,8.27)})\n",
    "ax = visitas_brasil['region'].value_counts().head(15).plot('bar')\n",
    "ax.set(xlabel='Region', ylabel='Cantidad de usuarios')\n",
    "ax.set_title('Usuarios por region')\n",
    "mostrar_porcentaje_barplot(ax)"
   ]
  },
  {
   "cell_type": "code",
   "execution_count": null,
   "metadata": {},
   "outputs": [],
   "source": [
    "visitas_brasil = visitas_brasil[visitas_brasil['city'] != 'Unknown']\n",
    "ax = visitas_brasil['city'].value_counts().head(15).plot('bar')\n",
    "ax.set(xlabel='Ciudad', ylabel='Cantidad de usuarios')\n",
    "ax.set_title('Usuarios por ciudad')\n",
    "mostrar_porcentaje_barplot(ax)\n",
    "sns.set(rc={'figure.figsize':(14.7,8.27)})"
   ]
  },
  {
   "cell_type": "markdown",
   "metadata": {},
   "source": [
    "## Captacion de usuarios"
   ]
  },
  {
   "cell_type": "code",
   "execution_count": null,
   "metadata": {},
   "outputs": [],
   "source": [
    "personas_new_ret = df.loc[df[\"event\"] == \"visited site\", ['person', 'new_vs_returning']]\n",
    "personas_new_ret['returning_hits'] = personas_new_ret['new_vs_returning'] == 'Returning'\n",
    "personas_new_ret.drop(columns='new_vs_returning', inplace=True)\n",
    "personas_new_ret.head()"
   ]
  },
  {
   "cell_type": "code",
   "execution_count": null,
   "metadata": {},
   "outputs": [],
   "source": [
    "personas_ret_hits = personas_new_ret.groupby(by = 'person').agg({'returning_hits': np.count_nonzero})\n",
    "personas_ret_hits.head(10)"
   ]
  },
  {
   "cell_type": "code",
   "execution_count": null,
   "metadata": {},
   "outputs": [],
   "source": [
    "x = personas_ret_hits['returning_hits']\n",
    "x.value_counts().head(10)"
   ]
  },
  {
   "cell_type": "code",
   "execution_count": null,
   "metadata": {},
   "outputs": [],
   "source": [
    "ax = x.hist(bins = 50)\n",
    "ax.set_yscale('log')\n",
    "ax.set_title('Cantidad de usuarios según returning_hits')\n",
    "ax.set_xlabel('Cantidad de returning_hits')"
   ]
  },
  {
   "cell_type": "markdown",
   "metadata": {},
   "source": [
    "La mayoría de los usuarios ingresa al sitio una única vez"
   ]
  },
  {
   "cell_type": "code",
   "execution_count": null,
   "metadata": {},
   "outputs": [],
   "source": [
    "cant_returns = x.value_counts()\n",
    "cero_returns = cant_returns[0]\n",
    "uno_diez_returns = cant_returns[1:11].values.sum()\n",
    "diez_mas_returns = cant_returns[11:].values.sum()\n",
    "datos_returns = [cero_returns, uno_diez_returns, diez_mas_returns]\n",
    "x_labels = ['1', '2 - 10', '10+']\n",
    "ax = sns.barplot(x = x_labels, y = datos_returns)\n",
    "ax.set(xlabel='Cantidad de visitas al sitio', ylabel='Cantidad de Usuarios', title = 'Cantidad de usuarios segun veces que visitaron el sitio')"
   ]
  },
  {
   "cell_type": "markdown",
   "metadata": {},
   "source": [
    "La mayoria de los usuarios visita el sitio una única vez, mientras que solo una pequeña proporción volvió al sitio mas de 10 veces. Es posible que un mismo usuario entre desde dispositivos diferentes."
   ]
  },
  {
   "cell_type": "markdown",
   "metadata": {},
   "source": [
    "## Analisis temporal"
   ]
  },
  {
   "cell_type": "code",
   "execution_count": null,
   "metadata": {},
   "outputs": [],
   "source": [
    "#Analizamos periodo de los datos\n",
    "df['timestamp'].dt.year.value_counts()"
   ]
  },
  {
   "cell_type": "markdown",
   "metadata": {},
   "source": [
    "Todos los datos son de 2018"
   ]
  },
  {
   "cell_type": "code",
   "execution_count": null,
   "metadata": {},
   "outputs": [],
   "source": [
    "df['timestamp'].dt.month_name().value_counts()"
   ]
  },
  {
   "cell_type": "markdown",
   "metadata": {},
   "source": [
    "De los primeros dos trimestres del año"
   ]
  },
  {
   "cell_type": "code",
   "execution_count": null,
   "metadata": {},
   "outputs": [],
   "source": [
    "#Vamos a hacer un analisis sobre los dias en los que se produjeron los eventos\n",
    "dias_semana = df['timestamp'].dt.weekday_name\n",
    "dias_ordenados = ['Monday', 'Tuesday', 'Wednesday', 'Thursday', 'Friday', 'Saturday', 'Sunday']\n",
    "dias_semana = pd.Categorical(dias_semana, categories = dias_ordenados, ordered = True)\n",
    "g = dias_semana.value_counts().plot('bar')\n",
    "g.set_title('Cantidad de eventos por dia de la semana')"
   ]
  },
  {
   "cell_type": "markdown",
   "metadata": {},
   "source": [
    "Vemos que durante el fin de semana el trafico es menor"
   ]
  },
  {
   "cell_type": "code",
   "execution_count": null,
   "metadata": {},
   "outputs": [],
   "source": [
    "tiempo_eventos = pd.DataFrame()\n",
    "tiempo_eventos['event'] = df['event']\n",
    "tiempo_eventos['dia_semana'] = df['timestamp'].dt.weekday_name\n",
    "tiempo_eventos['dia'] = df['timestamp'].dt.day\n",
    "tiempo_eventos['hora'] = df['timestamp'].dt.hour\n",
    "tiempo_eventos['mes'] = df['timestamp'].dt.month_name()\n",
    "\n",
    "#hora_weekday_organic = tiempo_eventos[tiempo_eventos['channel'] == 'organic'].groupby('dia_semana')['hora'].value_counts().to_frame()\n",
    "#hora_weekday_paid = tiempo_eventos[tiempo_eventos['channel'] == 'paid'].groupby('dia_semana')['hora'].value_counts().to_frame()\n",
    "\n",
    "hora_weekday_visitas = tiempo_eventos[tiempo_eventos['event'] == 'visited site'].groupby('dia_semana')['hora'].value_counts().to_frame()\n",
    "hora_weekday_visitas = hora_weekday_visitas.rename(columns = {'hora':'cant_casos'})\n",
    "hora_weekday_visitas = hora_weekday_visitas.reset_index('hora')\n",
    "hora_weekday_visitas.index = pd.CategoricalIndex(hora_weekday_visitas.index, categories= reversed(dias_ordenados))\n",
    "hora_weekday_visitas.sort_index(level=0, inplace=True)\n",
    "hora_weekday_visitas = hora_weekday_visitas.reset_index()\n",
    "\n",
    "dia_mes_visitas = tiempo_eventos[tiempo_eventos['event'] == 'visited site'].groupby('mes')['dia'].value_counts().to_frame()\n",
    "dia_mes_visitas = dia_mes_visitas.rename(columns = {'dia':'cant_casos'})\n",
    "dia_mes_visitas = dia_mes_visitas.reset_index('dia')\n",
    "dia_mes_visitas.index = pd.CategoricalIndex(dia_mes_visitas.index, categories= ['January', 'February', 'March', 'April', 'May', 'June'])\n",
    "dia_mes_visitas.sort_index(level=0, inplace=True)\n",
    "dia_mes_visitas = dia_mes_visitas.reset_index()"
   ]
  },
  {
   "cell_type": "code",
   "execution_count": null,
   "metadata": {},
   "outputs": [],
   "source": [
    "pivot = hora_weekday_visitas.pivot_table(index = 'dia_semana', columns = 'hora', values = 'cant_casos')\n",
    "cmap = sns.cm.rocket_r\n",
    "ax = sns.heatmap(data = pivot, cmap = cmap)\n",
    "ax.set(xlabel='Hora', ylabel='Dia de la semana', title = 'Visitas segun hora del dia')\n",
    "ax.set_yticklabels(reversed(['Lunes', 'Martes', 'Miercoles', 'Jueves', 'Viernes', 'Sabado', 'Domingo']))"
   ]
  },
  {
   "cell_type": "markdown",
   "metadata": {},
   "source": [
    "Durante el fin de semana la cantidad de visitas es menor, mientras que la mayoria de las visitas se realizan entre las 12 y las 2"
   ]
  },
  {
   "cell_type": "code",
   "execution_count": null,
   "metadata": {},
   "outputs": [],
   "source": [
    "pivot = dia_mes_visitas.pivot_table(index = 'dia', columns = 'mes', values = 'cant_casos')\n",
    "cmap = sns.cm.rocket_r\n",
    "sns.set(rc={'figure.figsize':(10.7,9.27)})\n",
    "ax = sns.heatmap(data = pivot, cmap = cmap, annot = True, fmt=\".0f\")\n",
    "ax.set(xlabel='Mes', ylabel='Dia', title = 'Visitas 2018')\n",
    "ax.set_xticklabels(['Enero','Febrero','Marzo','Abril','Mayo','Junio'])"
   ]
  },
  {
   "cell_type": "markdown",
   "metadata": {},
   "source": [
    "Las visitas crecieron aceleradamente a lo largo del año, logrando un despegue a partir de mayo. Analizaremos las causas de esto mas adelante"
   ]
  },
  {
   "cell_type": "markdown",
   "metadata": {},
   "source": [
    "## Origen de las visitas"
   ]
  },
  {
   "cell_type": "code",
   "execution_count": null,
   "metadata": {},
   "outputs": [],
   "source": [
    "visitas = df.loc[df[\"event\"] == \"visited site\", ['timestamp', 'person', 'channel', 'new_vs_returning', 'city', 'region', 'country', 'device_type', 'screen_resolution', 'operating_system_version', 'browser_version']]\n",
    "colors = {'Paid': 'navy', 'Direct': 'g', 'Organic': 'coral', 'Referral': 'm', 'Social': 'goldenrod', 'Email': 'k', 'Unknown': 'grey'}"
   ]
  },
  {
   "cell_type": "code",
   "execution_count": null,
   "metadata": {},
   "outputs": [],
   "source": [
    "valores = visitas['channel'].value_counts()\n",
    "ax = valores.plot(kind = 'bar', color=[colors.get(i) for i in valores.index])\n",
    "ax.set_title('Origen de las visitas')\n",
    "ax.set_ylabel('Cantidad')\n",
    "ax.set_xlabel('Channel')\n",
    "plt.xticks(rotation=0)\n",
    "mostrar_porcentaje_barplot(ax)"
   ]
  },
  {
   "cell_type": "markdown",
   "metadata": {},
   "source": [
    "### Origen de usuarios nuevos"
   ]
  },
  {
   "cell_type": "code",
   "execution_count": null,
   "metadata": {},
   "outputs": [],
   "source": [
    "valores = visitas[visitas['new_vs_returning'] == 'New']['channel'].value_counts()\n",
    "ax = valores.plot(kind = 'bar', color=[colors.get(i) for i in valores.index])\n",
    "ax.set_title('Origen de las visitas de usuarios nuevos')\n",
    "ax.set_ylabel('Cantidad')\n",
    "ax.set_xlabel('Channel')\n",
    "plt.xticks(rotation=0)\n",
    "mostrar_porcentaje_barplot(ax)"
   ]
  },
  {
   "cell_type": "markdown",
   "metadata": {},
   "source": [
    "#### Evolucion canales a lo largo del tiempo para usuarios nuevos"
   ]
  },
  {
   "cell_type": "code",
   "execution_count": null,
   "metadata": {},
   "outputs": [],
   "source": [
    "evolucion_semanal = visitas.copy()\n",
    "evolucion_semanal['mes'] = evolucion_semanal['timestamp'].dt.month\n",
    "evolucion_semanal = evolucion_semanal[evolucion_semanal['new_vs_returning'] == 'New']\n",
    "\n",
    "evolucion_semanal = pd.crosstab(evolucion_semanal['mes'], evolucion_semanal['channel'])\n",
    "evolucion_semanal = evolucion_semanal.div(evolucion_semanal.sum(axis=1), axis=0).multiply(100)\n",
    "\n",
    "ax = evolucion_semanal.plot(kind = 'area')\n",
    "ax.legend(loc='center left', bbox_to_anchor=(1.0, 0.5))\n",
    "ax.set(xlabel='Mes', ylabel='Porcentaje', title = 'Proporcion de visitas usuarios nuevos por channel')"
   ]
  },
  {
   "cell_type": "markdown",
   "metadata": {},
   "source": [
    "Vemos que los porcentajes se mantienen mas o menos constantes a lo largo del tiempo"
   ]
  },
  {
   "cell_type": "markdown",
   "metadata": {},
   "source": [
    "### Origen usuarios no nuevos"
   ]
  },
  {
   "cell_type": "code",
   "execution_count": null,
   "metadata": {},
   "outputs": [],
   "source": [
    "valores = visitas[visitas['new_vs_returning'] == 'Returning']['channel'].value_counts()\n",
    "ax = valores.plot(kind = 'bar', color=[colors.get(i) for i in valores.index])\n",
    "ax.set_title('Origen de las visitas de usuarios no nuevos')\n",
    "ax.set_ylabel('Cantidad')\n",
    "ax.set_xlabel('Channel')\n",
    "plt.xticks(rotation=0)\n",
    "mostrar_porcentaje_barplot(ax)"
   ]
  },
  {
   "cell_type": "markdown",
   "metadata": {},
   "source": [
    "Vemos que el canal pago es el que mas visitas atrae, no solo para usuarios nuevos sino tambien para usuarios que ya habian entrado al sitio. Por otro lado, se puede ver como el canal \"Direct\" (tipeado de URL, acceso mediante favoritos y similares) toma protagonismo para visitas de usuarios que ya conocen el sitio. Pero esto puede ser causado por un pequeño numero de usuarios que visitan repetidas veces el sitio"
   ]
  },
  {
   "cell_type": "markdown",
   "metadata": {},
   "source": [
    "#### Evolución de los canales para visitas de usuarios no nuevos"
   ]
  },
  {
   "cell_type": "code",
   "execution_count": null,
   "metadata": {},
   "outputs": [],
   "source": [
    "evolucion_semanal = visitas\n",
    "evolucion_semanal['mes'] = evolucion_semanal['timestamp'].dt.month\n",
    "evolucion_semanal = evolucion_semanal[evolucion_semanal['new_vs_returning'] == 'Returning']\n",
    "\n",
    "evolucion_semanal = pd.crosstab(evolucion_semanal['mes'], evolucion_semanal['channel'])\n",
    "evolucion_semanal = evolucion_semanal.div(evolucion_semanal.sum(axis=1), axis=0).multiply(100)\n",
    "\n",
    "ax = evolucion_semanal.plot(kind = 'area')\n",
    "ax.legend(loc='center left', bbox_to_anchor=(1.0, 0.5))\n",
    "ax.set(xlabel='Mes', ylabel='Porcentaje', title = 'Proporcion de visitas usuarios no nuevos por channel')"
   ]
  },
  {
   "cell_type": "markdown",
   "metadata": {},
   "source": [
    "Vemos un aumento en proporcion del canal pago y una disminucion del canal directo a lo largo del tiempo."
   ]
  },
  {
   "cell_type": "markdown",
   "metadata": {},
   "source": [
    "Ahora tomaremos solo un metodo predominante de acceso al sitio por usuario, para usarios no nuevos"
   ]
  },
  {
   "cell_type": "code",
   "execution_count": null,
   "metadata": {},
   "outputs": [],
   "source": [
    "valores = visitas[visitas['new_vs_returning'] == 'Returning'].groupby('person')['channel'].value_counts()\n",
    "valores = valores.reset_index(level='channel', name='Counts')\n",
    "valores = valores[~valores.index.duplicated(keep='first')]['channel'].value_counts()\n",
    "                  \n",
    "ax = valores.plot(kind = 'bar', color=[colors.get(i) for i in valores.index])\n",
    "ax.set_title('Canal predominante de ingreso al sitio para usuarios no nuevos')\n",
    "ax.set_ylabel('Cantidad de usuarios')\n",
    "ax.set_xlabel('Evento predominante')\n",
    "plt.xticks(rotation=0)\n",
    "mostrar_porcentaje_barplot(ax)"
   ]
  },
  {
   "cell_type": "code",
   "execution_count": null,
   "metadata": {},
   "outputs": [],
   "source": []
  },
  {
   "cell_type": "markdown",
   "metadata": {},
   "source": [
    "Vemos que en este caso el canal predominante de ingreso al sitio para usuarios no nuevos sigue siendo el canal pago, aunque con menor proporcion que para usuarios nuevos. El ingreso mediante \"referrals\" de otros sitios queda en segundo lugar, teniendo una proporcion mucho mayor que para usuarios nuevos."
   ]
  },
  {
   "cell_type": "markdown",
   "metadata": {},
   "source": [
    "## Los usuarios que hicieron checkout. ¿Concretaron la conversión?"
   ]
  },
  {
   "cell_type": "code",
   "execution_count": null,
   "metadata": {},
   "outputs": [],
   "source": [
    "checkouts = df.loc[df['event'] == 'checkout',[\"sku\",\"timestamp\",\"person\",\"model\",\"condition\",\"storage\",\"color\"]]\n",
    "conversiones = df.loc[df['event'] == 'conversion',[\"sku\",\"timestamp\",\"person\",\"model\",\"condition\",\"storage\",\"color\"]]"
   ]
  },
  {
   "cell_type": "markdown",
   "metadata": {},
   "source": [
    "### Observemos la evolución de los checkouts en el tiempo"
   ]
  },
  {
   "cell_type": "code",
   "execution_count": null,
   "metadata": {},
   "outputs": [],
   "source": [
    "checkouts_by_day = df.loc[df['event'] == 'checkout',[\"timestamp\"]]\n",
    "checkouts_by_day[\"Fecha\"] = checkouts_by_day[\"timestamp\"].dt.date\n",
    "checkouts_by_day[\"Semana\"] = checkouts_by_day[\"timestamp\"].dt.week\n",
    "checkouts_by_day.drop(\"timestamp\", axis=1, inplace= True)\n",
    "checkouts_by_day[\"Checkouts\"] = 1\n",
    "\n",
    "checkouts_by_week = checkouts_by_day.groupby(by=\"Semana\").agg({\"Fecha\": \"first\", \"Checkouts\": \"count\"})#.set_index('Fecha')\n",
    "checkouts_by_week = checkouts_by_week.iloc[0:-1] # elimino la ultima semana porque quedo con menos de 7 dias\n",
    "checkouts_by_day = checkouts_by_day.groupby(by=\"Fecha\")['Checkouts'].agg(\"count\")\n",
    "\n",
    "ax = checkouts_by_week.set_index('Fecha').plot()\n",
    "ax.set(xlabel='Semana', ylabel='Cantidad de checkouts')\n",
    "ax.set_title('Checkouts semanales')"
   ]
  },
  {
   "cell_type": "markdown",
   "metadata": {},
   "source": [
    "Aparentemente, algo ocurrió a mitad de Mayo. Haciendo zoom podemos ver que el 14 comenzaron a aumentar los checkouts."
   ]
  },
  {
   "cell_type": "code",
   "execution_count": null,
   "metadata": {},
   "outputs": [],
   "source": [
    "acotado = checkouts_by_day.loc[pd.to_datetime(\"2018-05-11\").date() : pd.to_datetime(\"2018-05-18\").date()]\n",
    "\n",
    "ax = acotado.plot(marker=\".\",markersize=\"20\")\n",
    "ax.set(xlabel='Dia', ylabel='Cantidad de checkouts')\n",
    "ax.set_title('Checkouts 11/05 al 17/05')"
   ]
  },
  {
   "cell_type": "markdown",
   "metadata": {},
   "source": [
    "Ahora analicemos la evolución de las conversiones."
   ]
  },
  {
   "cell_type": "code",
   "execution_count": null,
   "metadata": {},
   "outputs": [],
   "source": [
    "conversiones_by_week = df.loc[df['event'] == 'conversion',[\"timestamp\"]]\n",
    "conversiones_by_week[\"Fecha\"] = conversiones_by_week[\"timestamp\"].dt.date\n",
    "conversiones_by_week[\"Semana\"] = conversiones_by_week[\"timestamp\"].dt.week\n",
    "conversiones_by_week.drop(\"timestamp\", axis=1, inplace= True)\n",
    "conversiones_by_week[\"Conversiones\"] = 1\n",
    "\n",
    "conversiones_by_week = conversiones_by_week.groupby(by=\"Semana\").agg({\"Fecha\": \"first\", \"Conversiones\": \"count\"})#.set_index('Fecha')\n",
    "conversiones_by_week = conversiones_by_week.iloc[0:-1]\n",
    "conversiones_by_week.set_index('Fecha').plot()"
   ]
  },
  {
   "cell_type": "markdown",
   "metadata": {},
   "source": [
    "Veamos si hay correlación entre el aumento de checkouts y las conversiones."
   ]
  },
  {
   "cell_type": "code",
   "execution_count": null,
   "metadata": {},
   "outputs": [],
   "source": [
    "fig, ax1 = plt.subplots()\n",
    "\n",
    "color = 'tab:green'\n",
    "ax1.set_xlabel('Semana')\n",
    "ax1.set_ylabel('Cantidad de checkouts', color=color)\n",
    "ax1.plot(checkouts_by_week.set_index('Fecha'), color=color)\n",
    "ax1.tick_params(axis='y', labelcolor=color)\n",
    "\n",
    "ax2 = ax1.twinx()\n",
    "\n",
    "color = 'tab:blue'\n",
    "ax2.set_ylabel('Cantidad de conversiones', color=color)\n",
    "ax2.plot(conversiones_by_week.set_index('Fecha'), color=color)\n",
    "ax2.tick_params(axis='y', labelcolor=color)\n",
    "\n",
    "fig.tight_layout()\n",
    "plt.show()"
   ]
  },
  {
   "cell_type": "markdown",
   "metadata": {},
   "source": [
    "Se observa un aumento significativo tanto de conversiones como de checkouts en la segunda semana de mayo, pero de ahi en adelante solo los checkouts siguieron aumentando mientras que las conversiones disminuyeron. Analizaremos la proporcion de conversiones sobre checkouts hasta esa semana."
   ]
  },
  {
   "cell_type": "code",
   "execution_count": null,
   "metadata": {},
   "outputs": [],
   "source": [
    "checkouts_hasta_mayo = checkouts_by_week.loc[0:18].set_index('Fecha')\n",
    "conversiones_hasta_mayo = conversiones_by_week.loc[0:18].set_index('Fecha')\n",
    "\n",
    "fig, ax1 = plt.subplots()\n",
    "\n",
    "color = 'tab:green'\n",
    "ax1.set_xlabel('Semana')\n",
    "ax1.set_ylabel('Cantidad de checkouts', color=color)\n",
    "ax1.plot(checkouts_hasta_mayo, color=color)\n",
    "ax1.tick_params(axis='y', labelcolor=color)\n",
    "\n",
    "ax2 = ax1.twinx()\n",
    "\n",
    "color = 'tab:blue'\n",
    "ax2.set_ylabel('Cantidad de conversiones', color=color)\n",
    "ax2.plot(conversiones_hasta_mayo, color=color)\n",
    "ax2.tick_params(axis='y', labelcolor=color)\n",
    "\n",
    "fig.tight_layout()\n",
    "plt.show()"
   ]
  },
  {
   "cell_type": "code",
   "execution_count": null,
   "metadata": {},
   "outputs": [],
   "source": [
    "porcentaje_conversiones_sobre_checkouts = (conversiones_by_week['Conversiones'] / checkouts_by_week['Checkouts']) * 100\n",
    "ax = porcentaje_conversiones_sobre_checkouts.plot()"
   ]
  },
  {
   "cell_type": "markdown",
   "metadata": {},
   "source": [
    "Vemos que hasta mayo la cantidad de checkouts y conversiones estaban intimamente relacionadas, representando alrededor de un 15% la cantidad de conversiones sobre la cantidad de checkouts. Debemos analizar que sucede en mayo que hace que de ahi en adelante suban los checkouts pero bajen las conversiones."
   ]
  },
  {
   "cell_type": "markdown",
   "metadata": {},
   "source": [
    "### Marcas con mas checkouts y conversiones"
   ]
  },
  {
   "cell_type": "code",
   "execution_count": null,
   "metadata": {},
   "outputs": [],
   "source": [
    "def obtener_marca(serie_de_modelo):\n",
    "    # La marca es siempre la primer palabra del modelo\n",
    "    r = []\n",
    "    for modelo in serie_de_modelo.tolist():\n",
    "        if pd.isna(modelo):\n",
    "            r.append(\"Unknown\")\n",
    "        else:\n",
    "            r.append(modelo.split()[0])\n",
    "    return r"
   ]
  },
  {
   "cell_type": "code",
   "execution_count": null,
   "metadata": {},
   "outputs": [],
   "source": [
    "checkouts[\"Marca\"] = obtener_marca(checkouts[\"model\"])\n",
    "checkouts = checkouts.loc[checkouts[\"Marca\"] != \"Unknown\"] # Remuevo datos erroneos\n",
    "checkouts[\"Checkouts\"] = 1\n",
    "checkouts_by_marca = checkouts[[\"Marca\",\"Checkouts\"]].groupby(by=[\"Marca\"]).agg(\"count\")\\\n",
    "    .sort_values(by=\"Checkouts\",ascending=False)\n",
    "checkouts_by_marca.plot(kind=\"bar\")"
   ]
  },
  {
   "cell_type": "code",
   "execution_count": null,
   "metadata": {},
   "outputs": [],
   "source": [
    "conversiones[\"Marca\"] = obtener_marca(conversiones[\"model\"])\n",
    "conversiones = conversiones.loc[conversiones[\"Marca\"] != \"Unknown\"] # Remuevo datos erroneos\n",
    "conversiones[\"Conversiones\"] = 1\n",
    "conversiones_by_marca = conversiones[[\"Marca\",\"Conversiones\"]].groupby(by=[\"Marca\"]).agg(\"count\")\\\n",
    "    .sort_values(by=\"Conversiones\",ascending=False)\n",
    "conversiones_by_marca.plot(kind=\"bar\")"
   ]
  },
  {
   "cell_type": "code",
   "execution_count": null,
   "metadata": {},
   "outputs": [],
   "source": [
    "marca_stats = conversiones_by_marca.join(checkouts_by_marca).sort_values(by=\"Checkouts\",ascending=False)\n",
    "marca_stats[\"CheckoutsSinConversion\"] = marca_stats[\"Checkouts\"] - marca_stats[\"Conversiones\"]\n",
    "marca_stats.drop(\"Checkouts\", axis=1, inplace= True)\n",
    "marca_stats.plot(kind=\"bar\",stacked=True)"
   ]
  },
  {
   "cell_type": "code",
   "execution_count": null,
   "metadata": {},
   "outputs": [],
   "source": [
    "#analizar\n",
    "pd.crosstab(checkouts['condition'],checkouts['Marca']) # hacerlo en el otro notebook"
   ]
  },
  {
   "cell_type": "markdown",
   "metadata": {},
   "source": [
    "#### Analsis de checkouts por persona"
   ]
  },
  {
   "cell_type": "code",
   "execution_count": null,
   "metadata": {},
   "outputs": [],
   "source": [
    "primer_evento_por_persona = df.loc[df['new_vs_returning']=='New',['timestamp','person']].set_index('person')\n"
   ]
  },
  {
   "cell_type": "markdown",
   "metadata": {},
   "source": [
    "Veo si existen casos de double tracking"
   ]
  },
  {
   "cell_type": "code",
   "execution_count": null,
   "metadata": {},
   "outputs": [],
   "source": [
    "def min_diferencia_tiempo(df):\n",
    "        min_diferencia=pd.to_timedelta('365 days')\n",
    "        for i in range(1,len(df)):\n",
    "            dif = df.iloc[i]-df.iloc[i-1]\n",
    "            if dif<min_diferencia:\n",
    "                min_diferencia = dif\n",
    "        return min_diferencia    \n",
    "            \n",
    "checkouts_por_persona = df.loc[df['event']=='checkout',['timestamp','person','model', 'sku']]\n",
    "duplicados = checkouts_por_persona[checkouts_por_persona.duplicated(subset=['person'], keep=False)]\n",
    "min_diferencia_checkouts = duplicados.groupby('person').agg({'timestamp':min_diferencia_tiempo}).sort_values(by='timestamp')\n",
    "min_diferencia_checkouts['menos_de_1seg'] = min_diferencia_checkouts['timestamp']<pd.to_timedelta('00:00:01')\n",
    "min_diferencia_checkouts['menos_de_1seg'].value_counts()"
   ]
  },
  {
   "cell_type": "markdown",
   "metadata": {},
   "source": [
    "Existe solo 1 caso de todos los checkouts que podría ser de double tracking, lo examino"
   ]
  },
  {
   "cell_type": "code",
   "execution_count": null,
   "metadata": {},
   "outputs": [],
   "source": [
    "min_diferencia_checkouts.loc[min_diferencia_checkouts['menos_de_1seg']==True]"
   ]
  },
  {
   "cell_type": "code",
   "execution_count": null,
   "metadata": {},
   "outputs": [],
   "source": [
    "checkouts_por_persona.loc[checkouts_por_persona['person']=='0ee73fbe']"
   ]
  },
  {
   "cell_type": "markdown",
   "metadata": {},
   "source": [
    "Los dos eventos de checkout que son en el mismo momento son de modelos distintos, por lo tanto supondremos que no es un caso de double tracking"
   ]
  },
  {
   "cell_type": "markdown",
   "metadata": {},
   "source": [
    "### Analizo la cantidad de checkouts por persona "
   ]
  },
  {
   "cell_type": "code",
   "execution_count": null,
   "metadata": {},
   "outputs": [],
   "source": [
    "checkouts_por_persona['checkouts'] = 1\n",
    "checkouts_por_persona[\"marca\"] = obtener_marca(checkouts_por_persona[\"model\"])\n",
    "for marca in ['Samsung','iPhone','Motorola','LG','Lenovo','Sony','Quantum','iPad','Asus']:\n",
    "    checkouts_por_persona[marca] = checkouts_por_persona['marca'] == marca\n",
    "checkouts_por_persona.head()    \n",
    "    "
   ]
  },
  {
   "cell_type": "code",
   "execution_count": null,
   "metadata": {},
   "outputs": [],
   "source": [
    "\n",
    "cantidad_de_checkouts_por_persona = checkouts_por_persona.groupby('person').agg({'checkouts':sum,\\\n",
    "        'Samsung':sum,'iPhone':sum,'Motorola':sum,'LG':sum,'Lenovo':sum,'Sony':sum,\\\n",
    "        'Quantum':sum,'iPad':sum,'Asus':sum})\n",
    "g = cantidad_de_checkouts_por_persona['checkouts'].value_counts().plot('bar')\n",
    "g.set_title('Cantidad de checkouts por persona')\n",
    "g.set_xlabel('Cantidad de checkouts')\n",
    "g.set_ylabel('Numero de personas')"
   ]
  },
  {
   "cell_type": "code",
   "execution_count": null,
   "metadata": {},
   "outputs": [],
   "source": [
    "cant_checkouts_log=cantidad_de_checkouts_por_persona['checkouts'].value_counts().transform(lambda x: np.log(x)+1 )\n",
    "g_log = cant_checkouts_log.plot('bar')\n",
    "g_log.set_title('Cantidad de checkouts por persona [Log]')\n",
    "g_log.set_xlabel('Cantidad de checkouts')\n",
    "g_log.set_ylabel('Cantidad de personas')"
   ]
  },
  {
   "cell_type": "markdown",
   "metadata": {},
   "source": [
    "#### Verifico si los distintos checkouts son sobre los mismos modelos"
   ]
  },
  {
   "cell_type": "code",
   "execution_count": null,
   "metadata": {},
   "outputs": [],
   "source": [
    "a = checkouts_por_persona.groupby('person').agg({'model':'nunique','checkouts':'count'})\n",
    "g = a.groupby('checkouts').agg({'model':'mean'}).plot(kind='bar',alpha=0.5)\n",
    "#a.sort_values(by=['checkouts','model'], ascending = [False,False]).iloc[:100].plot(kind='line',alpha=0.5)\n",
    "a.loc[a['checkouts']==24]\n",
    "g.set_title('Promedio de modelos dintintos x cantidad de checkouts')\n",
    "g.set_xlabel('Número de checkouts')\n",
    "g.set_ylabel('Número de modelos distintos vistos')\n",
    "g.legend('')"
   ]
  },
  {
   "cell_type": "markdown",
   "metadata": {},
   "source": [
    "#### Hago un analisis de las marcas que mas se aparecen en funcion de la cantidad de checkouts que hizo cada cliente"
   ]
  },
  {
   "cell_type": "code",
   "execution_count": null,
   "metadata": {},
   "outputs": [],
   "source": [
    "multiples = cantidad_de_checkouts_por_persona.loc[cantidad_de_checkouts_por_persona['checkouts']>1]\n",
    "\n",
    "my_colors = [\"#1f77b4\", \"#ff7f0e\", \"#2ca02c\", \"#d62728\", \"#9467bd\", \"#8c564b\", \"#e377c2\", \"#bcbd22\", \"#17becf\"]  \n",
    "g = multiples.groupby('checkouts').agg({'Samsung':sum,'iPhone':sum,'Motorola':sum,'LG':sum,'Lenovo':sum,\\\n",
    "        'Sony':sum,'Quantum':sum,'iPad':sum,'Asus':sum}).iloc[:,:5].plot(kind='line',color = my_colors)\n",
    "g.set_title('Distribucion de las marcas en funcion de la cantidad de checkouts por persona')\n",
    "g.set_xlabel('Cantidad de checkouts')\n",
    "g.set_ylabel('Cantidad de apariciones')\n"
   ]
  },
  {
   "cell_type": "markdown",
   "metadata": {},
   "source": [
    "#### Hago un analisis de los productos visitados\n"
   ]
  },
  {
   "cell_type": "code",
   "execution_count": null,
   "metadata": {},
   "outputs": [],
   "source": [
    "productos_visitados = df.loc[df['event']=='viewed product',['timestamp','person','sku','model','condition']]\n"
   ]
  },
  {
   "cell_type": "code",
   "execution_count": null,
   "metadata": {},
   "outputs": [],
   "source": [
    "productos_visitados = df.loc[df['event']=='viewed product',['person','sku','model','condition']]\n",
    "productos_visitados['visita'] = 1\n",
    "cant_productos_visitados = productos_visitados.groupby('person').agg({'visita':'count'})['visita'].value_counts()\n"
   ]
  },
  {
   "cell_type": "code",
   "execution_count": null,
   "metadata": {},
   "outputs": [],
   "source": [
    "cant_productos_visitados = productos_visitados.groupby('person').agg({'visita':'count'})\n",
    "g = cant_productos_visitados ['visita']\\\n",
    "    .transform(lambda x: np.log(x)+1 ).plot('hist',alpha=0.75, bins= 20)\n",
    "g.set_title('Histograma de Viewed Product | Productos visitados [Log] ')\n",
    "g.set_xlabel('Cantidad de productos visitados')"
   ]
  },
  {
   "cell_type": "code",
   "execution_count": null,
   "metadata": {},
   "outputs": [],
   "source": [
    "merged = pd.merge(cant_productos_visitados, cantidad_de_checkouts_por_persona, on='person', how='left')\n",
    "# Estamos sacando aquellas personas que fueron directo al checkout (mediante publicidad) sin observar productos\n",
    "\n",
    "g = merged[[\"visita\",\"checkouts\"]].transform(lambda x: np.log(x)+1 ).plot(kind='hist',alpha=0.80,bins = 10, color =[\"#ff7f0e\",\"#2ca02c\"])\n",
    "#merged[[\"checkouts\",\"visita\"]].plot(kind='bar', stacked=True)\n",
    "g.set_title('Frecuencia de Checkouts x Producto Visitado [Log]')"
   ]
  },
  {
   "cell_type": "code",
   "execution_count": null,
   "metadata": {},
   "outputs": [],
   "source": []
  },
  {
   "cell_type": "code",
   "execution_count": null,
   "metadata": {},
   "outputs": [],
   "source": []
  },
  {
   "cell_type": "code",
   "execution_count": null,
   "metadata": {},
   "outputs": [],
   "source": []
  },
  {
   "cell_type": "code",
   "execution_count": null,
   "metadata": {},
   "outputs": [],
   "source": []
  }
 ],
 "metadata": {
  "kernelspec": {
   "display_name": "Python 3",
   "language": "python",
   "name": "python3"
  },
  "language_info": {
   "codemirror_mode": {
    "name": "ipython",
    "version": 3
   },
   "file_extension": ".py",
   "mimetype": "text/x-python",
   "name": "python",
   "nbconvert_exporter": "python",
   "pygments_lexer": "ipython3",
   "version": "3.6.5"
  }
 },
 "nbformat": 4,
 "nbformat_minor": 2
}
