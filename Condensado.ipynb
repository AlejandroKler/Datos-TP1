{
 "cells": [
  {
   "cell_type": "markdown",
   "metadata": {},
   "source": [
    "### Configuracion inicial"
   ]
  },
  {
   "cell_type": "code",
   "execution_count": null,
   "metadata": {},
   "outputs": [],
   "source": [
    "#Importo librerias\n",
    "import pandas as pd\n",
    "import numpy as np\n",
    "import matplotlib.pyplot as plt\n",
    "import seaborn as sns\n",
    "from matplotlib.ticker import ScalarFormatter"
   ]
  },
  {
   "cell_type": "code",
   "execution_count": null,
   "metadata": {},
   "outputs": [],
   "source": [
    "%matplotlib inline\n",
    "plt.style.use('default')\n",
    "sns.set()"
   ]
  },
  {
   "cell_type": "code",
   "execution_count": null,
   "metadata": {},
   "outputs": [],
   "source": [
    "#Funciones auxiliares\n",
    "def mostrar_porcentaje_barplot(ax):\n",
    "    suma = 0\n",
    "    for p in ax.patches:\n",
    "        suma += p.get_height()\n",
    "    for p in ax.patches:\n",
    "        ax.annotate(str(np.round(100 *(p.get_height() / suma),decimals=2)) + \"%\", (p.get_x()+p.get_width()/2., p.get_height()), ha='center', va='center', xytext=(0, 10), textcoords='offset points')\n",
    "def mostrar_valores_barplot(ax):\n",
    "    for p in ax.patches:\n",
    "        ax.annotate(np.round(p.get_height(),decimals=2), (p.get_x()+p.get_width()/2., p.get_height()), ha='center', va='center', xytext=(0, 10), textcoords='offset points')"
   ]
  },
  {
   "cell_type": "code",
   "execution_count": null,
   "metadata": {},
   "outputs": [],
   "source": [
    "#Cargo el DataFrame\n",
    "df = pd.read_csv('events.csv', low_memory = False, parse_dates = ['timestamp'], infer_datetime_format = True,\n",
    "                    dtype = {'event': 'category','condition': 'category','storage': 'category', 'color': 'category', 'staticpage': 'category', 'campaign_source': 'category', 'search_engine': 'category', 'channel': 'category', 'new_vs_returning': 'category', 'region': 'category', 'country': 'category', 'device_type': 'category'})\n",
    "df.head()"
   ]
  },
  {
   "cell_type": "markdown",
   "metadata": {},
   "source": [
    "## Chequeos de integridad y calidad de los datos\n"
   ]
  },
  {
   "cell_type": "code",
   "execution_count": null,
   "metadata": {},
   "outputs": [],
   "source": [
    "df.info()"
   ]
  },
  {
   "cell_type": "markdown",
   "metadata": {},
   "source": [
    "Como podemos ver, todas las filas especifican 'timestamp', 'event' y 'person'"
   ]
  },
  {
   "cell_type": "markdown",
   "metadata": {},
   "source": [
    "### Analizamos los valores que pueden tomar las columnas categoricas"
   ]
  },
  {
   "cell_type": "code",
   "execution_count": null,
   "metadata": {},
   "outputs": [],
   "source": [
    "valores = df['condition'].unique()\n",
    "for valor in valores:\n",
    "    print(valor, end = ', ')"
   ]
  },
  {
   "cell_type": "code",
   "execution_count": null,
   "metadata": {},
   "outputs": [],
   "source": [
    "valores = df['storage'].unique()\n",
    "for valor in valores:\n",
    "    print(valor, end = ', ')"
   ]
  },
  {
   "cell_type": "code",
   "execution_count": null,
   "metadata": {},
   "outputs": [],
   "source": [
    "valores = df['channel'].unique()\n",
    "for valor in valores:\n",
    "    print(valor, end = ', ')"
   ]
  },
  {
   "cell_type": "code",
   "execution_count": null,
   "metadata": {},
   "outputs": [],
   "source": [
    "valores = df['staticpage'].unique()\n",
    "for valor in valores:\n",
    "    print(valor, end = ', ')"
   ]
  },
  {
   "cell_type": "markdown",
   "metadata": {},
   "source": [
    "## Analisis tipos de evento"
   ]
  },
  {
   "cell_type": "code",
   "execution_count": null,
   "metadata": {},
   "outputs": [],
   "source": [
    "colUsadasEventos = df.groupby(by = 'event').count()\n",
    "colUsadasEventos"
   ]
  },
  {
   "cell_type": "code",
   "execution_count": null,
   "metadata": {},
   "outputs": [],
   "source": [
    "columns = list(df)\n",
    "for event, row in colUsadasEventos.iterrows():\n",
    "    print(event, end = ':')\n",
    "    \n",
    "    for column in columns:\n",
    "        if(row.get(column) != 0):\n",
    "            print(' ' + column, end = ',')\n",
    "            \n",
    "    print()"
   ]
  },
  {
   "cell_type": "markdown",
   "metadata": {},
   "source": [
    "## Columnas usadas por cada evento\n",
    "\n",
    "Todos los eventos contienen informacion sobre **'timestamp'**, **'event'** y **'person'**, y ademas utilizan las siguientes columnas:\n",
    "\n",
    "**ad campaign hit:**\n",
    "    url, campaign_source\n",
    "\n",
    "**brand listing:**\n",
    "    skus\n",
    "\n",
    "**checkout:** \n",
    "    sku, model, condition, storage, color\n",
    "\n",
    "**conversion:**\n",
    "    sku, model, condition, storage, color\n",
    "\n",
    "**generic listing:**\n",
    "    skus\n",
    "\n",
    "**lead:**\n",
    "    model\n",
    "\n",
    "**search engine hit:** \n",
    "    search_engine\n",
    "\n",
    "**searched products:** \n",
    "    skus, search_term\n",
    "\n",
    "**staticpage:** \n",
    "    staticpage\n",
    "\n",
    "**viewed product:** \n",
    "    sku, model, condition, storage, color\n",
    "\n",
    "**visited site:** \n",
    "    channel, new_vs_returning, city, region, country, device_type, screen_resolution, operating_system_version, browser_version\n"
   ]
  },
  {
   "cell_type": "markdown",
   "metadata": {},
   "source": [
    "### Captacion de usuarios"
   ]
  },
  {
   "cell_type": "code",
   "execution_count": null,
   "metadata": {},
   "outputs": [],
   "source": [
    "personas_new_ret = df.loc[df[\"event\"] == \"visited site\", ['person', 'new_vs_returning']]\n",
    "personas_new_ret['returning_hits'] = personas_new_ret['new_vs_returning'] == 'Returning'\n",
    "personas_new_ret.drop(columns='new_vs_returning', inplace=True)\n",
    "personas_new_ret.head()"
   ]
  },
  {
   "cell_type": "code",
   "execution_count": null,
   "metadata": {},
   "outputs": [],
   "source": [
    "personas_ret_hits = personas_new_ret.groupby(by = 'person').agg({'returning_hits': np.count_nonzero})\n",
    "personas_ret_hits.head(10)"
   ]
  },
  {
   "cell_type": "code",
   "execution_count": null,
   "metadata": {},
   "outputs": [],
   "source": [
    "x = personas_ret_hits['returning_hits']\n",
    "x.value_counts().head(10)"
   ]
  },
  {
   "cell_type": "code",
   "execution_count": null,
   "metadata": {},
   "outputs": [],
   "source": [
    "ax = x.hist(bins = 50)\n",
    "ax.set_yscale('log')\n",
    "ax.set_title('Cantidad de usuarios según returning_hits')\n",
    "ax.set_xlabel('Cantidad de returning_hits')"
   ]
  },
  {
   "cell_type": "markdown",
   "metadata": {},
   "source": [
    "La mayoría de los usuarios ingresa al sitio una única vez"
   ]
  },
  {
   "cell_type": "code",
   "execution_count": null,
   "metadata": {},
   "outputs": [],
   "source": [
    "cant_returns = x.value_counts()\n",
    "cero_returns = cant_returns[0]\n",
    "uno_diez_returns = cant_returns[1:11].values.sum()\n",
    "diez_mas_returns = cant_returns[11:].values.sum()\n",
    "datos_returns = [cero_returns, uno_diez_returns, diez_mas_returns]\n",
    "x_labels = ['1', '2 - 10', '10+']\n",
    "ax = sns.barplot(x = x_labels, y = datos_returns)\n",
    "ax.set(xlabel='Cantidad de visitas al sitio', ylabel='Cantidad de Usuarios', title = 'Cantidad de usuarios segun veces que visitaron el sitio')"
   ]
  },
  {
   "cell_type": "markdown",
   "metadata": {},
   "source": [
    "La mayoria de los usuarios visita el sitio una única vez, mientras que solo una pequeña proporción volvió al sitio mas de 10 veces. Es posible que un mismo usuario entre desde dispositivos diferentes."
   ]
  },
  {
   "cell_type": "markdown",
   "metadata": {},
   "source": [
    "## Analisis temporal"
   ]
  },
  {
   "cell_type": "code",
   "execution_count": null,
   "metadata": {},
   "outputs": [],
   "source": [
    "#Analizamos periodo de los datos\n",
    "df['timestamp'].dt.year.value_counts()"
   ]
  },
  {
   "cell_type": "markdown",
   "metadata": {},
   "source": [
    "Todos los datos son de 2018"
   ]
  },
  {
   "cell_type": "code",
   "execution_count": null,
   "metadata": {},
   "outputs": [],
   "source": [
    "df['timestamp'].dt.month_name().value_counts()"
   ]
  },
  {
   "cell_type": "markdown",
   "metadata": {},
   "source": [
    "De los primeros dos trimestres del año"
   ]
  },
  {
   "cell_type": "code",
   "execution_count": null,
   "metadata": {},
   "outputs": [],
   "source": [
    "#Vamos a hacer un analisis sobre los dias en los que se produjeron los eventos\n",
    "dias_semana = df['timestamp'].dt.weekday_name\n",
    "dias_ordenados = ['Monday', 'Tuesday', 'Wednesday', 'Thursday', 'Friday', 'Saturday', 'Sunday']\n",
    "dias_semana = pd.Categorical(dias_semana, categories = dias_ordenados, ordered = True)\n",
    "g = dias_semana.value_counts().plot('bar', figsize = (9, 5))\n",
    "g.set_title('Cantidad de eventos por dia de la semana')\n",
    "g.set_xticklabels(['Lunes', 'Martes', 'Miercoles', 'Jueves', 'Viernes', 'Sabado', 'Domingo'])\n",
    "plt.xticks(rotation = 'horizontal')"
   ]
  },
  {
   "cell_type": "markdown",
   "metadata": {},
   "source": [
    "Vemos que durante el fin de semana el trafico es menor"
   ]
  },
  {
   "cell_type": "code",
   "execution_count": null,
   "metadata": {},
   "outputs": [],
   "source": [
    "tiempo_eventos = pd.DataFrame()\n",
    "tiempo_eventos['event'] = df['event']\n",
    "tiempo_eventos['dia_semana'] = df['timestamp'].dt.weekday_name\n",
    "tiempo_eventos['dia'] = df['timestamp'].dt.day\n",
    "tiempo_eventos['hora'] = df['timestamp'].dt.hour\n",
    "tiempo_eventos['mes'] = df['timestamp'].dt.month_name()\n",
    "\n",
    "#hora_weekday_organic = tiempo_eventos[tiempo_eventos['channel'] == 'organic'].groupby('dia_semana')['hora'].value_counts().to_frame()\n",
    "#hora_weekday_paid = tiempo_eventos[tiempo_eventos['channel'] == 'paid'].groupby('dia_semana')['hora'].value_counts().to_frame()\n",
    "\n",
    "hora_weekday_visitas = tiempo_eventos[tiempo_eventos['event'] == 'visited site'].groupby('dia_semana')['hora'].value_counts().to_frame()\n",
    "hora_weekday_visitas = hora_weekday_visitas.rename(columns = {'hora':'cant_casos'})\n",
    "hora_weekday_visitas = hora_weekday_visitas.reset_index('hora')\n",
    "hora_weekday_visitas.index = pd.CategoricalIndex(hora_weekday_visitas.index, categories= dias_ordenados)\n",
    "hora_weekday_visitas.sort_index(level=0, inplace=True)\n",
    "hora_weekday_visitas = hora_weekday_visitas.reset_index()\n",
    "\n",
    "dia_mes_visitas = tiempo_eventos[tiempo_eventos['event'] == 'visited site'].groupby('mes')['dia'].value_counts().to_frame()\n",
    "dia_mes_visitas = dia_mes_visitas.rename(columns = {'dia':'cant_casos'})\n",
    "dia_mes_visitas = dia_mes_visitas.reset_index('dia')\n",
    "dia_mes_visitas.index = pd.CategoricalIndex(dia_mes_visitas.index, categories= ['January', 'February', 'March', 'April', 'May', 'June'])\n",
    "dia_mes_visitas.sort_index(level=0, inplace=True)\n",
    "dia_mes_visitas = dia_mes_visitas.reset_index()"
   ]
  },
  {
   "cell_type": "code",
   "execution_count": null,
   "metadata": {},
   "outputs": [],
   "source": [
    "pivot = hora_weekday_visitas.pivot_table(index = 'dia_semana', columns = 'hora', values = 'cant_casos')\n",
    "cmap = sns.cm.rocket_r\n",
    "sns.set(rc={'figure.figsize':(13,4)})\n",
    "ax = sns.heatmap(data = pivot, cmap = cmap)\n",
    "ax.set(xlabel='Hora', ylabel='', title = 'Visitas segun hora del dia')\n",
    "ax.set_yticklabels(['Lunes', 'Martes', 'Miercoles', 'Jueves', 'Viernes', 'Sabado', 'Domingo'])"
   ]
  },
  {
   "cell_type": "markdown",
   "metadata": {},
   "source": [
    "Durante el fin de semana la cantidad de visitas es menor, mientras que la mayoria de las visitas se realizan entre las 12 y las 2"
   ]
  },
  {
   "cell_type": "code",
   "execution_count": null,
   "metadata": {},
   "outputs": [],
   "source": [
    "pivot = dia_mes_visitas.pivot_table(index = 'dia', columns = 'mes', values = 'cant_casos')\n",
    "cmap = sns.cm.rocket_r\n",
    "sns.set(rc={'figure.figsize':(12,12)})\n",
    "ax = sns.heatmap(data = pivot, cmap = cmap, annot = True, fmt=\".0f\")\n",
    "ax.set(xlabel='Mes', ylabel='Dia', title = 'Visitas 2018')\n",
    "ax.set_xticklabels(['Enero','Febrero','Marzo','Abril','Mayo','Junio'])"
   ]
  },
  {
   "cell_type": "markdown",
   "metadata": {},
   "source": [
    "Las visitas crecieron aceleradamente a lo largo del año, logrando un despegue a partir de mayo. Analizaremos las causas de esto mas adelante"
   ]
  },
  {
   "cell_type": "code",
   "execution_count": null,
   "metadata": {},
   "outputs": [],
   "source": [
    "usuarios_semanal = df.loc[df['event'] == 'visited site', ['timestamp', 'person']].copy()\n",
    "usuarios_semanal['semana'] = usuarios_semanal['timestamp'].dt.week - 1\n",
    "usuarios_semanal = usuarios_semanal.drop_duplicates(subset = ['semana', 'person'])\n",
    "usuarios_semanal = usuarios_semanal[usuarios_semanal['semana'] != usuarios_semanal['semana'].max()] #Borro la ultima semana incompleta\n",
    "usuarios_semanal['semana'] = pd.to_datetime('2018', format='%Y') + pd.to_timedelta(usuarios_semanal['semana'].mul(7).astype('str') + ' days')\n",
    "\n",
    "semanas = usuarios_semanal['semana'].value_counts().to_frame().sort_index()\n",
    "ax = semanas['semana'].plot()\n",
    "ax.set(xlabel='Semana', ylabel='Usuarios unicos')\n",
    "ax.set_title('Usuarios unicos semanales')"
   ]
  },
  {
   "cell_type": "code",
   "execution_count": null,
   "metadata": {},
   "outputs": [],
   "source": [
    "usuarios_semanal = df.loc[df['new_vs_returning'] == 'Returning', ['timestamp']].copy()\n",
    "usuarios_semanal['semana'] = usuarios_semanal['timestamp'].dt.week - 1\n",
    "usuarios_semanal = usuarios_semanal[usuarios_semanal['semana'] != usuarios_semanal['semana'].max()] #Borro la ultima semana incompleta\n",
    "usuarios_semanal['semana'] = pd.to_datetime('2018', format='%Y') + pd.to_timedelta(usuarios_semanal['semana'].mul(7).astype('str') + ' days')\n",
    "\n",
    "semanas = usuarios_semanal['semana'].value_counts().to_frame().sort_index()\n",
    "ax = semanas['semana'].plot()\n",
    "ax.set(xlabel='Semana', ylabel='Usuarios nuevos')\n",
    "ax.set_title('Usuarios nuevos semanales')"
   ]
  },
  {
   "cell_type": "markdown",
   "metadata": {},
   "source": [
    "La cantidad de usuarios nuevos que visitan el sitio disminuye a partir de la segunda semana de mayo"
   ]
  },
  {
   "cell_type": "markdown",
   "metadata": {},
   "source": [
    "## Origen de las visitas"
   ]
  },
  {
   "cell_type": "code",
   "execution_count": null,
   "metadata": {},
   "outputs": [],
   "source": [
    "visitas = df.loc[df[\"event\"] == \"visited site\", ['timestamp', 'person', 'channel', 'new_vs_returning', 'city', 'region', 'country', 'device_type', 'screen_resolution', 'operating_system_version', 'browser_version']]\n",
    "colors = {'Paid': 'navy', 'Direct': 'g', 'Organic': 'coral', 'Referral': 'm', 'Social': 'goldenrod', 'Email': 'k', 'Unknown': 'grey'}"
   ]
  },
  {
   "cell_type": "code",
   "execution_count": null,
   "metadata": {},
   "outputs": [],
   "source": [
    "valores = visitas['channel'].value_counts()\n",
    "ax = valores.plot(kind = 'bar', color=[colors.get(i) for i in valores.index])\n",
    "ax.set_title('Origen de las visitas')\n",
    "ax.set_ylabel('Cantidad')\n",
    "ax.set_xlabel('Channel')\n",
    "plt.xticks(rotation=0)\n",
    "mostrar_porcentaje_barplot(ax)"
   ]
  },
  {
   "cell_type": "markdown",
   "metadata": {},
   "source": [
    "### Origen de usuarios nuevos"
   ]
  },
  {
   "cell_type": "code",
   "execution_count": null,
   "metadata": {},
   "outputs": [],
   "source": [
    "valores = visitas[visitas['new_vs_returning'] == 'New']['channel'].value_counts()\n",
    "ax = valores.plot(kind = 'bar', color=[colors.get(i) for i in valores.index])\n",
    "ax.set_title('Origen de las visitas de usuarios nuevos')\n",
    "ax.set_ylabel('Cantidad')\n",
    "ax.set_xlabel('Channel')\n",
    "plt.xticks(rotation=0)\n",
    "mostrar_porcentaje_barplot(ax)"
   ]
  },
  {
   "cell_type": "markdown",
   "metadata": {},
   "source": [
    "#### Evolucion canales a lo largo del tiempo para usuarios nuevos"
   ]
  },
  {
   "cell_type": "code",
   "execution_count": null,
   "metadata": {},
   "outputs": [],
   "source": [
    "evolucion_semanal = visitas.copy()\n",
    "evolucion_semanal['mes'] = evolucion_semanal['timestamp'].dt.month\n",
    "evolucion_semanal = evolucion_semanal[evolucion_semanal['new_vs_returning'] == 'New']\n",
    "\n",
    "evolucion_semanal = pd.crosstab(evolucion_semanal['mes'], evolucion_semanal['channel'])\n",
    "evolucion_semanal = evolucion_semanal.div(evolucion_semanal.sum(axis=1), axis=0).multiply(100)\n",
    "\n",
    "ax = evolucion_semanal.plot(kind = 'area', figsize = (10,7))\n",
    "ax.legend(loc='center left', bbox_to_anchor=(1.0, 0.5))\n",
    "ax.set(xlabel='Mes', ylabel='Porcentaje', title = 'Proporcion de visitas usuarios nuevos por channel')"
   ]
  },
  {
   "cell_type": "markdown",
   "metadata": {},
   "source": [
    "Vemos que los porcentajes se mantienen mas o menos constantes a lo largo del tiempo"
   ]
  },
  {
   "cell_type": "markdown",
   "metadata": {},
   "source": [
    "### Origen usuarios no nuevos"
   ]
  },
  {
   "cell_type": "code",
   "execution_count": null,
   "metadata": {},
   "outputs": [],
   "source": [
    "valores = visitas[visitas['new_vs_returning'] == 'Returning']['channel'].value_counts()\n",
    "ax = valores.plot(kind = 'bar', color=[colors.get(i) for i in valores.index])\n",
    "ax.set_title('Origen de las visitas de usuarios no nuevos')\n",
    "ax.set_ylabel('Cantidad')\n",
    "ax.set_xlabel('Channel')\n",
    "plt.xticks(rotation=0)\n",
    "mostrar_porcentaje_barplot(ax)"
   ]
  },
  {
   "cell_type": "markdown",
   "metadata": {},
   "source": [
    "Vemos que el canal pago es el que mas visitas atrae, no solo para usuarios nuevos sino tambien para usuarios que ya habian entrado al sitio. Por otro lado, se puede ver como el canal \"Direct\" (tipeado de URL, acceso mediante favoritos y similares) toma protagonismo para visitas de usuarios que ya conocen el sitio. Pero esto puede ser causado por un pequeño numero de usuarios que visitan repetidas veces el sitio"
   ]
  },
  {
   "cell_type": "markdown",
   "metadata": {},
   "source": [
    "#### Evolución de los canales para visitas de usuarios no nuevos"
   ]
  },
  {
   "cell_type": "code",
   "execution_count": null,
   "metadata": {},
   "outputs": [],
   "source": [
    "evolucion_semanal = visitas\n",
    "evolucion_semanal['mes'] = evolucion_semanal['timestamp'].dt.month\n",
    "evolucion_semanal = evolucion_semanal[evolucion_semanal['new_vs_returning'] == 'Returning']\n",
    "\n",
    "evolucion_semanal = pd.crosstab(evolucion_semanal['mes'], evolucion_semanal['channel'])\n",
    "evolucion_semanal = evolucion_semanal.div(evolucion_semanal.sum(axis=1), axis=0).multiply(100)\n",
    "\n",
    "sns.set(rc={'figure.figsize':(12,12)})\n",
    "ax = evolucion_semanal.plot(kind = 'area')\n",
    "ax.legend(loc='center left', bbox_to_anchor=(1.0, 0.5))\n",
    "ax.set(xlabel='Mes', ylabel='Porcentaje', title = 'Proporcion de visitas usuarios no nuevos por channel')"
   ]
  },
  {
   "cell_type": "markdown",
   "metadata": {},
   "source": [
    "Vemos un aumento en proporcion del canal pago y una disminucion del canal directo a lo largo del tiempo."
   ]
  },
  {
   "cell_type": "markdown",
   "metadata": {},
   "source": [
    "Ahora tomaremos solo un metodo predominante de acceso al sitio por usuario, para usarios no nuevos"
   ]
  },
  {
   "cell_type": "code",
   "execution_count": null,
   "metadata": {},
   "outputs": [],
   "source": [
    "valores = visitas[visitas['new_vs_returning'] == 'Returning'].groupby('person')['channel'].value_counts()\n",
    "valores = valores.reset_index(level='channel', name='Counts')\n",
    "valores = valores[~valores.index.duplicated(keep='first')]['channel'].value_counts()\n",
    "                  \n",
    "ax = valores.plot(kind = 'bar', color=[colors.get(i) for i in valores.index])\n",
    "ax.set_title('Canal predominante de ingreso al sitio para usuarios no nuevos')\n",
    "ax.set_ylabel('Cantidad de usuarios')\n",
    "ax.set_xlabel('Evento predominante')\n",
    "plt.xticks(rotation=0)\n",
    "mostrar_porcentaje_barplot(ax)"
   ]
  },
  {
   "cell_type": "markdown",
   "metadata": {},
   "source": [
    "Vemos que en este caso el canal predominante de ingreso al sitio para usuarios no nuevos sigue siendo el canal pago, aunque con menor proporcion que para usuarios nuevos. El ingreso mediante \"referrals\" de otros sitios queda en segundo lugar, teniendo una proporcion mucho mayor que para usuarios nuevos."
   ]
  },
  {
   "cell_type": "markdown",
   "metadata": {},
   "source": [
    "## Los usuarios que hicieron checkout. ¿Concretaron la conversión?"
   ]
  },
  {
   "cell_type": "markdown",
   "metadata": {},
   "source": [
    "Obtenemos la información del set de datos"
   ]
  },
  {
   "cell_type": "code",
   "execution_count": null,
   "metadata": {},
   "outputs": [],
   "source": [
    "checkouts = df.loc[df['event'] == 'checkout',[\"sku\",\"timestamp\",\"person\",\"model\",\"condition\",\"storage\",\"color\"]]\n",
    "conversiones = df.loc[df['event'] == 'conversion',[\"sku\",\"timestamp\",\"person\",\"model\",\"condition\",\"storage\",\"color\"]]"
   ]
  },
  {
   "cell_type": "markdown",
   "metadata": {},
   "source": [
    "### Observemos la evolución de los checkouts en el tiempo"
   ]
  },
  {
   "cell_type": "code",
   "execution_count": null,
   "metadata": {},
   "outputs": [],
   "source": [
    "checkouts_by_week = checkouts.loc[:, ['timestamp']]\n",
    "checkouts_by_week['semana'] = checkouts_by_week['timestamp'].dt.week - 1\n",
    "checkouts_by_week = checkouts_by_week[checkouts_by_week['semana'] != checkouts_by_week['semana'].max()] #Borro la ultima semana incompleta\n",
    "checkouts_by_week['semana'] = pd.to_datetime('2018', format='%Y') + pd.to_timedelta(checkouts_by_week['semana'].mul(7).astype('str') + ' days')\n",
    "\n",
    "checkouts_weeks = checkouts_by_week['semana'].value_counts().to_frame().sort_index()\n",
    "ax = checkouts_weeks.plot(figsize=(8,5))\n",
    "ax.set(xlabel='Semana', ylabel='Cantidad de checkouts')\n",
    "ax.set_title('Checkouts semanales')"
   ]
  },
  {
   "cell_type": "markdown",
   "metadata": {},
   "source": [
    "Aparentemente, algo ocurrió a mitad de Mayo. Haciendo zoom podemos ver que el 14 comenzaron a aumentar los checkouts."
   ]
  },
  {
   "cell_type": "code",
   "execution_count": null,
   "metadata": {},
   "outputs": [],
   "source": [
    "acotado = checkouts.loc[(checkouts['timestamp'] > pd.to_datetime(\"2018-05-11\")) & (checkouts['timestamp'] < pd.to_datetime(\"2018-05-18\"))].copy()\n",
    "acotado['fecha'] = acotado['timestamp'].dt.date\n",
    "\n",
    "ax = acotado['fecha'].value_counts().plot(marker=\".\",markersize=\"20\",figsize=(8,5))\n",
    "ax.set(xlabel='Dia', ylabel='Cantidad de checkouts')\n",
    "ax.set_title('Checkouts 11/05 al 17/05')"
   ]
  },
  {
   "cell_type": "markdown",
   "metadata": {},
   "source": [
    "Ahora analicemos la evolución de las conversiones."
   ]
  },
  {
   "cell_type": "code",
   "execution_count": null,
   "metadata": {},
   "outputs": [],
   "source": [
    "conversiones_by_week = conversiones.loc[:, [\"timestamp\"]]\n",
    "conversiones_by_week['semana'] = conversiones_by_week['timestamp'].dt.week - 1\n",
    "conversiones_by_week = conversiones_by_week[conversiones_by_week['semana'] != conversiones_by_week['semana'].max()] #Borro la ultima semana incompleta\n",
    "conversiones_by_week['semana'] = pd.to_datetime('2018', format='%Y') + pd.to_timedelta(conversiones_by_week['semana'].mul(7).astype('str') + ' days')\n",
    "\n",
    "conversiones_weeks = conversiones_by_week['semana'].value_counts().to_frame().sort_index()\n",
    "ax = conversiones_weeks.plot(figsize=(8,5))\n",
    "ax.set(xlabel='Semana', ylabel='Cantidad de conversiones')\n",
    "ax.set_title('Conversiones semanales')"
   ]
  },
  {
   "cell_type": "markdown",
   "metadata": {},
   "source": [
    "Veamos si hay correlación entre el aumento de checkouts y las conversiones."
   ]
  },
  {
   "cell_type": "code",
   "execution_count": null,
   "metadata": {},
   "outputs": [],
   "source": [
    "fig, ax1 = plt.subplots()\n",
    "\n",
    "color = 'tab:green'\n",
    "ax1.set_xlabel('Semana')\n",
    "ax1.set_ylabel('Cantidad de checkouts', color=color)\n",
    "ax1.plot(checkouts_weeks['semana'], color=color)\n",
    "ax1.tick_params(axis='y', labelcolor=color)\n",
    "\n",
    "ax2 = ax1.twinx()\n",
    "\n",
    "color = 'tab:blue'\n",
    "ax2.set_ylabel('Cantidad de conversiones', color=color)\n",
    "ax2.plot(conversiones_weeks['semana'], color=color)\n",
    "ax2.tick_params(axis='y', labelcolor=color)\n",
    "\n",
    "fig.tight_layout()\n",
    "plt.show()\n"
   ]
  },
  {
   "cell_type": "markdown",
   "metadata": {},
   "source": [
    "Se observa un aumento significativo tanto de conversiones como de checkouts en la segunda semana de mayo, pero de ahi en adelante solo los checkouts siguieron aumentando mientras que las conversiones disminuyeron. Analizaremos la proporcion de conversiones sobre checkouts hasta esa semana."
   ]
  },
  {
   "cell_type": "code",
   "execution_count": null,
   "metadata": {},
   "outputs": [],
   "source": [
    "checkouts_hasta_mayo = checkouts_weeks.iloc[0:18]\n",
    "conversiones_hasta_mayo = conversiones_weeks.iloc[0:18]\n",
    "\n",
    "fig, ax1 = plt.subplots(figsize=(10,5))\n",
    "\n",
    "color = 'tab:green'\n",
    "ax1.set_xlabel('Semana')\n",
    "ax1.set_ylabel('Cantidad de checkouts', color=color)\n",
    "ax1.plot(checkouts_hasta_mayo, color=color)\n",
    "ax1.tick_params(axis='y', labelcolor=color)\n",
    "\n",
    "ax2 = ax1.twinx()\n",
    "\n",
    "color = 'tab:blue'\n",
    "ax2.set_ylabel('Cantidad de conversiones', color=color)\n",
    "ax2.plot(conversiones_hasta_mayo, color=color)\n",
    "ax2.tick_params(axis='y', labelcolor=color)\n",
    "\n",
    "fig.tight_layout()\n",
    "plt.show()"
   ]
  },
  {
   "cell_type": "code",
   "execution_count": null,
   "metadata": {},
   "outputs": [],
   "source": [
    "porcentaje_conversiones_sobre_checkouts = (conversiones_weeks['semana'] / checkouts_weeks['semana']) * 100\n",
    "ax = porcentaje_conversiones_sobre_checkouts.plot(title=\"Porcentaje de conversiones sobre checkouts\")\n",
    "ax.set_ylabel(\"Porcentaje\")\n",
    "ax.set_xlabel(\"Fecha\")"
   ]
  },
  {
   "cell_type": "markdown",
   "metadata": {},
   "source": [
    "Vemos que hasta mayo la cantidad de checkouts y conversiones estaban intimamente relacionadas, representando alrededor de un 15% la cantidad de conversiones sobre la cantidad de checkouts. Debemos analizar que sucede en mayo que hace que de ahi en adelante suban los checkouts pero bajen las conversiones."
   ]
  },
  {
   "cell_type": "markdown",
   "metadata": {},
   "source": [
    "### Marcas con mas checkouts y conversiones"
   ]
  },
  {
   "cell_type": "code",
   "execution_count": null,
   "metadata": {},
   "outputs": [],
   "source": [
    "def obtener_marca(serie_de_modelo):\n",
    "    # La marca es siempre la primer palabra del modelo\n",
    "    r = []\n",
    "    for modelo in serie_de_modelo.tolist():\n",
    "        if pd.isna(modelo):\n",
    "            r.append(\"Unknown\")\n",
    "        else:\n",
    "            r.append(modelo.split()[0])\n",
    "    return r"
   ]
  },
  {
   "cell_type": "markdown",
   "metadata": {},
   "source": [
    "Analicemos los checkouts de cada marca"
   ]
  },
  {
   "cell_type": "code",
   "execution_count": null,
   "metadata": {},
   "outputs": [],
   "source": [
    "checkouts[\"Marca\"] = obtener_marca(checkouts[\"model\"])\n",
    "checkouts = checkouts.loc[checkouts[\"Marca\"] != \"Unknown\"] # Remuevo datos erroneos\n",
    "checkouts[\"Checkouts\"] = 1\n",
    "checkouts_by_marca = checkouts[[\"Marca\",\"Checkouts\"]].groupby(by=[\"Marca\"]).agg(\"count\")\\\n",
    "    .sort_values(by=\"Checkouts\",ascending=False).iloc[::-1]\n",
    "p = checkouts_by_marca.plot(kind=\"barh\",title=\"Checkouts de cada marca\",legend=False)\n",
    "p.set_ylabel(\"Marca\")\n",
    "p.set_xlabel(\"Checkouts\")"
   ]
  },
  {
   "cell_type": "markdown",
   "metadata": {},
   "source": [
    "### ¿Las conversiones mantienen la relación?"
   ]
  },
  {
   "cell_type": "code",
   "execution_count": null,
   "metadata": {},
   "outputs": [],
   "source": [
    "conversiones[\"Marca\"] = obtener_marca(conversiones[\"model\"])\n",
    "conversiones = conversiones.loc[conversiones[\"Marca\"] != \"Unknown\"] # Remuevo datos erroneos\n",
    "conversiones[\"Conversiones\"] = 1\n",
    "conversiones_by_marca = conversiones[[\"Marca\",\"Conversiones\"]].groupby(by=[\"Marca\"]).agg(\"count\")\\\n",
    "    .sort_values(by=\"Conversiones\",ascending=False).iloc[::-1]\n",
    "p = conversiones_by_marca.plot(kind=\"barh\",figsize=(9,7),fontsize=15,title=\"Conversiones de cada marca\")\n",
    "p.set_xlabel(\"Conversiones\")\n",
    "p.legend(loc=\"lower right\")\n",
    "p"
   ]
  },
  {
   "cell_type": "markdown",
   "metadata": {},
   "source": [
    "Es mejor analizar esta información de chekouts y conversiones en un mismo grafico, para poder apreciar mejor los datos."
   ]
  },
  {
   "cell_type": "code",
   "execution_count": null,
   "metadata": {},
   "outputs": [],
   "source": [
    "marca_stats = conversiones_by_marca.join(checkouts_by_marca).sort_values(by=\"Checkouts\",ascending=False)\n",
    "marca_stats[\"No concretados\"] = marca_stats[\"Checkouts\"] - marca_stats[\"Conversiones\"]\n",
    "marca_stats = marca_stats.rename(columns={'Conversiones': 'Concretados'}).iloc[::-1]\n",
    "marca_stats.drop(\"Checkouts\", axis=1, inplace= True)\n",
    "p = marca_stats.plot(kind=\"barh\",stacked=True,figsize=(9,7),fontsize=15,\\\n",
    "                 title=\"Checkouts de cada marca\")\n",
    "p.legend(loc=\"lower right\")\n",
    "p.set_xlabel(\"Checkouts\")\n",
    "p"
   ]
  },
  {
   "cell_type": "markdown",
   "metadata": {},
   "source": [
    "## ¿Cuál es la probabilidad de concretar un checkout? "
   ]
  },
  {
   "cell_type": "markdown",
   "metadata": {},
   "source": [
    "A continuación analizaremos la probabilidad que posee cada marca. Para tener un resultado fiel, filtramos aquellas marcas que tienen menos de 1000 checkouts."
   ]
  },
  {
   "cell_type": "code",
   "execution_count": null,
   "metadata": {},
   "outputs": [],
   "source": [
    "t = checkouts_by_marca.join(conversiones_by_marca)\n",
    "t = t[t[\"Checkouts\"] > 1000]\n",
    "t[\"Porcentaje\"] = (t[\"Conversiones\"] *100)/t[\"Checkouts\"]\n",
    "t[\"Porcentaje\"] = t[\"Porcentaje\"].fillna(0)\n",
    "t = t.drop(columns=[\"Conversiones\",\"Checkouts\"])\n",
    "p = t.sort_values(\"Porcentaje\")\\\n",
    "    .plot(kind=\"barh\",legend=False,title=\"Probabilidad de concretar checkouts por marca\",figsize=(8,2))\n",
    "p.set_xlabel(\"Porcentaje\")\n"
   ]
  },
  {
   "cell_type": "code",
   "execution_count": null,
   "metadata": {},
   "outputs": [],
   "source": [
    "view_products = df.loc[df[\"event\"] == \"viewed product\",[\"model\"]].copy()\n",
    "view_products[\"Marca\"] = obtener_marca(view_products[\"model\"])\n",
    "view_products[\"Visitas\"] = 1"
   ]
  },
  {
   "cell_type": "code",
   "execution_count": null,
   "metadata": {},
   "outputs": [],
   "source": [
    "view_products_by_marca = view_products.drop(columns=[\"model\"]).groupby(by=\"Marca\").agg(\"sum\")\n",
    "\n",
    "p = view_products_by_marca.sort_values(by=\"Visitas\",ascending=False)\\\n",
    "    .iloc[::-1].plot(kind=\"barh\",title=\"Marcas más visitadas\",figsize=(10,7),fontsize=14,legend=False)\n",
    "p.set_xlabel(\"Visitas\")\n",
    "p"
   ]
  },
  {
   "cell_type": "code",
   "execution_count": null,
   "metadata": {},
   "outputs": [],
   "source": [
    "marca_stats = view_products_by_marca.join(checkouts_by_marca,on=\"Marca\",how=\"outer\")\\\n",
    "    .join(conversiones_by_marca,on=\"Marca\",how=\"outer\")\n",
    "marca_stats['Visitas']= (marca_stats['Visitas']/marca_stats['Visitas'].sum()) *100\n",
    "marca_stats['Checkouts']= (marca_stats['Checkouts']/marca_stats['Checkouts'].sum()) *100\n",
    "marca_stats['Conversiones']= (marca_stats['Conversiones']/marca_stats['Conversiones'].sum()) * 100\n",
    "marca_stats = marca_stats.fillna(0)\n",
    "marca_stats = marca_stats.T"
   ]
  },
  {
   "cell_type": "markdown",
   "metadata": {},
   "source": [
    "Para el siguiente gráfico, hemos decidido utilizar una librería externa. \n",
    "\n",
    "\n",
    "Se puede instalar corriendo: pip install plotly\n",
    "\n",
    "O en Anaconda: conda install -c plotly plotly\n"
   ]
  },
  {
   "cell_type": "code",
   "execution_count": null,
   "metadata": {},
   "outputs": [],
   "source": [
    "import plotly\n",
    "plotly.offline.init_notebook_mode(connected=True)\n",
    "import plotly.offline as py\n",
    "import plotly.graph_objs as go\n",
    "\n",
    "data = [go.Scatterpolar(\n",
    "  r = marca_stats[\"Samsung\"].tolist(),\n",
    "  theta = ['Visitas','Checkouts','Conversiones'],\n",
    "    name = 'Samsung',\n",
    "  fill = 'toself'\n",
    "),go.Scatterpolar(\n",
    "  r = marca_stats[\"iPhone\"].tolist(),\n",
    "  theta = ['Visitas','Checkouts','Conversiones'],\n",
    "    name = 'iPhone',\n",
    "  fill = 'toself'\n",
    "),go.Scatterpolar(\n",
    "  r = marca_stats[\"Motorola\"].tolist(),\n",
    "  theta = ['Visitas','Checkouts','Conversiones'],\n",
    "    name = 'Motorola',\n",
    "    fill = 'toself'\n",
    ")]\n",
    "\n",
    "layout = go.Layout(\n",
    "  polar = dict(\n",
    "    radialaxis = dict(\n",
    "      visible = True,\n",
    "      range = [0, 60]\n",
    "    )\n",
    "  ),\n",
    "    title='Porcentaje de visitas, checkouts, y conversiones de marcas',\n",
    "    font= dict(\n",
    "        size =18\n",
    "    ),\n",
    "  showlegend = True\n",
    ")\n",
    "\n",
    "fig = go.Figure(data=data, layout=layout)\n",
    "py.offline.iplot(fig)"
   ]
  },
  {
   "cell_type": "markdown",
   "metadata": {},
   "source": [
    "## Observemos la información que nos dan los modelos principales"
   ]
  },
  {
   "cell_type": "code",
   "execution_count": null,
   "metadata": {},
   "outputs": [],
   "source": [
    "p = view_products.groupby(by=[\"model\"]).agg(\"sum\").sort_values(by=\"Visitas\",ascending=False).head(20)\\\n",
    "    .iloc[::-1].plot(kind=\"barh\",title=\"20 celulares con más visitas\",figsize=(10,7),fontsize=14,legend=False)\n",
    "p.set_ylabel(\"Modelo\")\n",
    "p.set_xlabel(\"Visitas\")\n",
    "p"
   ]
  },
  {
   "cell_type": "markdown",
   "metadata": {},
   "source": [
    "Los gráficos anteriores pueden agruparce para apreciar mejor la informacion."
   ]
  },
  {
   "cell_type": "code",
   "execution_count": null,
   "metadata": {},
   "outputs": [],
   "source": [
    "view_products = df.loc[(df[\"event\"] == \"viewed product\")|(df[\"event\"] == \"checkout\")|(df[\"event\"] == \"conversion\"),[\"model\",'event']].copy()\n",
    "view_products[\"Marca\"] = obtener_marca(view_products[\"model\"])\n",
    "view_products[\"Visitas\"] = view_products['event']=='viewed product'\n",
    "view_products['checkouts']= view_products['event']=='checkout'\n",
    "view_products['compras']= view_products['event']=='conversion'    \n",
    "view_products_by_model= view_products.groupby(by=[\"model\"]).agg({'Visitas':'sum','checkouts':'sum','compras':'sum'}).sort_values(by=\"Visitas\",ascending=False).head(20)\n",
    "\n",
    "\n",
    "fig, (ax, ax2, ax3) = plt.subplots(ncols=3, sharey=True)\n",
    "\n",
    "\n",
    "ax.yaxis.tick_left()\n",
    "\n",
    "view_products_by_model['Visitas'].iloc[::-1].plot(kind=\"barh\",title=\"20 celulares con más visitas\",figsize=(10,7),fontsize=10,legend=False,ax=ax)\n",
    "view_products_by_model['checkouts'].iloc[::-1].plot(kind=\"barh\",title=\"checkouts\",figsize=(10,7),fontsize=10,legend=False,ax=ax2)\n",
    "view_products_by_model['compras'].iloc[::-1].plot(kind=\"barh\",title=\"compras\",figsize=(10,7),fontsize=10,legend=False,ax=ax3)\n",
    "\n",
    "plt.show()"
   ]
  },
  {
   "cell_type": "markdown",
   "metadata": {},
   "source": [
    "#### Analsis de checkouts por persona"
   ]
  },
  {
   "cell_type": "markdown",
   "metadata": {},
   "source": [
    "Veo si existen casos de double tracking"
   ]
  },
  {
   "cell_type": "code",
   "execution_count": null,
   "metadata": {},
   "outputs": [],
   "source": [
    "def min_diferencia_tiempo(df):\n",
    "        min_diferencia=pd.to_timedelta('365 days')\n",
    "        for i in range(1,len(df)):\n",
    "            dif = df.iloc[i]-df.iloc[i-1]\n",
    "            if dif<min_diferencia:\n",
    "                min_diferencia = dif\n",
    "        return min_diferencia    \n",
    "            \n",
    "checkouts_por_persona = df.loc[df['event']=='checkout',['timestamp','person','model', 'sku']]\n",
    "duplicados = checkouts_por_persona[checkouts_por_persona.duplicated(subset=['person'], keep=False)]\n",
    "min_diferencia_checkouts = duplicados.groupby('person').agg({'timestamp':min_diferencia_tiempo}).sort_values(by='timestamp')\n",
    "min_diferencia_checkouts['menos_de_1seg'] = min_diferencia_checkouts['timestamp']<pd.to_timedelta('00:00:01')\n",
    "min_diferencia_checkouts['menos_de_1seg'].value_counts()"
   ]
  },
  {
   "cell_type": "markdown",
   "metadata": {},
   "source": [
    "Existe solo 1 caso de todos los checkouts que podría ser de double tracking, lo examino"
   ]
  },
  {
   "cell_type": "code",
   "execution_count": null,
   "metadata": {},
   "outputs": [],
   "source": [
    "min_diferencia_checkouts.loc[min_diferencia_checkouts['menos_de_1seg']==True]"
   ]
  },
  {
   "cell_type": "code",
   "execution_count": null,
   "metadata": {},
   "outputs": [],
   "source": [
    "checkouts_por_persona.loc[checkouts_por_persona['person']=='0ee73fbe']"
   ]
  },
  {
   "cell_type": "markdown",
   "metadata": {},
   "source": [
    "Los dos eventos de checkout que son en el mismo momento son de modelos distintos, por lo tanto supondremos que no es un caso de double tracking"
   ]
  },
  {
   "cell_type": "markdown",
   "metadata": {},
   "source": [
    "### Analizo la cantidad de checkouts por persona "
   ]
  },
  {
   "cell_type": "code",
   "execution_count": null,
   "metadata": {},
   "outputs": [],
   "source": [
    "checkouts_por_persona['checkouts'] = 1\n",
    "checkouts_por_persona[\"marca\"] = obtener_marca(checkouts_por_persona[\"model\"])\n",
    "for marca in ['Samsung','iPhone','Motorola','LG','Lenovo','Sony','Quantum','iPad','Asus']:\n",
    "    checkouts_por_persona[marca] = checkouts_por_persona['marca'] == marca\n",
    "\n",
    "    "
   ]
  },
  {
   "cell_type": "code",
   "execution_count": null,
   "metadata": {},
   "outputs": [],
   "source": [
    "\n",
    "cantidad_de_checkouts_por_persona = checkouts_por_persona.groupby('person').agg({'checkouts':sum,\\\n",
    "        'Samsung':sum,'iPhone':sum,'Motorola':sum,'LG':sum,'Lenovo':sum,'Sony':sum,\\\n",
    "        'Quantum':sum,'iPad':sum,'Asus':sum})\n",
    "g = cantidad_de_checkouts_por_persona['checkouts'].value_counts().plot('bar')\n",
    "g.set_title('Cantidad de checkouts por persona')\n",
    "g.set_xlabel('Cantidad de checkouts')\n",
    "g.set_ylabel('Numero de personas')"
   ]
  },
  {
   "cell_type": "code",
   "execution_count": null,
   "metadata": {},
   "outputs": [],
   "source": [
    "cant_checkouts_log=cantidad_de_checkouts_por_persona['checkouts'].value_counts()#.transform(lambda x: np.log(x)+1 )\n",
    "g_log = cant_checkouts_log.plot('bar')\n",
    "g_log.set_yscale('log')\n",
    "#g_log.yaxis.set_major_formatter(ScalarFormatter())\n",
    "g_log.set_title('Cantidad de checkouts por persona [Log]')\n",
    "g_log.set_xlabel('Cantidad de checkouts')\n",
    "g_log.set_ylabel('Cantidad de personas')\n",
    "mostrar_valores_barplot(g_log)"
   ]
  },
  {
   "cell_type": "markdown",
   "metadata": {},
   "source": [
    "#### Verifico si los distintos checkouts son sobre los mismos modelos"
   ]
  },
  {
   "cell_type": "code",
   "execution_count": null,
   "metadata": {},
   "outputs": [],
   "source": [
    "a = checkouts_por_persona.groupby('person').agg({'model':'nunique','checkouts':'count'})\n",
    "g = a.groupby('checkouts').agg({'model':'mean'}).plot(kind='bar',alpha=0.5, legend=False)\n",
    "a.loc[a['checkouts']==24]\n",
    "g.set_title('Promedio de modelos dintintos por cantidad de checkouts')\n",
    "g.set_xlabel('Número de checkouts')\n",
    "g.set_ylabel('Número de modelos distintos vistos')"
   ]
  },
  {
   "cell_type": "markdown",
   "metadata": {},
   "source": [
    "#### Hago un analisis de las marcas que mas se aparecen en funcion de la cantidad de checkouts que hizo cada cliente"
   ]
  },
  {
   "cell_type": "code",
   "execution_count": null,
   "metadata": {},
   "outputs": [],
   "source": [
    "multiples = cantidad_de_checkouts_por_persona.loc[cantidad_de_checkouts_por_persona['checkouts']>1]\n",
    "\n",
    "my_colors = [\"#1f77b4\", \"#ff7f0e\", \"#2ca02c\", \"#d62728\", \"#9467bd\", \"#8c564b\", \"#e377c2\", \"#bcbd22\", \"#17becf\"]  \n",
    "g = multiples.groupby('checkouts').agg({'Samsung':sum,'iPhone':sum,'Motorola':sum,'LG':sum,'Lenovo':sum,\\\n",
    "        'Sony':sum,'Quantum':sum,'iPad':sum,'Asus':sum}).iloc[:,:5].plot(kind='line',color = my_colors)\n",
    "g.set_title('Distribucion de las marcas en funcion de la cantidad de checkouts por persona')\n",
    "g.set_xlabel('Cantidad de checkouts')\n",
    "g.set_ylabel('Cantidad de apariciones')\n"
   ]
  },
  {
   "cell_type": "markdown",
   "metadata": {},
   "source": [
    "#### Hago un analisis de los productos visitados\n"
   ]
  },
  {
   "cell_type": "code",
   "execution_count": null,
   "metadata": {},
   "outputs": [],
   "source": [
    "productos_visitados = df.loc[df['event']=='viewed product',['timestamp','person','sku','model','condition']]\n"
   ]
  },
  {
   "cell_type": "code",
   "execution_count": null,
   "metadata": {},
   "outputs": [],
   "source": [
    "productos_visitados = df.loc[df['event']=='viewed product',['person','sku','model','condition']]\n",
    "productos_visitados['visita'] = 1\n",
    "cant_productos_visitados = productos_visitados.groupby('person').agg({'visita':'count'})['visita'].value_counts()\n"
   ]
  },
  {
   "cell_type": "code",
   "execution_count": null,
   "metadata": {},
   "outputs": [],
   "source": [
    "cant_productos_visitados = productos_visitados.groupby('person').agg({'visita':'count'})\n",
    "g = cant_productos_visitados ['visita']\\\n",
    "    .transform(lambda x: np.log(x)+1 ).plot('hist',alpha=0.75, bins= 20)\n",
    "g.set_title('Histograma de Viewed Product | Productos visitados [Log] ')\n",
    "g.set_xlabel('Cantidad de productos visitados')"
   ]
  },
  {
   "cell_type": "code",
   "execution_count": null,
   "metadata": {},
   "outputs": [],
   "source": [
    "merged = pd.merge(cant_productos_visitados, cantidad_de_checkouts_por_persona, on='person', how='left')\n",
    "# Estamos sacando aquellas personas que fueron directo al checkout (mediante publicidad) sin observar productos\n",
    "\n",
    "g = merged[[\"visita\",\"checkouts\"]].transform(lambda x: np.log(x)+1 ).plot(kind='hist',alpha=0.80,bins = 10, color =[\"#ff7f0e\",\"#2ca02c\"])\n",
    "#merged[[\"checkouts\",\"visita\"]].plot(kind='bar', stacked=True)\n",
    "g.set_title('Frecuencia de Checkouts x Producto Visitado [Log]')"
   ]
  },
  {
   "cell_type": "markdown",
   "metadata": {},
   "source": [
    "## Leads"
   ]
  },
  {
   "cell_type": "code",
   "execution_count": null,
   "metadata": {},
   "outputs": [],
   "source": [
    "leads = df.loc[df['event'] == 'lead', ['timestamp', 'person', 'model']].copy()\n",
    "conversions = df.loc[df['event'] == 'conversion', ['timestamp', 'person', 'model']]\n",
    "checkouts = df.loc[df['event'] == 'checkout', ['timestamp', 'person', 'model']]"
   ]
  },
  {
   "cell_type": "markdown",
   "metadata": {},
   "source": [
    "### Cantidad de leads"
   ]
  },
  {
   "cell_type": "code",
   "execution_count": null,
   "metadata": {},
   "outputs": [],
   "source": [
    "len(leads['timestamp'])"
   ]
  },
  {
   "cell_type": "markdown",
   "metadata": {},
   "source": [
    "Hubo 380 solicitudes de notificacion de stock"
   ]
  },
  {
   "cell_type": "markdown",
   "metadata": {},
   "source": [
    "### Cantidad de usuarios que solicitaron notificacion de stock"
   ]
  },
  {
   "cell_type": "code",
   "execution_count": null,
   "metadata": {},
   "outputs": [],
   "source": [
    "len(leads['person'].unique())"
   ]
  },
  {
   "cell_type": "markdown",
   "metadata": {},
   "source": [
    "291 usuarios solicitaron notificacion por faltante de stock"
   ]
  },
  {
   "cell_type": "code",
   "execution_count": null,
   "metadata": {},
   "outputs": [],
   "source": [
    "len(conversions['person'].unique())"
   ]
  },
  {
   "cell_type": "markdown",
   "metadata": {},
   "source": [
    "716 usuarios realizaron al menos una conversion"
   ]
  },
  {
   "cell_type": "markdown",
   "metadata": {},
   "source": [
    "### Leads semanales"
   ]
  },
  {
   "cell_type": "code",
   "execution_count": null,
   "metadata": {},
   "outputs": [],
   "source": [
    "leads_by_week = leads.loc[:, ['timestamp']].copy()\n",
    "leads_by_week['semana'] = leads_by_week['timestamp'].dt.week - 1\n",
    "leads_by_week = leads_by_week[leads_by_week['semana'] != leads_by_week['semana'].max()] #Borro la ultima semana incompleta\n",
    "leads_by_week['semana'] = pd.to_datetime('2018', format='%Y') + pd.to_timedelta(leads_by_week['semana'].mul(7).astype('str') + ' days')\n",
    "\n",
    "leads_weeks = leads_by_week['semana'].value_counts().to_frame().sort_index()\n",
    "ax = leads_weeks['semana'].plot()\n",
    "ax.set(xlabel='Semana', ylabel='Solicitudes de stock')\n",
    "ax.set_title('Solicitudes de stock semanales')"
   ]
  },
  {
   "cell_type": "code",
   "execution_count": null,
   "metadata": {},
   "outputs": [],
   "source": [
    "leads_weeks['semana'].iloc[-11:].mean()"
   ]
  },
  {
   "cell_type": "markdown",
   "metadata": {},
   "source": [
    "Hay un promedio de 30 leads semanales desde abril."
   ]
  },
  {
   "cell_type": "markdown",
   "metadata": {},
   "source": [
    "### Relacion leads y conversiones"
   ]
  },
  {
   "cell_type": "code",
   "execution_count": null,
   "metadata": {},
   "outputs": [],
   "source": [
    "conversions_by_week = conversions.loc[:, ['timestamp']].copy()\n",
    "conversions_by_week['semana'] = conversions_by_week['timestamp'].dt.week - 1\n",
    "conversions_by_week = conversions_by_week[conversions_by_week['semana'] != conversions_by_week['semana'].max()] #Borro la ultima semana incompleta\n",
    "conversions_by_week['semana'] = pd.to_datetime('2018', format='%Y') + pd.to_timedelta(conversions_by_week['semana'].mul(7).astype('str') + ' days')\n",
    "conversions_weeks = conversions_by_week['semana'].value_counts().to_frame().sort_index()\n",
    "\n",
    "fig, ax1 = plt.subplots()\n",
    "\n",
    "color='#B40404'\n",
    "ax1.set_xlabel('Semana')\n",
    "ax1.set_ylabel('Solicitudes de stock', color=color)\n",
    "ax1.plot(leads_weeks['semana'], color=color)\n",
    "ax1.tick_params(axis='y', labelcolor=color)\n",
    "\n",
    "ax2 = ax1.twinx()\n",
    "\n",
    "color = 'tab:blue'\n",
    "ax2.set_ylabel('Compras', color=color)\n",
    "ax2.plot(conversions_weeks['semana'], color=color)\n",
    "ax2.tick_params(axis='y', labelcolor=color)\n",
    "\n",
    "fig.tight_layout()\n",
    "ax1.set_title('Solicitudes de stock y compras semanales')\n",
    "plt.show()"
   ]
  },
  {
   "cell_type": "markdown",
   "metadata": {},
   "source": [
    "Notamos que en los momentos en que mas solicitudes de stock hay, las conversiones se estancan o disminuyen"
   ]
  },
  {
   "cell_type": "markdown",
   "metadata": {},
   "source": [
    "### ¿Que marcas tienen mas solicitudes de notificacion de stock?"
   ]
  },
  {
   "cell_type": "code",
   "execution_count": null,
   "metadata": {},
   "outputs": [],
   "source": [
    "def obtener_marca(serie_de_modelo):\n",
    "    # La marca es siempre la primer palabra del modelo\n",
    "    r = []\n",
    "    for modelo in serie_de_modelo.tolist():\n",
    "        if pd.isna(modelo):\n",
    "            r.append(\"Unknown\")\n",
    "        else:\n",
    "            r.append(modelo.split()[0])\n",
    "    return r"
   ]
  },
  {
   "cell_type": "code",
   "execution_count": null,
   "metadata": {},
   "outputs": [],
   "source": [
    "leads['marca'] = obtener_marca(leads['model'])\n",
    "leads['semana'] = leads['timestamp'].dt.week\n",
    "conversions['marca'] = obtener_marca(conversions['model'])\n",
    "\n",
    "leads_unicos = leads.drop_duplicates(subset = ['person', 'model', 'semana'])"
   ]
  },
  {
   "cell_type": "code",
   "execution_count": null,
   "metadata": {},
   "outputs": [],
   "source": [
    "leads_count = leads_unicos['marca'].value_counts().to_frame()\n",
    "conversions_count = conversions['marca'].value_counts().to_frame()\n",
    "count = pd.concat([leads_count, conversions_count], axis=1, join_axes=[leads_count.index])\n",
    "count.columns = ['leads','conversiones']\n",
    "count = count.iloc[0:5]\n",
    "\n",
    "fig, (ax, ax2) = plt.subplots(ncols=2, sharey=True)\n",
    "\n",
    "ax.yaxis.tick_left()\n",
    "\n",
    "count['leads'].plot(kind='barh', x='LABEL',  legend=False, ax=ax)\n",
    "count['conversiones'].plot(kind='barh', x='LABEL',ax=ax2)\n",
    "ax.set_title('Solicitudes de stock')\n",
    "ax.set(xlabel='Solicitudes de stock totales', ylabel='Marca')\n",
    "ax2.set_title('Compras')\n",
    "ax2.set(xlabel='Compras totales')\n",
    "plt.show()"
   ]
  },
  {
   "cell_type": "markdown",
   "metadata": {},
   "source": [
    "Vemos que los iphone son los que mayor cantidad de leads tienen y los Samsung quedan en segundo lugar, pero la cantidad de Samsung vendidos es el doble que la cantidad de iphones vendidos, lo que significa que hay un problema de stock para los iphone. Tambien para los LG hay una cantidad grande de lead en comparacion con sus conversiones."
   ]
  },
  {
   "cell_type": "markdown",
   "metadata": {},
   "source": [
    "### ¿Cuantos de esos lead se convirtieron en compra?"
   ]
  },
  {
   "cell_type": "code",
   "execution_count": null,
   "metadata": {},
   "outputs": [],
   "source": [
    "leads_red = leads_unicos[['person', 'model']]\n",
    "conversions_red = conversions[['person', 'model']].copy()\n",
    "conversions_red['conversion'] = True\n",
    "\n",
    "leads_red = leads_red.merge(conversions_red.drop_duplicates(), on = ['person', 'model'], how = 'left')\n",
    "valores = leads_red['conversion'].fillna(False).value_counts()\n",
    "valores.rename({False:'No compro', True:'Compro'}, inplace=True)\n",
    "ax = valores.plot('pie', autopct='%1.0f%%', figsize=(4,4), title='Cantidad de solicitudes que se convirtieron en compra')\n",
    "ax.set_ylabel('')"
   ]
  },
  {
   "cell_type": "markdown",
   "metadata": {},
   "source": [
    "Solamente 29 de los 380 leads unicos (sin contar multiples lead de un mismo usuario para un mismo modelo en una misma semana) se convirtieron en compra, un numero desalentador considerando que son 351 potenciales compras que no pudieron realizarse por faltante de stock."
   ]
  },
  {
   "cell_type": "code",
   "execution_count": null,
   "metadata": {},
   "outputs": [],
   "source": [
    "len(conversions['timestamp'])"
   ]
  },
  {
   "cell_type": "code",
   "execution_count": null,
   "metadata": {},
   "outputs": [],
   "source": [
    "comprados_leads = pd.Series({'Compras':len(conversions['timestamp']), 'Solicitudes de stock sin compra':380 - 29})\n",
    "ax = comprados_leads.plot('bar')\n",
    "plt.xticks(rotation=0)\n",
    "ax.set(ylabel='Cantidad total')\n",
    "ax.set_title('Compras totales vs solicitudes de stock totales')"
   ]
  },
  {
   "cell_type": "code",
   "execution_count": null,
   "metadata": {},
   "outputs": [],
   "source": [
    "100 * (1 - (1172/(1172+351)))"
   ]
  },
  {
   "cell_type": "markdown",
   "metadata": {},
   "source": [
    "Se vendió un 23% menos cantidad de celulares de lo que se podría haber vendido si hubiese habido stock suficiente."
   ]
  },
  {
   "cell_type": "markdown",
   "metadata": {},
   "source": [
    "# Analisis de la condición de los celulares\n",
    "\n",
    "#### Mostramos el evento según la condicion que se encuentra el celular"
   ]
  },
  {
   "cell_type": "code",
   "execution_count": null,
   "metadata": {},
   "outputs": [],
   "source": [
    "aux=df.loc[((df['event'] == 'viewed product') | (df['event'] == 'checkout') | (df['event'] == 'conversion')), ['event','condition']]\n",
    "condicion_evento = pd.crosstab(aux['condition'], aux['event'])\n",
    "condicion_evento"
   ]
  },
  {
   "cell_type": "markdown",
   "metadata": {},
   "source": [
    "#### Hacemos el gráfico del mismo"
   ]
  },
  {
   "cell_type": "code",
   "execution_count": null,
   "metadata": {},
   "outputs": [],
   "source": [
    "condicion_evento_norm = pd.DataFrame()\n",
    "condicion_evento_norm['viewed product'] = (condicion_evento['viewed product'] / condicion_evento['viewed product'].sum()) * 100\n",
    "condicion_evento_norm['checkout'] = (condicion_evento['checkout'] / condicion_evento['checkout'].sum()) * 100\n",
    "condicion_evento_norm['conversion'] = (condicion_evento['conversion'] / condicion_evento['conversion'].sum()) * 100\n",
    "sns.set(rc={'figure.figsize':(8.7,8.27)})\n",
    "ax = condicion_evento_norm.T.plot.bar(stacked=True)\n",
    "ax.legend(loc='center left', bbox_to_anchor=(1.0, 0.5))\n",
    "ax.set(xlabel='Evento', ylabel='Porcentaje', title = 'Proporcion de condicion de celular por evento')"
   ]
  },
  {
   "cell_type": "markdown",
   "metadata": {},
   "source": [
    "Como se puede ver en el gráfico, la gente tiende a buscar y comprar más los celulares que no estan en las mejores condiciones (bom). La participacion de los celulares nuevos es casi inexistente. Vemos un decremento en la participacion de celulares de condicion excelente en las conversiones."
   ]
  },
  {
   "cell_type": "code",
   "execution_count": null,
   "metadata": {},
   "outputs": [],
   "source": [
    "g = sns.countplot(x=\"condition\", hue=\"event\", data=aux, palette=\"hls\")\n",
    "g.set_title(\"Cantidad de eventos por condicion del celular\", fontsize=18)\n",
    "g.set_xlabel(\"condicion\", fontsize=18)\n",
    "g.set_ylabel(\"Cantidad de eventos\", fontsize=18)"
   ]
  },
  {
   "cell_type": "markdown",
   "metadata": {},
   "source": [
    "no se puede ver bien porque la cantidad de viewed product"
   ]
  },
  {
   "cell_type": "code",
   "execution_count": null,
   "metadata": {},
   "outputs": [],
   "source": [
    "auxiliar_celulares2 =df.loc[(pd.notnull(df['sku'])),['sku','condition']].drop_duplicates()\n",
    "auxiliar_celulares2.reset_index(drop='true')\n",
    "auxiliar_celulares2.head(5)"
   ]
  },
  {
   "cell_type": "code",
   "execution_count": null,
   "metadata": {},
   "outputs": [],
   "source": [
    "auxiliar_celulares2['celulares'] = 1\n",
    "cantidad_de_celulares = auxiliar_celulares2.groupby('condition').agg({'celulares':'sum'})"
   ]
  },
  {
   "cell_type": "code",
   "execution_count": null,
   "metadata": {},
   "outputs": [],
   "source": [
    "cantidad_de_celulares"
   ]
  },
  {
   "cell_type": "code",
   "execution_count": null,
   "metadata": {},
   "outputs": [],
   "source": [
    "df1= df.loc[(df['event']=='conversion'),['sku','condition']]"
   ]
  },
  {
   "cell_type": "code",
   "execution_count": null,
   "metadata": {},
   "outputs": [],
   "source": [
    "df1['ventas'] = 1\n",
    "grupo_ventas_celular = df1.groupby('condition').agg({'ventas':'sum'}) "
   ]
  },
  {
   "cell_type": "code",
   "execution_count": null,
   "metadata": {},
   "outputs": [],
   "source": [
    "g = grupo_ventas_celular['ventas'].sort_values(ascending= False).plot(kind= 'bar')\n",
    "g.set_title('Cantidad de compras por condición del equipo')\n",
    "g.set_xlabel('Condicion')\n",
    "g.set_ylabel('Cantidad de compras')\n",
    "g.set_xticklabels(['Bueno', 'Muy bueno', 'Excelente', 'Bueno - Sin touch ID', 'Nuevo'])"
   ]
  },
  {
   "cell_type": "code",
   "execution_count": null,
   "metadata": {},
   "outputs": [],
   "source": [
    "datos_celulares = pd.merge(grupo_ventas_celular,cantidad_de_celulares,on='condition', how='left')"
   ]
  },
  {
   "cell_type": "code",
   "execution_count": null,
   "metadata": {},
   "outputs": [],
   "source": [
    "datos_celulares"
   ]
  },
  {
   "cell_type": "code",
   "execution_count": null,
   "metadata": {},
   "outputs": [],
   "source": [
    "datos_celulares['porcentaje vendido'] = datos_celulares['ventas']/datos_celulares['celulares']\n",
    "datos_celulares"
   ]
  },
  {
   "cell_type": "code",
   "execution_count": null,
   "metadata": {},
   "outputs": [],
   "source": [
    "ax = datos_celulares['porcentaje vendido'].plot(kind = 'bar')\n",
    "ax.set_title('Porcentaje de ventas segun la condicion del celular')\n",
    "ax.set_ylabel('Vendidos/Cantidad de celulares')\n",
    "ax.set_xlabel('condicion')\n",
    "plt.xticks(rotation=0)"
   ]
  },
  {
   "cell_type": "code",
   "execution_count": null,
   "metadata": {},
   "outputs": [],
   "source": [
    "ax = datos_celulares[['ventas','celulares']].plot(kind = 'bar')\n",
    "ax.set_title('ventas y cantidad de celulares')\n",
    "ax.set_ylabel(' cantidad')\n",
    "ax.set_xlabel('condicion')\n",
    "plt.xticks(rotation=0)"
   ]
  },
  {
   "cell_type": "markdown",
   "metadata": {},
   "source": [
    "Con las dos vistas, se puede observar, que la que más ventas tiene son los celulares que están en peor estado. Los celulares nuevos tienen alto grado de ventas, pero al ser infima la cantidad de celulares nuevos, no se puede asegurar nada."
   ]
  },
  {
   "cell_type": "code",
   "execution_count": null,
   "metadata": {},
   "outputs": [],
   "source": [
    "compras_por_almacenamiento = df.loc[(df['event']=='conversion'),['sku','storage']]\n",
    "compras_por_almacenamiento['venta'] = 1\n",
    "compras_por_almacenamiento.head()"
   ]
  },
  {
   "cell_type": "code",
   "execution_count": null,
   "metadata": {},
   "outputs": [],
   "source": [
    "g = compras_por_almacenamiento.groupby('storage').agg(sum).sort_values(by='venta', ascending=False).plot(kind= 'bar', legend = False)\n",
    "g.set_title('Cantidad de compras segun el espacio de almacenamiento del equipo')\n",
    "g.set_xlabel('Espacio de almacenamiento')\n",
    "g.set_ylabel('Cantidad de compras')\n"
   ]
  },
  {
   "cell_type": "markdown",
   "metadata": {},
   "source": [
    "### Analisis duracion de sesion"
   ]
  },
  {
   "cell_type": "code",
   "execution_count": null,
   "metadata": {},
   "outputs": [],
   "source": [
    "df_indice_en_persona_evento = df.set_index(['person','event'])"
   ]
  },
  {
   "cell_type": "code",
   "execution_count": null,
   "metadata": {},
   "outputs": [],
   "source": [
    "dif_primer_ultimo_evento = df_indice_en_persona_evento.groupby('person').agg({'timestamp':['max', 'min']})\n",
    "dif_primer_ultimo_evento['diferencia'] = dif_primer_ultimo_evento['timestamp']['max'] - dif_primer_ultimo_evento['timestamp']['min']\n",
    "dif_primer_ultimo_evento.drop(columns='timestamp', inplace= True)\n",
    "#mejora notoria de tiempo de ejecucion"
   ]
  },
  {
   "cell_type": "code",
   "execution_count": null,
   "metadata": {},
   "outputs": [],
   "source": [
    "dif_primer_ultimo_evento = dif_primer_ultimo_evento.loc[dif_primer_ultimo_evento['diferencia']>'1 day'].sort_values(by = 'diferencia')\n",
    "pd.concat([dif_primer_ultimo_evento.head(), dif_primer_ultimo_evento.tail()])"
   ]
  },
  {
   "cell_type": "code",
   "execution_count": null,
   "metadata": {},
   "outputs": [],
   "source": [
    "eventos_por_persona = df.loc[(df['event'] != 'ad campaign hit') & (df['event'] != 'search engine hit'), ['person', 'timestamp', 'event']].copy()\n",
    "eventos_por_persona['nueva_sesion'] = eventos_por_persona['event'] == 'visited site'\n",
    "eventos_por_persona['timestamp_normalizado'] = eventos_por_persona['timestamp'].dt.round(freq = '20S') #agrupa de a ciclos de 10 segundos\n",
    "\n",
    "#dejamos solo un evento por persona para cada ciclo de 10 segundos, dejando siempre los visited site o el evento que tiene un timestamp mas posterior\n",
    "#eventos_por_persona = eventos_por_persona.sort_values(by = ['nueva_sesion', 'timestamp'], ascending = [False, False]).drop_duplicates(subset = ['person', 'timestamp_normalizado'], keep = 'first')\n",
    "eventos_por_persona = eventos_por_persona.sort_values(['person', 'timestamp'])\n",
    "\n",
    "#borrar eventos aislados que no sean visited site\n",
    "eventos_por_persona['sig_timestamp'] = eventos_por_persona['timestamp'].shift(-1)\n",
    "eventos_por_persona['ant_timestamp'] = eventos_por_persona['timestamp'].shift(1)\n",
    "eventos_por_persona['dist_timestamps_ant'] = abs(eventos_por_persona['timestamp'] - eventos_por_persona['ant_timestamp'])\n",
    "eventos_por_persona['dist_timestamps_sig'] = abs(eventos_por_persona['timestamp'] - eventos_por_persona['sig_timestamp'])\n",
    "eventos_por_persona = eventos_por_persona.loc[((eventos_por_persona['dist_timestamps_ant'] < pd.Timedelta('1 hours')) \\\n",
    "                                               & (eventos_por_persona['dist_timestamps_sig'] < pd.Timedelta('1 hours')) \\\n",
    "                                               | eventos_por_persona['nueva_sesion'])]\n",
    "\n",
    "\n",
    "eventos_por_persona['sig_nueva_sesion'] = eventos_por_persona['nueva_sesion'].shift(-1) #nueva columna que indica el valor 'nueva_sesion' de la siguiente fila\n",
    "eventos_por_persona = eventos_por_persona.loc[(eventos_por_persona['nueva_sesion'] | eventos_por_persona['sig_nueva_sesion'])]\n",
    "eventos_por_persona['sig_timestamp'] = eventos_por_persona['timestamp'].shift(-1)\n",
    "eventos_por_persona = eventos_por_persona.loc[eventos_por_persona['nueva_sesion']]\n",
    "\n",
    "eventos_por_persona.loc[(eventos_por_persona['nueva_sesion'] & eventos_por_persona['sig_nueva_sesion']), 'sig_timestamp'] = eventos_por_persona.loc[(eventos_por_persona['nueva_sesion'] & eventos_por_persona['sig_nueva_sesion']), 'timestamp']\n",
    "\n",
    "eventos_por_persona['duracion_sesion'] = eventos_por_persona['sig_timestamp'] - eventos_por_persona['timestamp']\n",
    "eventos_por_persona = eventos_por_persona.loc[((eventos_por_persona['duracion_sesion'] > pd.Timedelta('0 days')) & (eventos_por_persona['duracion_sesion'] < pd.Timedelta('6 hours')))]\n",
    "\n",
    "sesiones_minutos = pd.Series()\n",
    "sesiones_minutos = eventos_por_persona['duracion_sesion'] / pd.Timedelta(minutes=1)\n",
    "#sesiones_minutos\n",
    "ax = sesiones_minutos.hist(bins = range(0, 120, 1))\n",
    "ax.set_yscale('log')\n",
    "ax.set_xlabel('Duracion sesion en minutos')\n",
    "ax.set_ylabel('Cantidad de sesiones')\n",
    "ax.set_title('Distribución de duración de sesiones')"
   ]
  },
  {
   "cell_type": "markdown",
   "metadata": {},
   "source": [
    "### Evolución de las campañas a lo largo del tiempo"
   ]
  },
  {
   "cell_type": "markdown",
   "metadata": {},
   "source": [
    "Tomaremos las 5 campañas mas importantes y graficaremos su participiación durante el periodo."
   ]
  },
  {
   "cell_type": "code",
   "execution_count": null,
   "metadata": {},
   "outputs": [],
   "source": [
    "n = 5\n",
    "\n",
    "hits_campanias = df.loc[(df['event']=='ad campaign hit'), ['timestamp', 'person', 'url', 'campaign_source']].copy()\n",
    "hits_campanias['semana'] = hits_campanias['timestamp'].dt.week - 1\n",
    "hits_campanias['semana'] = pd.to_datetime('2018', format='%Y') + pd.to_timedelta(hits_campanias['semana'].mul(7).astype('str') + ' days')\n",
    "hits_campanias.dropna(subset = ['campaign_source'], inplace = True)\n",
    "\n",
    "n_mayores_sources = hits_campanias['campaign_source'].value_counts().iloc[0:n]\n",
    "\n",
    "hits_campanias = pd.crosstab(hits_campanias['semana'], hits_campanias['campaign_source'])\n",
    "hits_campanias = hits_campanias.loc[:, n_mayores_sources.index]\n",
    "# Porcentaje hits_campanias = hits_campanias.div(hits_campanias.sum(axis=1), axis=0).multiply(100)\n",
    "\n",
    "ax = hits_campanias.plot(kind = 'area')\n",
    "ax.legend(loc='center left', bbox_to_anchor=(1.0, 0.5))\n",
    "ax.set(xlabel='Mes', ylabel='Hits', title = 'Evolución de las '+str(n)+' mayores campañas publicitarias')"
   ]
  },
  {
   "cell_type": "markdown",
   "metadata": {},
   "source": [
    "## ¿Qué campañas tuvieron mayor y menor alcance?"
   ]
  },
  {
   "cell_type": "markdown",
   "metadata": {},
   "source": [
    "Medimos el alcance de una campaña como la cantidad de usuarios únicos que dirigieron a la página."
   ]
  },
  {
   "cell_type": "code",
   "execution_count": null,
   "metadata": {},
   "outputs": [],
   "source": [
    "ad_campaigns = df.loc[(df['event']=='ad campaign hit'),['person','campaign_source']].drop_duplicates()"
   ]
  },
  {
   "cell_type": "markdown",
   "metadata": {},
   "source": [
    "### Mayor alcance"
   ]
  },
  {
   "cell_type": "code",
   "execution_count": null,
   "metadata": {},
   "outputs": [],
   "source": [
    "N = 8\n",
    "ad_campaigns_gruped = ad_campaigns.groupby('campaign_source').agg({'person': 'count'})\n",
    "g = ad_campaigns_gruped.sort_values(by=\"person\",ascending=False).head(N).iloc[::-1]\\\n",
    "    .plot(kind=\"barh\",figsize=(9,3),legend=False)\n",
    "g.set_title(str(N)+' campañas que mas personas dirigieron')\n",
    "g.set_ylabel('Campaña publicitaria')\n",
    "g.set_xlabel('Cantidad de personas')"
   ]
  },
  {
   "cell_type": "markdown",
   "metadata": {},
   "source": [
    "### Menor alcance"
   ]
  },
  {
   "cell_type": "code",
   "execution_count": null,
   "metadata": {},
   "outputs": [],
   "source": [
    "N = 8\n",
    "g = ad_campaigns_gruped.sort_values(by=\"person\",ascending=True).head(N)\\\n",
    "    .plot(kind=\"barh\",figsize=(9,3),legend=False)\n",
    "g.set_title(str(N)+' campañas que menos personas dirigieron')\n",
    "g.set_ylabel('Campaña publicitaria')\n",
    "g.set_xlabel('Cantidad de personas')"
   ]
  },
  {
   "cell_type": "markdown",
   "metadata": {},
   "source": [
    "## ¿En qué cantidad de compras influyeron?\n"
   ]
  },
  {
   "cell_type": "code",
   "execution_count": null,
   "metadata": {},
   "outputs": [],
   "source": [
    "personas_que_compraron = df.loc[df['event']=='conversion',['person']].drop_duplicates()\n",
    "personas_que_compraron[\"compro\"] = True\n",
    "\n",
    "ad_compras = ad_campaigns.set_index(\"person\")\\\n",
    "    .join(personas_que_compraron.set_index(\"person\"),on=\"person\",how=\"left\")\n",
    "ad_compras[\"person\"] = ad_compras.index\n",
    "ad_compras = ad_compras.groupby([\"campaign_source\"]).agg({\"person\":\"count\",\"compro\":\"count\"})\n",
    "ad_compras['porcentaje'] = 100* (ad_compras['compro']/ad_compras['person'])\n",
    "ad_compras = ad_compras.loc[ad_compras[\"person\"] >= 10,[\"porcentaje\"]].sort_values(by=\"porcentaje\",ascending=False)\n",
    "p = ad_compras.iloc[::-1].plot(kind=\"barh\",legend=False,figsize=(8,4),title=\"Porcentaje de compras por campaña publicitaria\")\n",
    "p.set_xlabel(\"Porcentaje\")\n",
    "p.set_ylabel(\"Campaña\")"
   ]
  },
  {
   "cell_type": "markdown",
   "metadata": {},
   "source": [
    "### Términos más buscados"
   ]
  },
  {
   "cell_type": "markdown",
   "metadata": {},
   "source": [
    "Para analizar los términos, primero juntamos todas las palabras utilizadas en las búsquedas. Para evitar palabras duplicadas, las convertimos todas a mayúsculas."
   ]
  },
  {
   "cell_type": "code",
   "execution_count": null,
   "metadata": {},
   "outputs": [],
   "source": [
    "search_terms = df.loc[df[\"event\"]== \"searched products\",[\"search_term\"]][\"search_term\"].dropna().tolist()\n",
    "text = \" \".join(search_terms).upper()"
   ]
  },
  {
   "cell_type": "markdown",
   "metadata": {},
   "source": [
    "La mejor forma de apreciar esta información es utilizando un gráfico donde el tamaño de cada palabra represente el número de apariciones en la búsqueda.\n",
    "Con el fin de hacerlo mas agradable, utilizaremos el logo de Trocafone para darle forma al conjunto de palabras."
   ]
  },
  {
   "cell_type": "code",
   "execution_count": null,
   "metadata": {},
   "outputs": [],
   "source": [
    "# Carga de imagen\n",
    "image_array = np.array(Image.open(\"imagenes/logo_500x500.png\"))\n",
    "# Conversion de pixeles para usarla como mascara\n",
    "transformed_image_array = np.ndarray((image_array.shape[0],image_array.shape[1]), np.int32)\n",
    "for i in range(len(image_array)):\n",
    "    transformed_image_array[i] = list(map(lambda val: 0 if val == 0 else 255, image_array[i]))\n",
    "    "
   ]
  },
  {
   "cell_type": "code",
   "execution_count": null,
   "metadata": {},
   "outputs": [],
   "source": [
    "wc = WordCloud(max_words=2000,max_font_size=500,min_font_size=3\\\n",
    "               ,mask=transformed_image_array, background_color=\"white\"\\\n",
    "               ,collocations=False # Considerar solo una palabra y no frases\n",
    "              ).generate(text)\n",
    "\n",
    "plt.figure(figsize=(8,8))\n",
    "plt.imshow(wc,interpolation=\"kaiser\")\n",
    "plt.axis(\"off\")\n",
    "plt.show()"
   ]
  },
  {
   "cell_type": "markdown",
   "metadata": {},
   "source": [
    "Se puede observar que la palabra mas buscada es 'IPHONE', seguido por SAMSUNG,GALAXY,6S,MOTO, entre otras."
   ]
  },
  {
   "cell_type": "markdown",
   "metadata": {},
   "source": [
    "### Analisis por dispositivo "
   ]
  },
  {
   "cell_type": "code",
   "execution_count": null,
   "metadata": {},
   "outputs": [],
   "source": [
    "df['device_type'].value_counts()"
   ]
  },
  {
   "cell_type": "code",
   "execution_count": null,
   "metadata": {},
   "outputs": [],
   "source": [
    "dispositivos_registrados = df.loc[(df['event']=='visited site'),['person','device_type','new_vs_returning']]\n",
    "dispositivos_nuevos = dispositivos_registrados.loc[dispositivos_registrados['new_vs_returning']=='New']\n",
    "\n",
    "dispositivos_nuevos['device_type'].value_counts(normalize = True)"
   ]
  },
  {
   "cell_type": "markdown",
   "metadata": {},
   "source": [
    "Vemos que aquellos dispositivos no identificados (Unknown) responde a una fraccion muy pequeña de los registros totales. Por lo tanto los desestimaremos en el análisis"
   ]
  },
  {
   "cell_type": "code",
   "execution_count": null,
   "metadata": {},
   "outputs": [],
   "source": [
    "dispositivos_nuevos = dispositivos_nuevos.drop((dispositivos_nuevos[dispositivos_nuevos['device_type']=='Unknown']).index)"
   ]
  },
  {
   "cell_type": "code",
   "execution_count": null,
   "metadata": {},
   "outputs": [],
   "source": [
    "g_dispositivos_nuevos = dispositivos_nuevos['device_type'].value_counts().iloc[:-1].plot('bar')\n",
    "g_dispositivos_nuevos.set_title('Dispositivos registrados en nuevas visitas [New Hits]')\n",
    "g_dispositivos_nuevos.set_xlabel('Tipo de dispositivo')\n",
    "g_dispositivos_nuevos.set_ylabel('Cantidad de personas')"
   ]
  },
  {
   "cell_type": "markdown",
   "metadata": {},
   "source": [
    "Podemos visualizar que los unicos dispositivos reelevantes sobre las nuevas visitas al  sitio son los Smartphones y las Computadoras"
   ]
  },
  {
   "cell_type": "markdown",
   "metadata": {},
   "source": [
    "## Análisis sobre clientes que ingresaron por primera vez con Smartphone "
   ]
  },
  {
   "cell_type": "code",
   "execution_count": null,
   "metadata": {},
   "outputs": [],
   "source": [
    "#Filtro las personas entraron por primera vez por su celular\n",
    "personas_nuevas_smartphone = dispositivos_nuevos.loc[(dispositivos_nuevos['device_type']=='Smartphone'),['person']]\n",
    "\n",
    "#Filtro paralelamente las personas que volvieron a entrar desde sus PCs\n",
    "personas_returning_pc = dispositivos_registrados.loc[(dispositivos_registrados['device_type']=='Computer') & (df['new_vs_returning']=='Returning'),['person']]\n",
    "personas_returning_pc['Volvieron_en_PC'] = True"
   ]
  },
  {
   "cell_type": "code",
   "execution_count": null,
   "metadata": {},
   "outputs": [],
   "source": [
    "personas_new_Smartphone_ret_PC = pd.merge(personas_nuevas_smartphone, personas_returning_pc, on='person', how='left').drop_duplicates()\n",
    "personas_new_Smartphone_ret_PC['Volvieron_en_PC'].fillna(False,inplace=True)\n",
    "personas_new_Smartphone_ret_PC.describe()"
   ]
  },
  {
   "cell_type": "markdown",
   "metadata": {},
   "source": [
    "#### Veo la cantidad de personas que entraron por primera vez a la página desde sus celulares y volvieron desde sus PCs"
   ]
  },
  {
   "cell_type": "code",
   "execution_count": null,
   "metadata": {},
   "outputs": [],
   "source": [
    "cantidad_personas_que_volvieron_enPC = personas_new_Smartphone_ret_PC['Volvieron_en_PC'].value_counts()\n",
    "cantidad_personas_que_volvieron_enPC\n"
   ]
  },
  {
   "cell_type": "code",
   "execution_count": null,
   "metadata": {},
   "outputs": [],
   "source": [
    "g_personas_ret_PC = cantidad_personas_que_volvieron_enPC.plot('bar')\n",
    "g_personas_ret_PC.set_title('Personas que vuelven a la pagina desde la PC luego de entrar por primera vez desde Smartphone')\n",
    "g_personas_ret_PC.set_xlabel('Vuelve a la pagina')\n",
    "g_personas_ret_PC.set_ylabel('Cantidad de personas')\n",
    "g_personas_ret_PC.set_xticklabels(['No','Sí'])\n"
   ]
  },
  {
   "cell_type": "markdown",
   "metadata": {},
   "source": [
    "Se nota que no es representativa el numero de personas que entran primero a la pagina por sus celulares y luego vuelven a entrar desde la PC"
   ]
  },
  {
   "cell_type": "markdown",
   "metadata": {},
   "source": [
    "#### Analizamos si de las personas que vuelven a entrar desde la PC (y que primero ingresaron con sus Smartphones) terminan realizando alguna compra"
   ]
  },
  {
   "cell_type": "code",
   "execution_count": null,
   "metadata": {},
   "outputs": [],
   "source": [
    "personas_que_compraron = df.loc[df['event']=='conversion',['person']].drop_duplicates()\n",
    "personas_que_compraron['compro'] = True\n",
    "personas_que_compraron.head()"
   ]
  },
  {
   "cell_type": "code",
   "execution_count": null,
   "metadata": {},
   "outputs": [],
   "source": [
    "personas_vuelven_y_compran = pd.merge(personas_new_Smartphone_ret_PC, personas_que_compraron, on='person', how='left').drop_duplicates()\n",
    "personas_vuelven_y_compran['compro'].fillna(False,inplace=True)\n",
    "cantidad_personas_que_vuelven_y_compran = personas_vuelven_y_compran.loc[personas_vuelven_y_compran['Volvieron_en_PC']==True]\\\n",
    "                ['compro'].value_counts()\n",
    "cantidad_personas_que_vuelven_y_compran"
   ]
  },
  {
   "cell_type": "code",
   "execution_count": null,
   "metadata": {},
   "outputs": [],
   "source": [
    "g5 = cantidad_personas_que_vuelven_y_compran.plot('bar',)\n",
    "g5.set_title(\"Compradores que entraron por primera vez en Smartphone, y luego volvieron en PC \")\n",
    "g5.set_xlabel(\"Compraron\")\n",
    "g5.set_ylabel(\"Cantidad de personas\")\n",
    "g5.set_xticklabels(['No','Sí'])\n",
    "mostrar_porcentaje_barplot(g5)"
   ]
  },
  {
   "cell_type": "markdown",
   "metadata": {},
   "source": [
    "Podemos ver que de las personas que volvieron a la pagina desde sus PCs luego de entrar desde sus SmartPhones, un 28,4% realizo compras"
   ]
  },
  {
   "cell_type": "markdown",
   "metadata": {},
   "source": [
    "## Análisis sobre clientes que ingresaron por primera vez con PC "
   ]
  },
  {
   "cell_type": "code",
   "execution_count": null,
   "metadata": {},
   "outputs": [],
   "source": [
    "#Filtro las personas entraron por primera vez por su celular\n",
    "personas_nuevas_pc = dispositivos_nuevos.loc[(dispositivos_nuevos['device_type']=='Computer'),['person']]\n",
    "\n",
    "#Filtro paralelamente las personas que volvieron a entrar desde sus Smartphones\n",
    "personas_returning_smartphone = dispositivos_registrados.loc[(dispositivos_registrados['device_type']=='Smartphone') & (df['new_vs_returning']=='Returning'),['person']]\n",
    "personas_returning_smartphone['Volvieron_en_Smartphone'] = True"
   ]
  },
  {
   "cell_type": "code",
   "execution_count": null,
   "metadata": {},
   "outputs": [],
   "source": [
    "personas_new_PC_ret_Smartphone = pd.merge(personas_nuevas_pc, personas_returning_smartphone, on='person', how='left').drop_duplicates()\n",
    "personas_new_PC_ret_Smartphone['Volvieron_en_Smartphone'].fillna(False,inplace=True)\n",
    "cantidad_personas_que_volvieron_Smartphone = personas_new_PC_ret_Smartphone['Volvieron_en_Smartphone'].value_counts()\n",
    "cantidad_personas_que_volvieron_Smartphone"
   ]
  },
  {
   "cell_type": "code",
   "execution_count": null,
   "metadata": {},
   "outputs": [],
   "source": [
    "g_personas_ret_Smartphones = cantidad_personas_que_volvieron_Smartphone.plot('bar')\n",
    "g_personas_ret_Smartphones.set_title('Personas que vuelven a la pagina desde Smartphone luego de entrar por primera vez desde PC')\n",
    "g_personas_ret_Smartphones.set_xlabel('Vuelve a la pagina')\n",
    "g_personas_ret_Smartphones.set_ylabel('Cantidad de personas')\n",
    "g_personas_ret_Smartphones.set_xticklabels(['No','Sí'])\n"
   ]
  },
  {
   "cell_type": "code",
   "execution_count": null,
   "metadata": {},
   "outputs": [],
   "source": [
    "personas_vuelven_y_compran2 = pd.merge(personas_new_PC_ret_Smartphone, personas_que_compraron, on='person', how='left').drop_duplicates()\n",
    "personas_vuelven_y_compran2['compro'].fillna(False,inplace=True)\n",
    "cantidad_personas_vuelven_y_compran2 = personas_vuelven_y_compran2.loc[personas_vuelven_y_compran2['Volvieron_en_Smartphone']==True]['compro'].value_counts()"
   ]
  },
  {
   "cell_type": "code",
   "execution_count": null,
   "metadata": {},
   "outputs": [],
   "source": [
    "g6 = cantidad_personas_vuelven_y_compran2.plot('bar',)\n",
    "g6.set_title(\"Compradores que entraron por primera vez en PC, y luego volvieron en Smartphone \")\n",
    "g6.set_xlabel(\"Compraron\")\n",
    "g6.set_ylabel(\"Cantidad de personas\")\n",
    "g6.set_xticklabels(['No','Sí'])\n",
    "mostrar_porcentaje_barplot(g6)\n"
   ]
  },
  {
   "cell_type": "markdown",
   "metadata": {},
   "source": [
    "### Para dar un punto de vista comparativo unificamos los plots anteriores"
   ]
  },
  {
   "cell_type": "code",
   "execution_count": null,
   "metadata": {},
   "outputs": [],
   "source": [
    "concatenados_returning = pd.concat([cantidad_personas_que_volvieron_enPC, cantidad_personas_que_volvieron_Smartphone],axis=1)\n",
    "concatenados_returning.columns = [' Migraron de Smartphone a PC','Migraron de PC a Smartphone']\n",
    "g6 = concatenados_returning.T.plot(kind='barh')\n",
    "g6.set_title('Usuarios que migraron desde su dispositivo inicial a otro')\n",
    "g6.set_xlabel('Cantidad de personas')\n",
    "g6.set_ylabel('Migracion')\n",
    "g6.legend(['No', 'Sí'])"
   ]
  },
  {
   "cell_type": "code",
   "execution_count": null,
   "metadata": {},
   "outputs": [],
   "source": [
    "concatenados_compra = pd.concat([cantidad_personas_que_vuelven_y_compran, cantidad_personas_vuelven_y_compran2], axis=1, )\n",
    "concatenados_compra.columns = ['Smartphone a PC','PC a Smartphone']\n",
    "g7 = concatenados_compra.T.plot(kind='barh')\n",
    "g7.set_title('Compradores que migraron de un dispositivo a otro')\n",
    "g7.set_xlabel('Cantidad de personas')\n",
    "g7.set_ylabel('Migracion')\n",
    "g7.legend(['No compro', 'Compro'])\n"
   ]
  },
  {
   "cell_type": "markdown",
   "metadata": {},
   "source": [
    "#### Con pie chart para comparacion"
   ]
  },
  {
   "cell_type": "code",
   "execution_count": null,
   "metadata": {},
   "outputs": [],
   "source": [
    "g = concatenados_returning.plot(kind='pie', subplots=True,labels= ['No', 'Si'],autopct='%1.1f%%' ,figsize=(12, 6),\\\n",
    "                               title='Usuarios que migraron desde su dispositivo inicial a otro')"
   ]
  },
  {
   "cell_type": "code",
   "execution_count": null,
   "metadata": {},
   "outputs": [],
   "source": [
    "concatenados_compra.plot(kind='pie', subplots=True,labels= ['No compraron', 'Compraron'],autopct='%1.1f%%' ,figsize=(12, 6),\\\n",
    "                        title = 'Compradores que migraron de un dispositivo a otro')"
   ]
  },
  {
   "cell_type": "code",
   "execution_count": null,
   "metadata": {},
   "outputs": [],
   "source": []
  }
 ],
 "metadata": {
  "kernelspec": {
   "display_name": "Python 3",
   "language": "python",
   "name": "python3"
  },
  "language_info": {
   "codemirror_mode": {
    "name": "ipython",
    "version": 3
   },
   "file_extension": ".py",
   "mimetype": "text/x-python",
   "name": "python",
   "nbconvert_exporter": "python",
   "pygments_lexer": "ipython3",
   "version": "3.6.5"
  }
 },
 "nbformat": 4,
 "nbformat_minor": 2
}
