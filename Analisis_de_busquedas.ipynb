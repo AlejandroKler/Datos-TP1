{
 "cells": [
  {
   "cell_type": "markdown",
   "metadata": {},
   "source": [
    "# Análisis de búsquedas"
   ]
  },
  {
   "cell_type": "markdown",
   "metadata": {},
   "source": [
    "Esta sección tiene como objetivo analizar el evento 'searched products', el cual representa una búsqueda en la pagina web. \n",
    "Cargamos el DataFrame original:"
   ]
  },
  {
   "cell_type": "code",
   "execution_count": null,
   "metadata": {},
   "outputs": [],
   "source": [
    "import pandas as pd\n",
    "import numpy as np\n",
    "import matplotlib.pyplot as plt\n",
    "import seaborn as sns\n",
    "from wordcloud import WordCloud\n",
    "from PIL import Image\n",
    "%matplotlib inline\n",
    "plt.style.use('default')\n",
    "sns.set()\n",
    "\n",
    "#Cargo el DataFrame\n",
    "df = pd.read_csv('events.csv', low_memory = False, parse_dates = ['timestamp'], infer_datetime_format = True,\n",
    "                    dtype = {'event': 'category','condition': 'category','storage': 'category', 'color': 'category', 'staticpage': 'category', 'campaign_source': 'category', 'search_engine': 'category', 'channel': 'category', 'new_vs_returning': 'category', 'region': 'category', 'country': 'category', 'device_type': 'category'})"
   ]
  },
  {
   "cell_type": "markdown",
   "metadata": {},
   "source": [
    "### Términos más buscados"
   ]
  },
  {
   "cell_type": "markdown",
   "metadata": {},
   "source": [
    "Para analizar los términos, primero juntamos todas las palabras utilizadas en las búsquedas. Para evitar palabras duplicadas, las convertimos todas a mayúsculas."
   ]
  },
  {
   "cell_type": "code",
   "execution_count": null,
   "metadata": {},
   "outputs": [],
   "source": [
    "search_terms = df.loc[df[\"event\"]== \"searched products\",[\"search_term\"]][\"search_term\"].dropna().tolist()\n",
    "text = \" \".join(search_terms).upper()"
   ]
  },
  {
   "cell_type": "markdown",
   "metadata": {},
   "source": [
    "La mejor forma de apreciar esta información es utilizando un gráfico donde el tamaño de cada palabra represente el número de apariciones en la búsqueda.\n",
    "Con el fin de hacerlo mas agradable, utilizaremos el logo de Trocafone para darle forma al conjunto de palabras."
   ]
  },
  {
   "cell_type": "code",
   "execution_count": null,
   "metadata": {},
   "outputs": [],
   "source": [
    "# Carga de imagen\n",
    "image_array = np.array(Image.open(\"imagenes/logo_500x500.png\"))\n",
    "# Conversion de pixeles para usarla como mascara\n",
    "transformed_image_array = np.ndarray((image_array.shape[0],image_array.shape[1]), np.int32)\n",
    "for i in range(len(image_array)):\n",
    "    transformed_image_array[i] = list(map(lambda val: 0 if val == 0 else 255, image_array[i]))\n",
    "    "
   ]
  },
  {
   "cell_type": "code",
   "execution_count": null,
   "metadata": {},
   "outputs": [],
   "source": [
    "wc = WordCloud(max_words=2000,max_font_size=500,min_font_size=3\\\n",
    "               ,mask=transformed_image_array, background_color=\"white\"\\\n",
    "               ,collocations=False # Considerar solo una palabra y no frases\n",
    "              ).generate(text)\n",
    "\n",
    "plt.figure(figsize=(8,8))\n",
    "plt.imshow(wc,interpolation=\"kaiser\")\n",
    "plt.axis(\"off\")\n",
    "plt.show()"
   ]
  },
  {
   "cell_type": "markdown",
   "metadata": {},
   "source": [
    "Se puede observar que la palabra mas buscada es 'IPHONE', seguido por SAMSUNG,GALAXY,6S,MOTO, entre otras."
   ]
  }
 ],
 "metadata": {
  "kernelspec": {
   "display_name": "Python 3",
   "language": "python",
   "name": "python3"
  },
  "language_info": {
   "codemirror_mode": {
    "name": "ipython",
    "version": 3
   },
   "file_extension": ".py",
   "mimetype": "text/x-python",
   "name": "python",
   "nbconvert_exporter": "python",
   "pygments_lexer": "ipython3",
   "version": "3.6.5"
  }
 },
 "nbformat": 4,
 "nbformat_minor": 2
}
